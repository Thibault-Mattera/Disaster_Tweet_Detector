{
  "nbformat": 4,
  "nbformat_minor": 0,
  "metadata": {
    "colab": {
      "name": "twitter_disaster_BERT_TensorFlow_Hub_v2.ipynb",
      "provenance": [],
      "collapsed_sections": [],
      "toc_visible": true
    },
    "kernelspec": {
      "name": "python3",
      "display_name": "Python 3"
    },
    "accelerator": "GPU",
    "widgets": {
      "application/vnd.jupyter.widget-state+json": {
        "2c87f8e285ae442cac809c0f74df210b": {
          "model_module": "@jupyter-widgets/controls",
          "model_name": "HBoxModel",
          "state": {
            "_view_name": "HBoxView",
            "_dom_classes": [],
            "_model_name": "HBoxModel",
            "_view_module": "@jupyter-widgets/controls",
            "_model_module_version": "1.5.0",
            "_view_count": null,
            "_view_module_version": "1.5.0",
            "box_style": "",
            "layout": "IPY_MODEL_6f5f6b6483134ef79d70e919428988be",
            "_model_module": "@jupyter-widgets/controls",
            "children": [
              "IPY_MODEL_ecd81d9666954ffbabc9a7309351f0eb",
              "IPY_MODEL_ef02f78dfda6492cb834b1d2feaefe13"
            ]
          }
        },
        "6f5f6b6483134ef79d70e919428988be": {
          "model_module": "@jupyter-widgets/base",
          "model_name": "LayoutModel",
          "state": {
            "_view_name": "LayoutView",
            "grid_template_rows": null,
            "right": null,
            "justify_content": null,
            "_view_module": "@jupyter-widgets/base",
            "overflow": null,
            "_model_module_version": "1.2.0",
            "_view_count": null,
            "flex_flow": null,
            "width": null,
            "min_width": null,
            "border": null,
            "align_items": null,
            "bottom": null,
            "_model_module": "@jupyter-widgets/base",
            "top": null,
            "grid_column": null,
            "overflow_y": null,
            "overflow_x": null,
            "grid_auto_flow": null,
            "grid_area": null,
            "grid_template_columns": null,
            "flex": null,
            "_model_name": "LayoutModel",
            "justify_items": null,
            "grid_row": null,
            "max_height": null,
            "align_content": null,
            "visibility": null,
            "align_self": null,
            "height": null,
            "min_height": null,
            "padding": null,
            "grid_auto_rows": null,
            "grid_gap": null,
            "max_width": null,
            "order": null,
            "_view_module_version": "1.2.0",
            "grid_template_areas": null,
            "object_position": null,
            "object_fit": null,
            "grid_auto_columns": null,
            "margin": null,
            "display": null,
            "left": null
          }
        },
        "ecd81d9666954ffbabc9a7309351f0eb": {
          "model_module": "@jupyter-widgets/controls",
          "model_name": "IntProgressModel",
          "state": {
            "_view_name": "ProgressView",
            "style": "IPY_MODEL_fe5537ff732342fdaa15e54748ca4cd7",
            "_dom_classes": [],
            "description": "Converting examples to features",
            "_model_name": "IntProgressModel",
            "bar_style": "success",
            "max": 5709,
            "_view_module": "@jupyter-widgets/controls",
            "_model_module_version": "1.5.0",
            "value": 5709,
            "_view_count": null,
            "_view_module_version": "1.5.0",
            "orientation": "horizontal",
            "min": 0,
            "description_tooltip": null,
            "_model_module": "@jupyter-widgets/controls",
            "layout": "IPY_MODEL_a9bb97ed193744f888384f83ec1e2eee"
          }
        },
        "ef02f78dfda6492cb834b1d2feaefe13": {
          "model_module": "@jupyter-widgets/controls",
          "model_name": "HTMLModel",
          "state": {
            "_view_name": "HTMLView",
            "style": "IPY_MODEL_6afbd2c3ecc1437394ff38ad5069b9ee",
            "_dom_classes": [],
            "description": "",
            "_model_name": "HTMLModel",
            "placeholder": "​",
            "_view_module": "@jupyter-widgets/controls",
            "_model_module_version": "1.5.0",
            "value": "100% 5709/5709 [00:01&lt;00:00, 3275.54it/s]",
            "_view_count": null,
            "_view_module_version": "1.5.0",
            "description_tooltip": null,
            "_model_module": "@jupyter-widgets/controls",
            "layout": "IPY_MODEL_8ea208062830458eb01d52a36b506e12"
          }
        },
        "fe5537ff732342fdaa15e54748ca4cd7": {
          "model_module": "@jupyter-widgets/controls",
          "model_name": "ProgressStyleModel",
          "state": {
            "_view_name": "StyleView",
            "_model_name": "ProgressStyleModel",
            "description_width": "initial",
            "_view_module": "@jupyter-widgets/base",
            "_model_module_version": "1.5.0",
            "_view_count": null,
            "_view_module_version": "1.2.0",
            "bar_color": null,
            "_model_module": "@jupyter-widgets/controls"
          }
        },
        "a9bb97ed193744f888384f83ec1e2eee": {
          "model_module": "@jupyter-widgets/base",
          "model_name": "LayoutModel",
          "state": {
            "_view_name": "LayoutView",
            "grid_template_rows": null,
            "right": null,
            "justify_content": null,
            "_view_module": "@jupyter-widgets/base",
            "overflow": null,
            "_model_module_version": "1.2.0",
            "_view_count": null,
            "flex_flow": null,
            "width": null,
            "min_width": null,
            "border": null,
            "align_items": null,
            "bottom": null,
            "_model_module": "@jupyter-widgets/base",
            "top": null,
            "grid_column": null,
            "overflow_y": null,
            "overflow_x": null,
            "grid_auto_flow": null,
            "grid_area": null,
            "grid_template_columns": null,
            "flex": null,
            "_model_name": "LayoutModel",
            "justify_items": null,
            "grid_row": null,
            "max_height": null,
            "align_content": null,
            "visibility": null,
            "align_self": null,
            "height": null,
            "min_height": null,
            "padding": null,
            "grid_auto_rows": null,
            "grid_gap": null,
            "max_width": null,
            "order": null,
            "_view_module_version": "1.2.0",
            "grid_template_areas": null,
            "object_position": null,
            "object_fit": null,
            "grid_auto_columns": null,
            "margin": null,
            "display": null,
            "left": null
          }
        },
        "6afbd2c3ecc1437394ff38ad5069b9ee": {
          "model_module": "@jupyter-widgets/controls",
          "model_name": "DescriptionStyleModel",
          "state": {
            "_view_name": "StyleView",
            "_model_name": "DescriptionStyleModel",
            "description_width": "",
            "_view_module": "@jupyter-widgets/base",
            "_model_module_version": "1.5.0",
            "_view_count": null,
            "_view_module_version": "1.2.0",
            "_model_module": "@jupyter-widgets/controls"
          }
        },
        "8ea208062830458eb01d52a36b506e12": {
          "model_module": "@jupyter-widgets/base",
          "model_name": "LayoutModel",
          "state": {
            "_view_name": "LayoutView",
            "grid_template_rows": null,
            "right": null,
            "justify_content": null,
            "_view_module": "@jupyter-widgets/base",
            "overflow": null,
            "_model_module_version": "1.2.0",
            "_view_count": null,
            "flex_flow": null,
            "width": null,
            "min_width": null,
            "border": null,
            "align_items": null,
            "bottom": null,
            "_model_module": "@jupyter-widgets/base",
            "top": null,
            "grid_column": null,
            "overflow_y": null,
            "overflow_x": null,
            "grid_auto_flow": null,
            "grid_area": null,
            "grid_template_columns": null,
            "flex": null,
            "_model_name": "LayoutModel",
            "justify_items": null,
            "grid_row": null,
            "max_height": null,
            "align_content": null,
            "visibility": null,
            "align_self": null,
            "height": null,
            "min_height": null,
            "padding": null,
            "grid_auto_rows": null,
            "grid_gap": null,
            "max_width": null,
            "order": null,
            "_view_module_version": "1.2.0",
            "grid_template_areas": null,
            "object_position": null,
            "object_fit": null,
            "grid_auto_columns": null,
            "margin": null,
            "display": null,
            "left": null
          }
        },
        "a76f6848fe5546baa1645839d05aa8ae": {
          "model_module": "@jupyter-widgets/controls",
          "model_name": "HBoxModel",
          "state": {
            "_view_name": "HBoxView",
            "_dom_classes": [],
            "_model_name": "HBoxModel",
            "_view_module": "@jupyter-widgets/controls",
            "_model_module_version": "1.5.0",
            "_view_count": null,
            "_view_module_version": "1.5.0",
            "box_style": "",
            "layout": "IPY_MODEL_a64ffbebab4d4e8aad2ffdca36bded70",
            "_model_module": "@jupyter-widgets/controls",
            "children": [
              "IPY_MODEL_06d62ca80d9241afa34d6ec888c4e9be",
              "IPY_MODEL_694c4922bac943f29eb50fde93fa1678"
            ]
          }
        },
        "a64ffbebab4d4e8aad2ffdca36bded70": {
          "model_module": "@jupyter-widgets/base",
          "model_name": "LayoutModel",
          "state": {
            "_view_name": "LayoutView",
            "grid_template_rows": null,
            "right": null,
            "justify_content": null,
            "_view_module": "@jupyter-widgets/base",
            "overflow": null,
            "_model_module_version": "1.2.0",
            "_view_count": null,
            "flex_flow": null,
            "width": null,
            "min_width": null,
            "border": null,
            "align_items": null,
            "bottom": null,
            "_model_module": "@jupyter-widgets/base",
            "top": null,
            "grid_column": null,
            "overflow_y": null,
            "overflow_x": null,
            "grid_auto_flow": null,
            "grid_area": null,
            "grid_template_columns": null,
            "flex": null,
            "_model_name": "LayoutModel",
            "justify_items": null,
            "grid_row": null,
            "max_height": null,
            "align_content": null,
            "visibility": null,
            "align_self": null,
            "height": null,
            "min_height": null,
            "padding": null,
            "grid_auto_rows": null,
            "grid_gap": null,
            "max_width": null,
            "order": null,
            "_view_module_version": "1.2.0",
            "grid_template_areas": null,
            "object_position": null,
            "object_fit": null,
            "grid_auto_columns": null,
            "margin": null,
            "display": null,
            "left": null
          }
        },
        "06d62ca80d9241afa34d6ec888c4e9be": {
          "model_module": "@jupyter-widgets/controls",
          "model_name": "IntProgressModel",
          "state": {
            "_view_name": "ProgressView",
            "style": "IPY_MODEL_819007298ead4bdb9f870a843050d0cb",
            "_dom_classes": [],
            "description": "Converting examples to features",
            "_model_name": "IntProgressModel",
            "bar_style": "success",
            "max": 1903,
            "_view_module": "@jupyter-widgets/controls",
            "_model_module_version": "1.5.0",
            "value": 1903,
            "_view_count": null,
            "_view_module_version": "1.5.0",
            "orientation": "horizontal",
            "min": 0,
            "description_tooltip": null,
            "_model_module": "@jupyter-widgets/controls",
            "layout": "IPY_MODEL_59c6eca198fb43feb06bf809848e0680"
          }
        },
        "694c4922bac943f29eb50fde93fa1678": {
          "model_module": "@jupyter-widgets/controls",
          "model_name": "HTMLModel",
          "state": {
            "_view_name": "HTMLView",
            "style": "IPY_MODEL_b20ff9c2a0984fbb9e06961528031ab8",
            "_dom_classes": [],
            "description": "",
            "_model_name": "HTMLModel",
            "placeholder": "​",
            "_view_module": "@jupyter-widgets/controls",
            "_model_module_version": "1.5.0",
            "value": "100% 1903/1903 [00:00&lt;00:00, 3389.99it/s]",
            "_view_count": null,
            "_view_module_version": "1.5.0",
            "description_tooltip": null,
            "_model_module": "@jupyter-widgets/controls",
            "layout": "IPY_MODEL_187e76a9c1df44da9e08aaf5b115a024"
          }
        },
        "819007298ead4bdb9f870a843050d0cb": {
          "model_module": "@jupyter-widgets/controls",
          "model_name": "ProgressStyleModel",
          "state": {
            "_view_name": "StyleView",
            "_model_name": "ProgressStyleModel",
            "description_width": "initial",
            "_view_module": "@jupyter-widgets/base",
            "_model_module_version": "1.5.0",
            "_view_count": null,
            "_view_module_version": "1.2.0",
            "bar_color": null,
            "_model_module": "@jupyter-widgets/controls"
          }
        },
        "59c6eca198fb43feb06bf809848e0680": {
          "model_module": "@jupyter-widgets/base",
          "model_name": "LayoutModel",
          "state": {
            "_view_name": "LayoutView",
            "grid_template_rows": null,
            "right": null,
            "justify_content": null,
            "_view_module": "@jupyter-widgets/base",
            "overflow": null,
            "_model_module_version": "1.2.0",
            "_view_count": null,
            "flex_flow": null,
            "width": null,
            "min_width": null,
            "border": null,
            "align_items": null,
            "bottom": null,
            "_model_module": "@jupyter-widgets/base",
            "top": null,
            "grid_column": null,
            "overflow_y": null,
            "overflow_x": null,
            "grid_auto_flow": null,
            "grid_area": null,
            "grid_template_columns": null,
            "flex": null,
            "_model_name": "LayoutModel",
            "justify_items": null,
            "grid_row": null,
            "max_height": null,
            "align_content": null,
            "visibility": null,
            "align_self": null,
            "height": null,
            "min_height": null,
            "padding": null,
            "grid_auto_rows": null,
            "grid_gap": null,
            "max_width": null,
            "order": null,
            "_view_module_version": "1.2.0",
            "grid_template_areas": null,
            "object_position": null,
            "object_fit": null,
            "grid_auto_columns": null,
            "margin": null,
            "display": null,
            "left": null
          }
        },
        "b20ff9c2a0984fbb9e06961528031ab8": {
          "model_module": "@jupyter-widgets/controls",
          "model_name": "DescriptionStyleModel",
          "state": {
            "_view_name": "StyleView",
            "_model_name": "DescriptionStyleModel",
            "description_width": "",
            "_view_module": "@jupyter-widgets/base",
            "_model_module_version": "1.5.0",
            "_view_count": null,
            "_view_module_version": "1.2.0",
            "_model_module": "@jupyter-widgets/controls"
          }
        },
        "187e76a9c1df44da9e08aaf5b115a024": {
          "model_module": "@jupyter-widgets/base",
          "model_name": "LayoutModel",
          "state": {
            "_view_name": "LayoutView",
            "grid_template_rows": null,
            "right": null,
            "justify_content": null,
            "_view_module": "@jupyter-widgets/base",
            "overflow": null,
            "_model_module_version": "1.2.0",
            "_view_count": null,
            "flex_flow": null,
            "width": null,
            "min_width": null,
            "border": null,
            "align_items": null,
            "bottom": null,
            "_model_module": "@jupyter-widgets/base",
            "top": null,
            "grid_column": null,
            "overflow_y": null,
            "overflow_x": null,
            "grid_auto_flow": null,
            "grid_area": null,
            "grid_template_columns": null,
            "flex": null,
            "_model_name": "LayoutModel",
            "justify_items": null,
            "grid_row": null,
            "max_height": null,
            "align_content": null,
            "visibility": null,
            "align_self": null,
            "height": null,
            "min_height": null,
            "padding": null,
            "grid_auto_rows": null,
            "grid_gap": null,
            "max_width": null,
            "order": null,
            "_view_module_version": "1.2.0",
            "grid_template_areas": null,
            "object_position": null,
            "object_fit": null,
            "grid_auto_columns": null,
            "margin": null,
            "display": null,
            "left": null
          }
        },
        "282ba435c0164fe1be639ab74c430ab4": {
          "model_module": "@jupyter-widgets/controls",
          "model_name": "HBoxModel",
          "state": {
            "_view_name": "HBoxView",
            "_dom_classes": [],
            "_model_name": "HBoxModel",
            "_view_module": "@jupyter-widgets/controls",
            "_model_module_version": "1.5.0",
            "_view_count": null,
            "_view_module_version": "1.5.0",
            "box_style": "",
            "layout": "IPY_MODEL_857d92a451d449ab99ede9c4df6bce69",
            "_model_module": "@jupyter-widgets/controls",
            "children": [
              "IPY_MODEL_7d05662d42504e9e9384bd7a98330250",
              "IPY_MODEL_2ad7dcc76dfa4e2f852aa09930685cf5"
            ]
          }
        },
        "857d92a451d449ab99ede9c4df6bce69": {
          "model_module": "@jupyter-widgets/base",
          "model_name": "LayoutModel",
          "state": {
            "_view_name": "LayoutView",
            "grid_template_rows": null,
            "right": null,
            "justify_content": null,
            "_view_module": "@jupyter-widgets/base",
            "overflow": null,
            "_model_module_version": "1.2.0",
            "_view_count": null,
            "flex_flow": null,
            "width": null,
            "min_width": null,
            "border": null,
            "align_items": null,
            "bottom": null,
            "_model_module": "@jupyter-widgets/base",
            "top": null,
            "grid_column": null,
            "overflow_y": null,
            "overflow_x": null,
            "grid_auto_flow": null,
            "grid_area": null,
            "grid_template_columns": null,
            "flex": null,
            "_model_name": "LayoutModel",
            "justify_items": null,
            "grid_row": null,
            "max_height": null,
            "align_content": null,
            "visibility": null,
            "align_self": null,
            "height": null,
            "min_height": null,
            "padding": null,
            "grid_auto_rows": null,
            "grid_gap": null,
            "max_width": null,
            "order": null,
            "_view_module_version": "1.2.0",
            "grid_template_areas": null,
            "object_position": null,
            "object_fit": null,
            "grid_auto_columns": null,
            "margin": null,
            "display": null,
            "left": null
          }
        },
        "7d05662d42504e9e9384bd7a98330250": {
          "model_module": "@jupyter-widgets/controls",
          "model_name": "IntProgressModel",
          "state": {
            "_view_name": "ProgressView",
            "style": "IPY_MODEL_eb27caf4ee7748f2b9129f1b4d897ba4",
            "_dom_classes": [],
            "description": "Converting examples to features",
            "_model_name": "IntProgressModel",
            "bar_style": "success",
            "max": 3263,
            "_view_module": "@jupyter-widgets/controls",
            "_model_module_version": "1.5.0",
            "value": 3263,
            "_view_count": null,
            "_view_module_version": "1.5.0",
            "orientation": "horizontal",
            "min": 0,
            "description_tooltip": null,
            "_model_module": "@jupyter-widgets/controls",
            "layout": "IPY_MODEL_47621ddaca5a4db1b57ad1ed1b44f642"
          }
        },
        "2ad7dcc76dfa4e2f852aa09930685cf5": {
          "model_module": "@jupyter-widgets/controls",
          "model_name": "HTMLModel",
          "state": {
            "_view_name": "HTMLView",
            "style": "IPY_MODEL_aa4b318e2e9f43efa5fd2f3fb9e30492",
            "_dom_classes": [],
            "description": "",
            "_model_name": "HTMLModel",
            "placeholder": "​",
            "_view_module": "@jupyter-widgets/controls",
            "_model_module_version": "1.5.0",
            "value": "100% 3263/3263 [00:01&lt;00:00, 2865.69it/s]",
            "_view_count": null,
            "_view_module_version": "1.5.0",
            "description_tooltip": null,
            "_model_module": "@jupyter-widgets/controls",
            "layout": "IPY_MODEL_227ff91f91c7453dbbe605535b4b4ba0"
          }
        },
        "eb27caf4ee7748f2b9129f1b4d897ba4": {
          "model_module": "@jupyter-widgets/controls",
          "model_name": "ProgressStyleModel",
          "state": {
            "_view_name": "StyleView",
            "_model_name": "ProgressStyleModel",
            "description_width": "initial",
            "_view_module": "@jupyter-widgets/base",
            "_model_module_version": "1.5.0",
            "_view_count": null,
            "_view_module_version": "1.2.0",
            "bar_color": null,
            "_model_module": "@jupyter-widgets/controls"
          }
        },
        "47621ddaca5a4db1b57ad1ed1b44f642": {
          "model_module": "@jupyter-widgets/base",
          "model_name": "LayoutModel",
          "state": {
            "_view_name": "LayoutView",
            "grid_template_rows": null,
            "right": null,
            "justify_content": null,
            "_view_module": "@jupyter-widgets/base",
            "overflow": null,
            "_model_module_version": "1.2.0",
            "_view_count": null,
            "flex_flow": null,
            "width": null,
            "min_width": null,
            "border": null,
            "align_items": null,
            "bottom": null,
            "_model_module": "@jupyter-widgets/base",
            "top": null,
            "grid_column": null,
            "overflow_y": null,
            "overflow_x": null,
            "grid_auto_flow": null,
            "grid_area": null,
            "grid_template_columns": null,
            "flex": null,
            "_model_name": "LayoutModel",
            "justify_items": null,
            "grid_row": null,
            "max_height": null,
            "align_content": null,
            "visibility": null,
            "align_self": null,
            "height": null,
            "min_height": null,
            "padding": null,
            "grid_auto_rows": null,
            "grid_gap": null,
            "max_width": null,
            "order": null,
            "_view_module_version": "1.2.0",
            "grid_template_areas": null,
            "object_position": null,
            "object_fit": null,
            "grid_auto_columns": null,
            "margin": null,
            "display": null,
            "left": null
          }
        },
        "aa4b318e2e9f43efa5fd2f3fb9e30492": {
          "model_module": "@jupyter-widgets/controls",
          "model_name": "DescriptionStyleModel",
          "state": {
            "_view_name": "StyleView",
            "_model_name": "DescriptionStyleModel",
            "description_width": "",
            "_view_module": "@jupyter-widgets/base",
            "_model_module_version": "1.5.0",
            "_view_count": null,
            "_view_module_version": "1.2.0",
            "_model_module": "@jupyter-widgets/controls"
          }
        },
        "227ff91f91c7453dbbe605535b4b4ba0": {
          "model_module": "@jupyter-widgets/base",
          "model_name": "LayoutModel",
          "state": {
            "_view_name": "LayoutView",
            "grid_template_rows": null,
            "right": null,
            "justify_content": null,
            "_view_module": "@jupyter-widgets/base",
            "overflow": null,
            "_model_module_version": "1.2.0",
            "_view_count": null,
            "flex_flow": null,
            "width": null,
            "min_width": null,
            "border": null,
            "align_items": null,
            "bottom": null,
            "_model_module": "@jupyter-widgets/base",
            "top": null,
            "grid_column": null,
            "overflow_y": null,
            "overflow_x": null,
            "grid_auto_flow": null,
            "grid_area": null,
            "grid_template_columns": null,
            "flex": null,
            "_model_name": "LayoutModel",
            "justify_items": null,
            "grid_row": null,
            "max_height": null,
            "align_content": null,
            "visibility": null,
            "align_self": null,
            "height": null,
            "min_height": null,
            "padding": null,
            "grid_auto_rows": null,
            "grid_gap": null,
            "max_width": null,
            "order": null,
            "_view_module_version": "1.2.0",
            "grid_template_areas": null,
            "object_position": null,
            "object_fit": null,
            "grid_auto_columns": null,
            "margin": null,
            "display": null,
            "left": null
          }
        }
      }
    }
  },
  "cells": [
    {
      "cell_type": "markdown",
      "metadata": {
        "id": "3T_UTH_VMspJ"
      },
      "source": [
        "#1 - Librairies"
      ]
    },
    {
      "cell_type": "code",
      "metadata": {
        "id": "CE4R2ZOZOypC",
        "colab": {
          "base_uri": "https://localhost:8080/",
          "height": 139
        },
        "outputId": "64b788af-1422-42e4-fd1f-ed2a5ed84376"
      },
      "source": [
        "# install BERT tf\n",
        "!pip install bert-tensorflow"
      ],
      "execution_count": null,
      "outputs": [
        {
          "output_type": "stream",
          "text": [
            "Collecting bert-tensorflow\n",
            "\u001b[?25l  Downloading https://files.pythonhosted.org/packages/a6/66/7eb4e8b6ea35b7cc54c322c816f976167a43019750279a8473d355800a93/bert_tensorflow-1.0.1-py2.py3-none-any.whl (67kB)\n",
            "\r\u001b[K     |████▉                           | 10kB 26.7MB/s eta 0:00:01\r\u001b[K     |█████████▊                      | 20kB 5.6MB/s eta 0:00:01\r\u001b[K     |██████████████▋                 | 30kB 7.9MB/s eta 0:00:01\r\u001b[K     |███████████████████▍            | 40kB 10.0MB/s eta 0:00:01\r\u001b[K     |████████████████████████▎       | 51kB 6.7MB/s eta 0:00:01\r\u001b[K     |█████████████████████████████▏  | 61kB 7.8MB/s eta 0:00:01\r\u001b[K     |████████████████████████████████| 71kB 5.5MB/s \n",
            "\u001b[?25hRequirement already satisfied: six in /usr/local/lib/python3.6/dist-packages (from bert-tensorflow) (1.12.0)\n",
            "Installing collected packages: bert-tensorflow\n",
            "Successfully installed bert-tensorflow-1.0.1\n"
          ],
          "name": "stdout"
        }
      ]
    },
    {
      "cell_type": "code",
      "metadata": {
        "id": "Towng4Zew9Xo",
        "colab": {
          "base_uri": "https://localhost:8080/",
          "height": 131
        },
        "outputId": "4244943b-86fe-4f9f-d097-0d8935bd0fc7"
      },
      "source": [
        "# import librairies for deep learning\n",
        "\n",
        "#from __future__ import absolute_import, division, print_function, unicode_literals\n",
        "#try:\n",
        "  # %tensorflow_version only exists in Colab.\n",
        "#  %tensorflow_version 2.x\n",
        "#except Exception:\n",
        "#  pass\n",
        "import tensorflow as tf\n",
        "from tensorflow.keras.models import Model, Sequential\n",
        "from tensorflow.keras.layers import Dense, Flatten, Dropout\n",
        "from tensorflow.keras.applications import VGG16\n",
        "from tensorflow.keras.applications.vgg16 import preprocess_input, decode_predictions\n",
        "from tensorflow.keras.preprocessing.image import ImageDataGenerator\n",
        "from tensorflow.keras.optimizers import Adam, RMSprop\n",
        "from tensorflow.keras import layers\n",
        "from keras.layers import Embedding, LSTM, GRU\n",
        "from keras.layers.embeddings import Embedding\n",
        "from keras.preprocessing.sequence import pad_sequences\n",
        "from keras.preprocessing.text import Tokenizer\n",
        "import numpy as np\n",
        "import pandas as pd\n",
        "from gensim.scripts.glove2word2vec import glove2word2vec\n",
        "import nltk\n",
        "nltk.download('punkt')\n",
        "from nltk.tokenize import word_tokenize\n",
        "from keras import backend as K\n",
        "from matplotlib import pyplot\n",
        "from gensim.models import word2vec\n",
        "from tensorflow.python.keras import Sequential\n",
        "from tensorflow.python.keras.layers import Dense, Embedding, LSTM, GRU, Conv1D, GlobalMaxPool1D\n",
        "from keras.initializers import Constant\n",
        "# test GloVe model \n",
        "from gensim.models import KeyedVectors\n",
        "import tensorflow_hub as hub\n",
        "from tensorflow.keras.models import load_model\n",
        "from bert.tokenization import FullTokenizer\n",
        "from tqdm import tqdm_notebook\n",
        "from tensorflow.keras import backend as K\n",
        "import matplotlib\n",
        "import matplotlib.pyplot as plt\n",
        "import seaborn as sns\n",
        "import re\n",
        "from sklearn.metrics import classification_report,confusion_matrix\n",
        "# print tensorflow version\n",
        "tf.__version__"
      ],
      "execution_count": null,
      "outputs": [
        {
          "output_type": "display_data",
          "data": {
            "text/html": [
              "<p style=\"color: red;\">\n",
              "The default version of TensorFlow in Colab will soon switch to TensorFlow 2.x.<br>\n",
              "We recommend you <a href=\"https://www.tensorflow.org/guide/migrate\" target=\"_blank\">upgrade</a> now \n",
              "or ensure your notebook will continue to use TensorFlow 1.x via the <code>%tensorflow_version 1.x</code> magic:\n",
              "<a href=\"https://colab.research.google.com/notebooks/tensorflow_version.ipynb\" target=\"_blank\">more info</a>.</p>\n"
            ],
            "text/plain": [
              "<IPython.core.display.HTML object>"
            ]
          },
          "metadata": {
            "tags": []
          }
        },
        {
          "output_type": "stream",
          "text": [
            "Using TensorFlow backend.\n"
          ],
          "name": "stderr"
        },
        {
          "output_type": "stream",
          "text": [
            "[nltk_data] Downloading package punkt to /root/nltk_data...\n",
            "[nltk_data]   Package punkt is already up-to-date!\n"
          ],
          "name": "stdout"
        },
        {
          "output_type": "execute_result",
          "data": {
            "text/plain": [
              "'1.15.0'"
            ]
          },
          "metadata": {
            "tags": []
          },
          "execution_count": 3
        }
      ]
    },
    {
      "cell_type": "code",
      "metadata": {
        "id": "EC1_YAioEClo"
      },
      "source": [
        "# Initialize session\n",
        "sess = tf.Session()\n",
        "# Params for bert model and tokenization\n",
        "bert_path = \"https://tfhub.dev/google/bert_uncased_L-12_H-768_A-12/1\""
      ],
      "execution_count": null,
      "outputs": []
    },
    {
      "cell_type": "markdown",
      "metadata": {
        "id": "gQPQBK6bM4_A"
      },
      "source": [
        "# 2 - Functions"
      ]
    },
    {
      "cell_type": "markdown",
      "metadata": {
        "id": "ptJUbT8M-kT7"
      },
      "source": [
        "## 2.1 - functions to build BERT model"
      ]
    },
    {
      "cell_type": "code",
      "metadata": {
        "id": "X8Z5Shf-JfUK"
      },
      "source": [
        "class PaddingInputExample(object):\n",
        "    \"\"\"Fake example so the num input examples is a multiple of the batch size.\n",
        "  When running eval/predict on the TPU, we need to pad the number of examples\n",
        "  to be a multiple of the batch size, because the TPU requires a fixed batch\n",
        "  size. The alternative is to drop the last batch, which is bad because it means\n",
        "  the entire output data won't be generated.\n",
        "  We use this class instead of `None` because treating `None` as padding\n",
        "  battches could cause silent errors.\n",
        "  \"\"\"\n",
        "\n",
        "class InputExample(object):\n",
        "    \"\"\"A single training/test example for simple sequence classification.\"\"\"\n",
        "\n",
        "    def __init__(self, guid, text_a, text_b=None, label=None):\n",
        "        \"\"\"Constructs a InputExample.\n",
        "    Args:\n",
        "      guid: Unique id for the example.\n",
        "      text_a: string. The untokenized text of the first sequence. For single\n",
        "        sequence tasks, only this sequence must be specified.\n",
        "      text_b: (Optional) string. The untokenized text of the second sequence.\n",
        "        Only must be specified for sequence pair tasks.\n",
        "      label: (Optional) string. The label of the example. This should be\n",
        "        specified for train and dev examples, but not for test examples.\n",
        "    \"\"\"\n",
        "        self.guid = guid\n",
        "        self.text_a = text_a\n",
        "        self.text_b = text_b\n",
        "        self.label = label\n",
        "\n",
        "def create_tokenizer_from_hub_module():\n",
        "    \"\"\"Get the vocab file and casing info from the Hub module.\"\"\"\n",
        "    bert_module =  hub.Module(bert_path)\n",
        "    tokenization_info = bert_module(signature=\"tokenization_info\", as_dict=True)\n",
        "    vocab_file, do_lower_case = sess.run(\n",
        "        [\n",
        "            tokenization_info[\"vocab_file\"],\n",
        "            tokenization_info[\"do_lower_case\"],\n",
        "        ]\n",
        "    )\n",
        "\n",
        "    return FullTokenizer(vocab_file=vocab_file, do_lower_case=do_lower_case)\n",
        "\n",
        "def convert_single_example(tokenizer, example, max_seq_length=256):\n",
        "    \"\"\"Converts a single `InputExample` into a single `InputFeatures`.\"\"\"\n",
        "\n",
        "    if isinstance(example, PaddingInputExample):\n",
        "        input_ids = [0] * max_seq_length\n",
        "        input_mask = [0] * max_seq_length\n",
        "        segment_ids = [0] * max_seq_length\n",
        "        label = 0\n",
        "        return input_ids, input_mask, segment_ids, label\n",
        "\n",
        "    tokens_a = tokenizer.tokenize(example.text_a)\n",
        "    if len(tokens_a) > max_seq_length - 2:\n",
        "        tokens_a = tokens_a[0 : (max_seq_length - 2)]\n",
        "\n",
        "    tokens = []\n",
        "    segment_ids = []\n",
        "    tokens.append(\"[CLS]\")\n",
        "    segment_ids.append(0)\n",
        "    for token in tokens_a:\n",
        "        tokens.append(token)\n",
        "        segment_ids.append(0)\n",
        "    tokens.append(\"[SEP]\")\n",
        "    segment_ids.append(0)\n",
        "\n",
        "    input_ids = tokenizer.convert_tokens_to_ids(tokens)\n",
        "\n",
        "    # The mask has 1 for real tokens and 0 for padding tokens. Only real\n",
        "    # tokens are attended to.\n",
        "    input_mask = [1] * len(input_ids)\n",
        "\n",
        "    # Zero-pad up to the sequence length.\n",
        "    while len(input_ids) < max_seq_length:\n",
        "        input_ids.append(0)\n",
        "        input_mask.append(0)\n",
        "        segment_ids.append(0)\n",
        "\n",
        "    assert len(input_ids) == max_seq_length\n",
        "    assert len(input_mask) == max_seq_length\n",
        "    assert len(segment_ids) == max_seq_length\n",
        "\n",
        "    return input_ids, input_mask, segment_ids, example.label\n",
        "\n",
        "def convert_examples_to_features(tokenizer, examples, max_seq_length=256):\n",
        "    \"\"\"Convert a set of `InputExample`s to a list of `InputFeatures`.\"\"\"\n",
        "\n",
        "    input_ids, input_masks, segment_ids, labels = [], [], [], []\n",
        "    for example in tqdm_notebook(examples, desc=\"Converting examples to features\"):\n",
        "        input_id, input_mask, segment_id, label = convert_single_example(\n",
        "            tokenizer, example, max_seq_length\n",
        "        )\n",
        "        input_ids.append(input_id)\n",
        "        input_masks.append(input_mask)\n",
        "        segment_ids.append(segment_id)\n",
        "        labels.append(label)\n",
        "    return (\n",
        "        np.array(input_ids),\n",
        "        np.array(input_masks),\n",
        "        np.array(segment_ids),\n",
        "        np.array(labels).reshape(-1, 1),\n",
        "    )\n",
        "\n",
        "def convert_text_to_examples(texts, labels):\n",
        "    \"\"\"Create InputExamples\"\"\"\n",
        "    InputExamples = []\n",
        "    for text, label in zip(texts, labels):\n",
        "        InputExamples.append(\n",
        "            InputExample(guid=None, text_a=\" \".join(text), text_b=None, label=label)\n",
        "        )\n",
        "    return InputExamples"
      ],
      "execution_count": null,
      "outputs": []
    },
    {
      "cell_type": "code",
      "metadata": {
        "id": "zpJ0kPVB6i7p"
      },
      "source": [
        "# Build model\n",
        "def build_model(max_seq_length, opt, nb_trained_layers): \n",
        "    in_id = tf.keras.layers.Input(shape=(max_seq_length,), name=\"input_ids\")\n",
        "    in_mask = tf.keras.layers.Input(shape=(max_seq_length,), name=\"input_masks\")\n",
        "    in_segment = tf.keras.layers.Input(shape=(max_seq_length,), name=\"segment_ids\")\n",
        "    bert_inputs = [in_id, in_mask, in_segment]\n",
        "    \n",
        "    # build BERT neural network model for classification\n",
        "    # n_fine_tune_layers is the number of unfreezed layers (the ones that will be trained)\n",
        "    bert_output = BertLayer(n_fine_tune_layers=nb_trained_layers, pooling=\"first\")(bert_inputs)\n",
        "    dense = tf.keras.layers.Dense(256, activation='relu')(bert_output)\n",
        "    pred = tf.keras.layers.Dense(1, activation='sigmoid')(dense)\n",
        "    \n",
        "    model = tf.keras.models.Model(inputs=bert_inputs, outputs=pred)\n",
        "    model.compile(loss='binary_crossentropy', optimizer=opt, metrics=['accuracy'])\n",
        "    model.summary()\n",
        "    \n",
        "    return model\n",
        "\n",
        "def initialize_vars(sess):\n",
        "    sess.run(tf.local_variables_initializer())\n",
        "    sess.run(tf.global_variables_initializer())\n",
        "    sess.run(tf.tables_initializer())\n",
        "    K.set_session(sess)"
      ],
      "execution_count": null,
      "outputs": []
    },
    {
      "cell_type": "code",
      "metadata": {
        "id": "IVRqXucY-SFm"
      },
      "source": [
        "# define BERT layer\n",
        "class BertLayer(tf.keras.layers.Layer):\n",
        "    def __init__(\n",
        "        self,\n",
        "        n_fine_tune_layers=10,\n",
        "        pooling=\"first\",\n",
        "        bert_path=\"https://tfhub.dev/google/bert_uncased_L-12_H-768_A-12/1\",\n",
        "        **kwargs,\n",
        "    ):\n",
        "        self.n_fine_tune_layers = n_fine_tune_layers\n",
        "        self.trainable = True\n",
        "        self.output_size = 768\n",
        "        self.pooling = pooling\n",
        "        self.bert_path = bert_path\n",
        "        if self.pooling not in [\"first\", \"mean\"]:\n",
        "            raise NameError(\n",
        "                f\"Undefined pooling type (must be either first or mean, but is {self.pooling}\"\n",
        "            )\n",
        "\n",
        "        super(BertLayer, self).__init__(**kwargs)\n",
        "\n",
        "    def build(self, input_shape):\n",
        "        self.bert = hub.Module(\n",
        "            self.bert_path, trainable=self.trainable, name=f\"{self.name}_module\"\n",
        "        )\n",
        "\n",
        "        # Remove unused layers\n",
        "        trainable_vars = self.bert.variables\n",
        "        if self.pooling == \"first\":\n",
        "            trainable_vars = [var for var in trainable_vars if not \"/cls/\" in var.name]\n",
        "            trainable_layers = [\"pooler/dense\"]\n",
        "\n",
        "        elif self.pooling == \"mean\":\n",
        "            trainable_vars = [\n",
        "                var\n",
        "                for var in trainable_vars\n",
        "                if not \"/cls/\" in var.name and not \"/pooler/\" in var.name\n",
        "            ]\n",
        "            trainable_layers = []\n",
        "        else:\n",
        "            raise NameError(\n",
        "                f\"Undefined pooling type (must be either first or mean, but is {self.pooling}\"\n",
        "            )\n",
        "\n",
        "        # Select how many layers to fine tune\n",
        "        for i in range(self.n_fine_tune_layers):\n",
        "            trainable_layers.append(f\"encoder/layer_{str(11 - i)}\")\n",
        "\n",
        "        # Update trainable vars to contain only the specified layers\n",
        "        trainable_vars = [\n",
        "            var\n",
        "            for var in trainable_vars\n",
        "            if any([l in var.name for l in trainable_layers])\n",
        "        ]\n",
        "\n",
        "        # Add to trainable weights\n",
        "        for var in trainable_vars:\n",
        "            self._trainable_weights.append(var)\n",
        "\n",
        "        for var in self.bert.variables:\n",
        "            if var not in self._trainable_weights:\n",
        "                self._non_trainable_weights.append(var)\n",
        "\n",
        "        super(BertLayer, self).build(input_shape)\n",
        "\n",
        "    def call(self, inputs):\n",
        "        inputs = [K.cast(x, dtype=\"int32\") for x in inputs]\n",
        "        input_ids, input_mask, segment_ids = inputs\n",
        "        bert_inputs = dict(\n",
        "            input_ids=input_ids, input_mask=input_mask, segment_ids=segment_ids\n",
        "        )\n",
        "        if self.pooling == \"first\":\n",
        "            pooled = self.bert(inputs=bert_inputs, signature=\"tokens\", as_dict=True)[\n",
        "                \"pooled_output\"\n",
        "            ]\n",
        "        elif self.pooling == \"mean\":\n",
        "            result = self.bert(inputs=bert_inputs, signature=\"tokens\", as_dict=True)[\n",
        "                \"sequence_output\"\n",
        "            ]\n",
        "\n",
        "            mul_mask = lambda x, m: x * tf.expand_dims(m, axis=-1)\n",
        "            masked_reduce_mean = lambda x, m: tf.reduce_sum(mul_mask(x, m), axis=1) / (\n",
        "                    tf.reduce_sum(m, axis=1, keepdims=True) + 1e-10)\n",
        "            input_mask = tf.cast(input_mask, tf.float32)\n",
        "            pooled = masked_reduce_mean(result, input_mask)\n",
        "        else:\n",
        "            raise NameError(f\"Undefined pooling type (must be either first or mean, but is {self.pooling}\")\n",
        "\n",
        "        return pooled\n",
        "\n",
        "    def compute_output_shape(self, input_shape):\n",
        "        return (input_shape[0], self.output_size)\n",
        "\n",
        "    def get_config(self):\n",
        "        config = super().get_config().copy()\n",
        "        config.update({\n",
        "            'n_fine_tune_layers': self.n_fine_tune_layers,\n",
        "            'trainable': self.trainable,\n",
        "            'output_size': self.output_size,\n",
        "            'pooling': self.pooling,\n",
        "            'bert_path': self.bert_path,\n",
        "        })\n",
        "        return config"
      ],
      "execution_count": null,
      "outputs": []
    },
    {
      "cell_type": "markdown",
      "metadata": {
        "id": "5dAywMYKDYC8"
      },
      "source": [
        "## 2.1 - text processing functions"
      ]
    },
    {
      "cell_type": "code",
      "metadata": {
        "id": "KfIsP68ADYbN"
      },
      "source": [
        "# remove urls\n",
        "def remove_url(text):\n",
        "    cleaned_text=re.sub(r'http\\S+', '', text)\n",
        "    return cleaned_text"
      ],
      "execution_count": null,
      "outputs": []
    },
    {
      "cell_type": "code",
      "metadata": {
        "id": "S2UkbE795i1R"
      },
      "source": [
        "def clean_ascii(text):\n",
        "    # function to remove non-ASCII chars from data\n",
        "    return ''.join(i for i in text if ord(i) < 128)"
      ],
      "execution_count": null,
      "outputs": []
    },
    {
      "cell_type": "code",
      "metadata": {
        "id": "Yis5ph7EFPiQ"
      },
      "source": [
        "def punctuation(sentence): \n",
        "    # punctuation marks \n",
        "    punctuations = '''[]|{}@#$%^\\/_'''\n",
        "    # traverse the given string and if any punctuation \n",
        "    # marks occur replace it with null \n",
        "    for x in sentence.lower(): \n",
        "        if x in punctuations: \n",
        "            sentence = sentence.replace(x, \"\") \n",
        "    return sentence"
      ],
      "execution_count": null,
      "outputs": []
    },
    {
      "cell_type": "code",
      "metadata": {
        "id": "ufSe91IzGXEq"
      },
      "source": [
        "def normalize_text(text):\n",
        "  normalized_text=remove_url(text)\n",
        "  normalized_text=clean_ascii(normalized_text)\n",
        "  normalized_text=punctuation(normalized_text)\n",
        "  return normalized_text"
      ],
      "execution_count": null,
      "outputs": []
    },
    {
      "cell_type": "code",
      "metadata": {
        "id": "UWuyHAtdItax",
        "colab": {
          "base_uri": "https://localhost:8080/",
          "height": 34
        },
        "outputId": "a7a72772-5d55-487d-a45b-d4866e1ae408"
      },
      "source": [
        "tes=\"LonePine remembered around Australia as 'descendants' ^^ [] \\/grow via 666canberra Gallipoli WW1\\n\"\n",
        "tes"
      ],
      "execution_count": null,
      "outputs": [
        {
          "output_type": "execute_result",
          "data": {
            "text/plain": [
              "\"LonePine remembered around Australia as 'descendants' ^^ [] \\\\/grow via 666canberra Gallipoli WW1\\n\""
            ]
          },
          "metadata": {
            "tags": []
          },
          "execution_count": 12
        }
      ]
    },
    {
      "cell_type": "code",
      "metadata": {
        "id": "1KDIRT9zI5aN",
        "colab": {
          "base_uri": "https://localhost:8080/",
          "height": 34
        },
        "outputId": "746f0c5f-dc8d-4adb-8a0d-0bea4c6cb9d2"
      },
      "source": [
        "tes2=normalize_text(tes)\n",
        "tes2"
      ],
      "execution_count": null,
      "outputs": [
        {
          "output_type": "execute_result",
          "data": {
            "text/plain": [
              "\"LonePine remembered around Australia as 'descendants'   grow via 666canberra Gallipoli WW1\\n\""
            ]
          },
          "metadata": {
            "tags": []
          },
          "execution_count": 13
        }
      ]
    },
    {
      "cell_type": "markdown",
      "metadata": {
        "id": "D3EN8_c2-IjC"
      },
      "source": [
        "## 2.3 - other helpful functions"
      ]
    },
    {
      "cell_type": "code",
      "metadata": {
        "id": "W5tOKYEQ-Dw1"
      },
      "source": [
        "# plot training history (loss and accuracy metrics for training and validation set)\n",
        "def plot_training_history(history):\n",
        "  # plot loss and accuracy history\n",
        "  from pylab import rcParams\n",
        "  rcParams['figure.figsize'] = 13, 9\n",
        "  # plot loss during training\n",
        "  pyplot.subplot(211)\n",
        "  pyplot.title('Loss')\n",
        "  pyplot.plot(history.history['loss'], label='train')\n",
        "  pyplot.plot(history.history['val_loss'], label='test')\n",
        "  pyplot.legend()\n",
        "  # plot accuracy during training\n",
        "  pyplot.subplot(212)\n",
        "  pyplot.title('Accuracy')\n",
        "  pyplot.plot(history.history['acc'], label='train')\n",
        "  pyplot.plot(history.history['val_acc'], label='test')\n",
        "  pyplot.legend()\n",
        "  pyplot.show()"
      ],
      "execution_count": null,
      "outputs": []
    },
    {
      "cell_type": "code",
      "metadata": {
        "id": "sA39swY0-Phi"
      },
      "source": [
        "# Showing Confusion Matrix\n",
        "def plot_cm(y_true, y_pred, title, figsize=(5,4)):\n",
        "    cm = confusion_matrix(y_true, y_pred, labels=np.unique(y_true))\n",
        "    cm_sum = np.sum(cm, axis=1, keepdims=True)\n",
        "    cm_perc = cm / cm_sum.astype(float) * 100\n",
        "    annot = np.empty_like(cm).astype(str)\n",
        "    nrows, ncols = cm.shape\n",
        "    for i in range(nrows):\n",
        "        for j in range(ncols):\n",
        "            c = cm[i, j]\n",
        "            p = cm_perc[i, j]\n",
        "            if i == j:\n",
        "                s = cm_sum[i]\n",
        "                annot[i, j] = '%.1f%%\\n%d/%d' % (p, c, s)\n",
        "            elif c == 0:\n",
        "                annot[i, j] = ''\n",
        "            else:\n",
        "                annot[i, j] = '%.1f%%\\n%d' % (p, c)\n",
        "    cm = pd.DataFrame(cm, index=np.unique(y_true), columns=np.unique(y_true))\n",
        "    cm.index.name = 'Actual'\n",
        "    cm.columns.name = 'Predicted'\n",
        "    fig, ax = plt.subplots(figsize=figsize)\n",
        "    plt.title(title)\n",
        "    sns.heatmap(cm, cmap= \"YlGnBu\", annot=annot, fmt='', ax=ax)"
      ],
      "execution_count": null,
      "outputs": []
    },
    {
      "cell_type": "markdown",
      "metadata": {
        "id": "qckSmOGi8nYB"
      },
      "source": [
        "# 3 - prepare input"
      ]
    },
    {
      "cell_type": "markdown",
      "metadata": {
        "id": "Ecm1BRvN8S_6"
      },
      "source": [
        "## 3.1 - load data"
      ]
    },
    {
      "cell_type": "code",
      "metadata": {
        "id": "OTv4lvmU7bI8",
        "colab": {
          "base_uri": "https://localhost:8080/",
          "height": 34
        },
        "outputId": "7b2c565b-10a0-4b70-e984-878ee90bfd31"
      },
      "source": [
        "# connect to google Drive to import files\n",
        "from google.colab import drive\n",
        "drive.mount('/gdrive')"
      ],
      "execution_count": null,
      "outputs": [
        {
          "output_type": "stream",
          "text": [
            "Drive already mounted at /gdrive; to attempt to forcibly remount, call drive.mount(\"/gdrive\", force_remount=True).\n"
          ],
          "name": "stdout"
        }
      ]
    },
    {
      "cell_type": "code",
      "metadata": {
        "id": "CLdpdOPrCDZ7",
        "colab": {
          "base_uri": "https://localhost:8080/",
          "height": 102
        },
        "outputId": "32737787-8882-4f0a-82a9-8697c3a94a2a"
      },
      "source": [
        "# load data set\n",
        "data=\"../gdrive/My Drive/colab/twitter_disaster/data/train_processed_data.csv\"\n",
        "df=pd.read_csv(data)\n",
        "df.dropna(inplace=True)\n",
        "df.isna().sum()"
      ],
      "execution_count": null,
      "outputs": [
        {
          "output_type": "execute_result",
          "data": {
            "text/plain": [
              "id              0\n",
              "text            0\n",
              "cleaned_text    0\n",
              "target          0\n",
              "dtype: int64"
            ]
          },
          "metadata": {
            "tags": []
          },
          "execution_count": 17
        }
      ]
    },
    {
      "cell_type": "code",
      "metadata": {
        "id": "iO0WTYlWCK4s"
      },
      "source": [
        "#\n",
        "#raw_text = df['text'].tolist()\n",
        "#raw_text = [' '.join(t.split()[0:max_seq_length]) for t in text]\n",
        "#raw_text = np.array(text, dtype=object)[:, np.newaxis]\n",
        "#target = df['target'].tolist()\n",
        "#text=np.array(text)\n",
        "#target=np.array(target)"
      ],
      "execution_count": null,
      "outputs": []
    },
    {
      "cell_type": "markdown",
      "metadata": {
        "id": "s4Qsm_FD8hK5"
      },
      "source": [
        "## 3.2 - preprocess text"
      ]
    },
    {
      "cell_type": "code",
      "metadata": {
        "id": "Sb3Nnvv4DJPz"
      },
      "source": [
        "# transform to a normal text format (remove URLs, keep remove some punctuation charts including hashtags)\n",
        "df['normalized_text']=df['text'].apply(lambda x: normalize_text(x))\n",
        "text=df['normalized_text'].tolist()\n",
        "# prepare for BERT inmput\n",
        "max_seq_length=128\n",
        "text = [' '.join(t.split()[0:max_seq_length]) for t in text]\n",
        "text = np.array(text, dtype=object)[:, np.newaxis]\n",
        "target = df['target'].tolist()\n",
        "text=np.array(text)\n",
        "target=np.array(target)"
      ],
      "execution_count": null,
      "outputs": []
    },
    {
      "cell_type": "code",
      "metadata": {
        "id": "K0QFWUZoH1Fq",
        "colab": {
          "base_uri": "https://localhost:8080/",
          "height": 1000
        },
        "outputId": "4a9b8baa-87f2-41da-9cdf-720877b48035"
      },
      "source": [
        "# check text converted in a \"conventional\" format\n",
        "df['normalized_text'].tolist()"
      ],
      "execution_count": null,
      "outputs": [
        {
          "output_type": "execute_result",
          "data": {
            "text/plain": [
              "['Our Deeds are the Reason of this earthquake May ALLAH Forgive us all',\n",
              " 'Forest fire near La Ronge Sask. Canada',\n",
              " \"All residents asked to 'shelter in place' are being notified by officers. No other evacuation or shelter in place orders are expected\",\n",
              " '13,000 people receive wildfires evacuation orders in California ',\n",
              " 'Just got sent this photo from Ruby Alaska as smoke from wildfires pours into a school ',\n",
              " 'RockyFire Update => California Hwy. 20 closed in both directions due to Lake County fire - CAfire wildfires',\n",
              " 'flood disaster Heavy rain causes flash flooding of streets in Manitou, Colorado Springs areas',\n",
              " \"I'm on top of the hill and I can see a fire in the woods...\",\n",
              " \"There's an emergency evacuation happening now in the building across the street\",\n",
              " \"I'm afraid that the tornado is coming to our area...\",\n",
              " 'Three people died from the heat wave so far',\n",
              " 'Haha South Tampa is getting flooded hah- WAIT A SECOND I LIVE IN SOUTH TAMPA WHAT AM I GONNA DO WHAT AM I GONNA DO FVCK flooding',\n",
              " \"raining flooding Florida TampaBay Tampa 18 or 19 days. I've lost count \",\n",
              " 'Flood in Bago Myanmar We arrived Bago',\n",
              " 'Damage to school bus on 80 in multi car crash BREAKING ',\n",
              " \"What's up man?\",\n",
              " 'I love fruits',\n",
              " 'Summer is lovely',\n",
              " 'My car is so fast',\n",
              " 'What a goooooooaaaaaal!!!!!!',\n",
              " 'this is ridiculous....',\n",
              " 'London is cool ;)',\n",
              " 'Love skiing',\n",
              " 'What a wonderful day!',\n",
              " 'LOOOOOOL',\n",
              " \"No way...I can't eat that shit\",\n",
              " 'Was in NYC last week!',\n",
              " 'Love my girlfriend',\n",
              " 'Cooool :)',\n",
              " 'Do you like pasta?',\n",
              " 'The end!',\n",
              " 'bbcmtd Wholesale Markets ablaze ',\n",
              " 'We always try to bring the heavy. metal RT ',\n",
              " 'AFRICANBAZE: Breaking news:Nigeria flag set ablaze in Aba. ',\n",
              " 'Crying out for more! Set me ablaze',\n",
              " 'On plus side LOOK AT THE SKY LAST NIGHT IT WAS ABLAZE ',\n",
              " \"PhDSquares mufc they've built so much hype around new acquisitions but I doubt they will set the EPL ablaze this season.\",\n",
              " 'INEC Office in Abia Set Ablaze - ',\n",
              " 'Barbados Bridgetown JAMAICA  Two cars set ablaze: SANTA CRUZ  Head of the St Elizabeth Police Superintende...  ',\n",
              " 'Ablaze for you Lord :D',\n",
              " 'Check these out:     nsfw',\n",
              " \"on the outside you're ablaze and alive\\nbut you're dead inside\",\n",
              " 'Had an awesome time visiting the CFC head office the ancop site and ablaze. Thanks to Tita Vida for taking care of us ??',\n",
              " 'SOOOO PUMPED FOR ABLAZE ???? southridgelife',\n",
              " 'I wanted to set Chicago ablaze with my preaching... But not my hotel! ',\n",
              " 'I gained 3 followers in the last week. You? Know your stats and grow with ',\n",
              " 'How the West was burned: Thousands of wildfires ablaze in California alone ',\n",
              " 'Building the perfect tracklist to life leave the streets ablaze',\n",
              " 'Check these out:     nsfw',\n",
              " \"First night with retainers in. It's quite weird. Better get used to it; I have to wear them every single night for the next year at least.\",\n",
              " 'Deputies: Man shot before Brighton home set ablaze ',\n",
              " 'Man wife get six years jail for setting ablaze niece\\n',\n",
              " 'SANTA CRUZ  Head of the St Elizabeth Police Superintendent Lanford Salmon has r ... -  ',\n",
              " 'Police: Arsonist Deliberately Set Black Church In North CarolinaAblaze ',\n",
              " \"Noches El-Bestia 'AlexisSanchez: happy to see my teammates and training hard ?? goodnight gunners.?????? \",\n",
              " 'Kurds trampling on Turkmen flag later set it ablaze while others vandalized offices of Turkmen Front in Diyala ',\n",
              " 'TRUCK ABLAZE : R21. VOORTREKKER AVE. OUTSIDE OR TAMBO INTL. CARGO SECTION. ',\n",
              " 'Set our hearts ablaze and every city was a gift And every skyline was like a kiss upon the lips  ',\n",
              " \"They sky was ablaze tonight in Los Angeles. I'm expecting IG and FB to be filled with sunset shots if I know my peeps!!\",\n",
              " 'How the West was burned: Thousands of wildfires ablaze in California alone  climate energy ',\n",
              " 'Revel in yours wmv videos by means of mac farewell ablaze wmv en route to dvd: GtxRWm',\n",
              " \"Progressive greetings!\\n\\nIn about a month students would have set their pens ablaze in The Torch Publications'... \",\n",
              " 'Rene Ablaze &amp; Jacinta - Secret 2k13 (Fallen Skies Edit) - Mar 30 2013  ',\n",
              " \"Navista7 Steve these fires out here are something else! California is a tinderbox - and this clown was setting my 'hood ablaze News24680\",\n",
              " 'NowPlaying: Rene Ablaze &amp; Ian Buff - Magnitude   EDM',\n",
              " 'nxwestmidlands huge fire at Wholesale markets ablaze ',\n",
              " \"ablaze what time does your talk go until? I don't know if I can make it due to work.\",\n",
              " \"'I can't have kids cuz I got in a bicycle accident &amp; split my testicles. it's impossible for me to have kids' MICHAEL YOU ARE THE FATHER\",\n",
              " 'Accident on I-24 W NashvilleTraffic. Traffic moving 8m slower than usual. ',\n",
              " 'Accident center lane blocked in SantaClara on US-101 NB before Great America Pkwy BayArea Traffic ',\n",
              " ' Had a personalinjury accident this summer? Read our advice &amp; see how a solicitor can help OtleyHour',\n",
              " 'stlouis caraccidentlawyer Speeding Among Top Causes of Teen Accidents   Car Accident tee',\n",
              " 'Reported motor vehicle accident in Curry on Herman Rd near Stephenson involving an overturned vehicle. Please use... ',\n",
              " 'BigRigRadio Live Accident Awareness',\n",
              " 'I-77 Mile Marker 31 South Mooresville  Iredell Vehicle Accident Ramp Closed at 86 1:18 PM',\n",
              " 'RT SleepJunkies: Sleeping pills double your risk of a car accident ',\n",
              " \"'By accident' they knew what was gon happen \",\n",
              " 'Traffic accident N CABRILLO HWYMAGELLAN AV MIR (080615 11:03:58)',\n",
              " 'I-77 Mile Marker 31 to 40 South Mooresville  Iredell Vehicle Accident Congestion at 86 1:18 PM',\n",
              " 'the pastor was not in the scene of the accident......who was the owner of the range rover ?',\n",
              " \"mom: 'we didn't get home as fast as we wished' \\nme: 'why is that?'\\nmom: 'there was an accident and some truck spilt mayonnaise all over ??????\",\n",
              " \"I was in a horrible car accident this past Sunday. I'm finally able to get around. Thank you GOD??\",\n",
              " 'Can wait to see how pissed Donnie is when I tell him I was in ANOTHER accident??',\n",
              " \"TruckCrash Overturns On FortWorth Interstate  Click here if you've been in a crash&gt;\",\n",
              " 'Accident in Ashville on US 23 SB before SR 752 traffic ',\n",
              " 'Carolina accident: Motorcyclist Dies in I-540 Crash With Car That Crossed Median: A motorcycle rider traveling... ',\n",
              " 'FYI CAD:FYI: ;ACCIDENT PROPERTY DAMAGE;NHS;999 PINER RDHORNDALE DR',\n",
              " 'RT nAAYf: First accident in years. Turning onto Chandanee Magu from near MMA. Taxi rammed into me while I was halfway turned. Everyone conf',\n",
              " 'Accident left lane blocked in Manchester on Rt 293 NB before Eddy Rd stop and go traffic back to NH-3A delay of 4 mins traffic',\n",
              " ';ACCIDENT PROPERTY DAMAGE; PINER RDHORNDALE DR',\n",
              " '???? it was an accident ',\n",
              " 'FYI CAD:FYI: ;ACCIDENT PROPERTY DAMAGE;WPD;1600 S 17TH ST',\n",
              " '8620152:09 PM: TRAFFIC ACCIDENT NO INJURY at 2781 WILLIS FOREMAN RD ',\n",
              " 'Aashiqui Actress Anu Aggarwal On Her Near-Fatal Accident ',\n",
              " 'Suffield Alberta Accident ',\n",
              " '9 Mile backup on I-77 South...accident blocking the Right 2 Lanes at Exit 31 Langtree Rd...consider NC 115 or NC 150 to NC 16 as alternate',\n",
              " 'Has an accident changed your life? We will help you determine options that can financially support life care plans and on-going treatment.',\n",
              " \"BREAKING: there was a deadly motorcycle car accident that happened to Hagerstown today. I'll have more details at 5 Your4State. WHAG\",\n",
              " 'flowri were you marinading it or was it an accident?',\n",
              " \"only had a car for not even a week and got in a fucking car accident .. Mfs can't fucking drive .\",\n",
              " '.NorwayMFA Bahrain police had previously died in a road accident they were not killed by explosion ',\n",
              " 'I still have not heard Church Leaders of Kenya coming forward to comment on the accident issue and disciplinary measuresArrestPastorNganga',\n",
              " 'afterShockDeLo scuf ps live and the game... cya',\n",
              " \"'The man who can drive himself further once the effort gets painful is the man who will win.' \\nRoger Bannister\",\n",
              " '320 IR ICEMOON AFTERSHOCK    djicemoon  Dubstep TrapMusic DnB EDM Dance Ices ',\n",
              " \"'There is no victory at bargain basement prices.' Dwight David Eisenhower\",\n",
              " '320 IR ICEMOON AFTERSHOCK    djicemoon  Dubstep TrapMusic DnB EDM Dance Ices ',\n",
              " \"'Nobody remembers who came in second.' Charles Schulz\",\n",
              " 'afterShockDeLo im speaking from someone that is using a scuf on xb1 most of them people will end up getting on for ps also.',\n",
              " \"'The harder the conflict the more glorious the triumph.' Thomas Paine\",\n",
              " \"GrowingUpSpoiled going clay pigeon shooting and crying because of the 'aftershock'\",\n",
              " 'So i guess no one actually wants any free Aftershock TC.....',\n",
              " \"Aftershock was the most terrifying best roller coaster I've ever been on. *DISCLAIMER* I've been on very few.\",\n",
              " 'Aftershock ',\n",
              " '320 IR ICEMOON AFTERSHOCK    djicemoon  Dubstep TrapMusic DnB EDM Dance Ices ',\n",
              " '320 IR ICEMOON AFTERSHOCK    djicemoon  Dubstep TrapMusic DnB EDM Dance Ices ',\n",
              " '320 IR ICEMOON AFTERSHOCK    djicemoon  Dubstep TrapMusic DnB EDM Dance Ices ',\n",
              " \"KJForDays I'm seeing them and Issues at aftershock ??\",\n",
              " '320 IR ICEMOON AFTERSHOCK    djicemoon  Dubstep TrapMusic DnB EDM Dance Ices ',\n",
              " '320 IR ICEMOON AFTERSHOCK    djicemoon  Dubstep TrapMusic DnB EDM Dance Ices ',\n",
              " 'WisdomWed BONUS - 5 Minute Daily Habits that could really improve your life. How many do you already do? lifehacks ',\n",
              " 'Aftershock: Protect Yourself and Profit in the Next Global Financial Meltdown by David Wiedemer http ',\n",
              " 'That moment when you get on a scary roller coaster and the guy behind you is just screaming bloody murder ?????? silverwood aftershock',\n",
              " 'Aftershock  (2010) Full Streaming - YouTube ',\n",
              " '&gt;&gt; 15 Aftershock : Protect Yourself and Profit in the Next Global Financial... book \\nesquireattire',\n",
              " \"Sometimes you face difficulties not because you're doing something wrong but because you're doing something right. - Joel Osteen\",\n",
              " \"'The only thing that stands between you and your dream is the will to try and the belief that it is actually possible.' - Joel Brown\",\n",
              " 'Praise God that we have ministry that tells it like it is!!! now wdyouth biblestudy ',\n",
              " \"'Remembering that you are going to die is the best way I know to avoid the trap of thinking you have something to lose.'  Steve Jobs\",\n",
              " 'Tried orange aftershock today. My life will never be the same',\n",
              " 'OnFireAnders I love you bb',\n",
              " 'Aftershock ',\n",
              " 'Aftershock back to school kick off was great. I want to thank everyone for making it possible. What a great night.',\n",
              " 'People who say it cannot be done should not interrupt those who are doing it.  George Bernard Shaw',\n",
              " \"'The first man gets the oyster the second man gets the shell.' Andrew Carnegie\",\n",
              " 'Anyone need a PU tonight? I play Hybrid Slayer ps4 EU. HMU Cod8sandscrims EmpirikGaming CoDAWScrims 4TPKOTC 4TPFA afterShockOrg',\n",
              " 'Experts in France begin examining airplane debris found on Reunion Island: French air accident experts o...  news',\n",
              " 'Strict liability in the context of an airplane accident: Pilot error is a common component of most aviation cr... ',\n",
              " 'crobscarla your lifetime odds of dying from an airplane accident are 1 in 8015.',\n",
              " 'Experts in France begin examining airplane debris found on Reunion Island: French air accident experts on Wedn... ',\n",
              " \"AlexAllTimeLow awwww they're on an airplane accident and they're gonna die what a cuties ???? good job!\",\n",
              " 'family members of osama bin laden have died in an airplane accident how ironic ?????? mhmmm gov shit i suspect',\n",
              " 'Man Goes into Airplane Engine Accident:  via YouTube',\n",
              " 'Horrible Accident  Man Died In Wings of Airplane (29-07-2015) ',\n",
              " 'A Cessna airplane accident in Ocampo Coahuila Mexico on July 29 2015 killed four men including a State of Coahuila government official.',\n",
              " 'Horrible Accident Man Died In Wings Airplane (29-07-2015) WatchTheVideo ',\n",
              " 'Experts in France begin examining airplane debris found on Reunion Island  French air accident experts on Wednesday',\n",
              " 'Experts in France begin examining airplane debris found on Reunion Island: French air accident experts on Wednesday began examining t...',\n",
              " \"KCA VoteJKT48ID mbataweel: RIP BINLADEN Family members who killed in an airplane's accident\",\n",
              " 'I almost sent my coworker nudes on accident thank god for airplane mode',\n",
              " \"mickinyman TheAtlantic That or they might be killed in an airplane accident in the night a car wreck! Politics at it's best.\",\n",
              " 'Experts in France begin examining airplane debris found on Reunion Island: French air accident experts on...  MLB',\n",
              " 'This is unbelievably insane.\\nman airport airplane aircraft aeroplane runway accident freaky ',\n",
              " 'Horrible Accident   Man Died In Wings of Airplane(29-07-2015) ',\n",
              " 'Horrible Accident Man Died In Wings of Airplane (29-07-2015) ',\n",
              " 'Usama bin Ladins family dead in airplane crash. Naturally no accident.',\n",
              " 'Pilot Dies In Plane Crash At Car Festival  via YouTube Crash Aircraft Airplane Pilot Death Accident CarFest',\n",
              " 'Strict liability in the context of an airplane accident - ',\n",
              " 'DTN Brazil: Experts in France begin examining airplane debris found on Reunion Island: French air accident exp... ',\n",
              " 'Experts in France begin examining airplane debris found on Reunion Island: French air accident experts on Wedn... ',\n",
              " 'Horrible Accident Man Died In Wings Of Airplane 29-07-2015. WTF You Cant Believe Your EYES ... ',\n",
              " \"+ Nicole Fletcher one of a victim of crashed airplane few times ago. \\n\\nThe accident left a little bit trauma for her. Although she's \\n\\n+\",\n",
              " 'OMG Horrible Accident Man Died in Wings of Airplane. ',\n",
              " \"OMG! I don't believe this. RIP bro\\nAirPlane Accident JetEngine TurboJet Boing G90 \",\n",
              " 'Experts in France begin examining airplane debris found on Reunion Island: French air accident experts on Wednesday began examining t...',\n",
              " 'I had a airplane accident.',\n",
              " 'My phone looks like it was in a car ship airplane accident. Terrible',\n",
              " \"Statistically I'm at more of risk of getting killed by a cop than I am of dying in an airplane accident.\",\n",
              " 'airplane crashes on house in Colombia 12 people die in accident ',\n",
              " 'The shooting or the airplane accident  ',\n",
              " 'Could a drone cause an airplane accident? Pilots worried about use of drones esp. in close vicinity of airports  ',\n",
              " 'Early wake up call from my sister begging me to come over &amp; ride wher in the ambulance to the hospital RODKiai',\n",
              " ' Twelve feared killed in Pakistani air ambulance helicopter crash ',\n",
              " 'Two air ambulances on scene of serious crash between two cars and lorry in ... -    EMSNe',\n",
              " 'Twelve feared killed in Pakistani air ambulance helicopter crash - Reuters  yugvani',\n",
              " 'Leading emergency services boss welcomes new ambulance charity ',\n",
              " \"Anyone travelling Aberystwyth-Shrewsbury right now there's been an incident. Services at a halt just outside Shrews. Ambulance on scene.\",\n",
              " 'Twelve feared killed in Pakistani air ambulance helicopter crash ',\n",
              " 'AMBULANCE SPRINTER AUTOMATIC FRONTLINE VEHICLE CHOICE OF 14 LEZ COMPLIANT  eBay ',\n",
              " 'New Nanotech Device Will Be Able To Target And Destroy Blood Clots ',\n",
              " '20skyhawkmm20 traplord29 FREDOSANTANA300 LilReese300 it was hella crazy 3 fights an ambulance and a couple mosh pits ??',\n",
              " 'If I get run over by an ambulance am I lucky? justsaying randomthought',\n",
              " 'news Twelve feared killed in Pakistani air ambulance helicopter crash  tilnow DNA',\n",
              " ' Twelve feared killed in Pakistani air ambulance helicopter crash ',\n",
              " 'TanSlash waiting for an ambulance',\n",
              " 'fouseyTUBE you ok? Need a ambulance. Hahahah that was good! ',\n",
              " 'AMBULANCE SPRINTER AUTOMATIC FRONTLINE VEHICLE CHOICE OF 14 LEZ COMPLIANT  eBay ',\n",
              " 'Pakistan air ambulance helicopter crash kills nine ',\n",
              " 'TheNissonian RejectdCartoons nissan are you ok do you need medical assistance i can call an ambulance if you need me to',\n",
              " 'EMS1: NY EMTs petition for 17 per hour minimum wage  ems paramedics ambulance',\n",
              " ' Twelve feared killed in Pakistani air ambulance helicopter crash ',\n",
              " 'Twelve feared killed in Pakistani air ambulance helicopter crash ',\n",
              " 'AMBULANCE SPRINTER AUTOMATIC FRONTLINE VEHICLE CHOICE OF 14 LEZ COMPLIANT  eBay ',\n",
              " 'AMBULANCE SPRINTER AUTOMATIC FRONTLINE VEHICLE CHOICE OF 14 LEZ COMPLIANT  eBay ',\n",
              " \"KiwiKaryn Check out what's in my parking lot!! He said that until last year it was an ambulance in St Johns. \",\n",
              " \"when you don't know which way an ambulance is coming from &lt;&lt;\",\n",
              " 'reuters Twelve feared killed in Pakistani air ambulance helicopter crash ',\n",
              " ' Twelve feared killed in Pakistani air ambulance helicopter crash ',\n",
              " 'Why is there an ambulance right outside my work',\n",
              " \"LeoBlakeCarter: This dog thinks he's an ambulance ?????? \",\n",
              " 'HAPPENING NOW - HATZOLAH EMS AMBULANCE RESPONDING WITH DUAL SIRENS AND ',\n",
              " ' Twelve feared killed in Pakistani air ambulance helicopter crash ',\n",
              " ' Twelve feared killed in Pakistani air ambulance helicopter crash ',\n",
              " 'Twelve feared killed in Pakistani air ambulance helicopter crash  worldNews',\n",
              " 'Twelve feared killed in Pakistani air ambulance helicopter crash  worldnews',\n",
              " \"What's the police or ambulance number in Lesotho? Any body know?\",\n",
              " 'medic914 AACEorg I am surprised we still cannot standardised the clinical practice across the 11 NHS ambulance trust.',\n",
              " ' Twelve feared killed in Pakistani air ambulance helicopter crash ',\n",
              " 'People who try to j-walk while an ambulance is passing... I hate you.',\n",
              " 'The episode where Trunks annihilated Freiza is the cleanest shit ever. He showed that nigga no mercy.',\n",
              " 'THEY SHALL BE ANNIHILATED AND ALL OF THEIR PETEBESTS DESSICATED AND LAID BARE. THEN YOU SHALL KNEEL BEFORE ME.',\n",
              " 'Uribe just annihilated that baseball. Mets',\n",
              " 'marksmaponyane Hey!Sundowns were annihilated in their previous meeting with Celtic.Indeed its an improvement.',\n",
              " \"Volfan326 TNeazzy Mizzou has annihilated florida the past 2 seasons even ended muschamp's career just can't compete with Bama\",\n",
              " 'Annihilated Abs . ?? ',\n",
              " 'Be annihilated for status education mba on behalf of a on easy street careen: eOvm ',\n",
              " '*to Luka* They should all die! All of them! Everything annihilated! - Alois Trancy',\n",
              " \"ACarewornHeart Have a good un fella sorry I won't be there to get annihilated with you :(\",\n",
              " 'Cop pulls drunk driver to safety SECONDS before his car is hit by train.   via ViralSpell',\n",
              " 'You must be annihilated!',\n",
              " 'Cop pulls drunk driver to safety SECONDS before his car is hit by train.   via ViralSpell',\n",
              " 'BOOM! Your country was just entirely annihilated by a h  Britain ',\n",
              " 'AmirKingKhan you would have been annihilated so you might as well thank FloydMayweather',\n",
              " 'One thing for sure-God has promised Israel will not be annihilated. But...the horror of Iran wnukes. ',\n",
              " \"violentfeminazi I guess that's ok for Armenians since we've spent most of our history getting annihilated\",\n",
              " '70 years since we annihilated 100000 people instantly and became aware that we have the ability to annihilate the whole of humanity',\n",
              " 'day 1 of tryouts went good minus the fact I stopped quickly to get a short ball and Annihilated my toenail injury even more',\n",
              " 'During the 1960s the oryx a symbol of the Arabian Peninsula were annihilated by hunters. \\n ',\n",
              " \"(To Luka) 'They should all die! All of them! Everything annihilated!' - Alois Trancy -\",\n",
              " 'Ready to get annihilated for the BUCS game',\n",
              " \"PhilipDuncan breakfastone People 'annihilated by last nights weather'... Really Philip thought you would have forecast that...\",\n",
              " 'Domain other sophistication be annihilated closely up-to-the-minute feat: ZrNf',\n",
              " 'stormbeard steellord I seen Judas Priest in 2005 when Rob came back; Scorpions as support. Fucking annihilated the place. Astonishing gig',\n",
              " \"Officially skipping out on FantasticFourFant4sticwhatever the hashtag is. It's getting ANNIHILATED in reviews. Bummer.\",\n",
              " 'TomcatArts thus explaining why you were all annihilated. But the few or in this case you the only survivor evolved and became godlike',\n",
              " 'just completely annihilated cech with paul keegan what a time to be alive',\n",
              " \"TomcatArts 'who then were annihilated by the legion itself. The survivors of the imperfect hybrid project quickly formed a new secret cell\",\n",
              " \"SirBrandonKnt exactly. That's why the lesnarcena match from summerslam last year was so great because Brock annihilated a guy who's\",\n",
              " 'Cop pulls drunk driver to safety SECONDS before his car is hit by train.   via ViralSpell',\n",
              " 'ANNIHILATED IN DAMASCUS: SYRIAN ARMY GRINDS ALLOOSH AND HIS GANG INTO THE MANURE PILE\\n',\n",
              " \"thatdes ok i wasn't completely forthright i may have also been in a food coma bc of the kebabtahinipickles i also annihilated wfries\",\n",
              " 'A fun filled happy-hour at Simmons bar in Camden with this handsome one ?? (I got annihilated apart from this game) ',\n",
              " 'Juanny Beisbol Sr. Annihilated that ball. LGM',\n",
              " 'rvfriedmann Hell is just a fraction of his belief of total annihilation destruction of USA LodiSilverado ritzyjewels',\n",
              " \"POTUS Maybe we should call Israel and tell them we're sorry are Pres has sold them down the river to annihilation.\",\n",
              " 'Evildead - Annihilation of Civilization ',\n",
              " 'U.S National Park Services Tonto National Forest: Stop the Annihilation of the Salt River Wild Horse...  via Change',\n",
              " 'annihilating quarterstaff of annihilation',\n",
              " 'World Annihilation vs Self Transformation  Aliens Attack to Exterminate Humans ',\n",
              " ':StarMade: :Stardate 3: :Planetary Annihilation::  via YouTube',\n",
              " 'U.S National Park Services Tonto National Forest: Stop the Annihilation of the Salt River Wild Horse...  via Change',\n",
              " 'U.S National Park Services Tonto National Forest: Stop the Annihilation of the Salt River Wild Horse...  via Change',\n",
              " 'KimKardashian can you please sign and share this petition to save wild horses in Arizona.  ????',\n",
              " 'U.S National Park Services Tonto National Forest: Stop the Annihilation of the Salt River Wild Horse...  via Change',\n",
              " 'TheEllenShow Please check into Salt River horses help stop the annihilation about to happen without 54000 more signatures.change .org Thx',\n",
              " 'Are souls punished withannihilation?  ',\n",
              " 'CalFreedomMom steph93065 not to mention a major contributor to the annihilation of Israel',\n",
              " 'willienelson We need help! Horses will die!Please RT &amp; sign petition!Take a stand &amp; be a voice for them! gilbert23 ',\n",
              " 'I reject the laws of the misguided false prophets imprison nations fueling self annihilation',\n",
              " 'U.S National Park Services Tonto National Forest: Stop the Annihilation of the Salt River Wild Horse...  via Change',\n",
              " 'The annihilation of Jeb Christie &amp; Kasich is less than 24 hours away..\\nPlease God allow me at least one more full day...',\n",
              " 'BarbiTwins We need help-horses will die! Please RT &amp; sign petition! Take a stand &amp; be a voice for them! gilbert23 ',\n",
              " 'Whippenz We need help! Horses will die!Please RT &amp; sign petition!Take a stand &amp; be a voice for them! gilbert23 ',\n",
              " 'Hey AZ: Sign this petition to save the WildHorses  TantoNationalForest! A RollingStones sing-a-long is in order: ',\n",
              " 'Stop the Annihilation of the Salt River Wild Horses!  via Change',\n",
              " \"SonofBaldwin and he's the current Nova in the bookslast I checked..he was tied into the books in 2011 after Rider died during Annihilation\",\n",
              " 'U.S National Park Services Tonto National Forest: Stop the Annihilation of the Salt River Wild Horse...  via Change',\n",
              " 'Please sign &amp; RT to save SaltRiverWildHorses  ',\n",
              " 'THANKS!!!!! COUNT DANTE.  :)  DO JOIN US BY FOLLOWING THE ANNIHILATION ZONE.  JOHNNY.',\n",
              " 'World Annihilation vs Self Transformation  Aliens Attack to Exterminate Humans ',\n",
              " 'U.S National Park Services Tonto National Forest: Stop the Annihilation of the Salt River Wild Horse...  via Change',\n",
              " 'U.S National Park Services Tonto National Forest: Stop the Annihilation of the Salt River Wild Horse...  via Change',\n",
              " \"I'm gonna fight Taylor as soon as I get there.\",\n",
              " \"ohH NO FUKURODANI DIDN'T SURVIVE THE APOCALYPSE BOKUTO FEELS HORRIBLE  my poor boy my ppor child\",\n",
              " 'will there be another jocelyn birthday apocalypse',\n",
              " \"RT: janenelson097: RT StephenSCIFI: Adaptation Watch: Charlie Human's APOCALYPSE NOW NOW Optioned for Film sciencefiction \",\n",
              " 'Apocalypse please',\n",
              " \"Another hour! It's August 05 2015 at 08:02PM Here's Red Rover Zombie Apocalypse 2014!  internetradio collegeradi\",\n",
              " 'HoneyBunzGem primalkitchen I feel like me doing a pull-up is one of the stages of the Apocalypse.',\n",
              " \"She's kinda hot played on the radio today. What's next? Disease to all? The apocalypse has started everyone. Be careful.\",\n",
              " \"But if it's the apocalypse lol gf m8\",\n",
              " \"I know it's a question of interpretation but this is a sign of the apocalypse.  I called it \",\n",
              " 'Julie + R is the apocalypse version of Romeo + Juliet warmbodies',\n",
              " 'the apocalypse is upon us',\n",
              " 'RT: fittscott: Minecraft- NIGHT LUCKY BLOCK MOD (BOB APOCALYPSE WITHER 2.0 &amp; MORE!) Mod Showcase Popularmmos:  vi',\n",
              " 'And so it begins.. day one of the snow apocalypse',\n",
              " 'RT: OurMotherMary: Short Reading\\n\\nApocalypse 21:1023 \\n\\nIn the spirit the angel took me to the top of an enormous high mountain and... ',\n",
              " 'candylit: Imagine sarumi in a zombie apocalypse Fighting back to back Heart to heart conversations over the... ',\n",
              " 'RT: ZONEWolf123: I liked a YouTube video  Minecraft: NIGHT LUCKY BLOCK MOD (BOB APOCALYPSE WITHER 2.0 &amp; MORE!) Mo',\n",
              " \"And that's because on my planet it's the lone audience of the apocalypse!\",\n",
              " \"Dad bought a DVD that looks like a science doc on the front but I read the back and it's actually about the impending biblical apocalypse\",\n",
              " \"alexandrapullin It is indeed. If the apocalypse comes this week I know where I'll be :)\",\n",
              " 'GO LOOK AT GRIZZLY PEAK RIGHT NOW... It looks like the beginning of an dystopian apocalypse movie',\n",
              " \"My niece just asked me 'would you be scared if there was an apocalypse here?' ????\",\n",
              " \"There's a Storm over Cairo in the latest 'X-Men Apocalypse' set photo  via YahooTV\",\n",
              " 'Minecraft- NIGHT LUCKY BLOCK MOD (BOB APOCALYPSE WITHER 2.0 &amp; MORE!) Mod Showcase Popularmmos:  via YouTube',\n",
              " 'Shot Through The Heart XV: You are going to totally give love a bad name with this heart pierc  ',\n",
              " 'RT: GeekApocalypse: 4pm GMT :Hesse plays dark souls 2 day 9:   etcPB',\n",
              " 'I know where to go when the zombies take over!! ',\n",
              " 'The latest from BryanSinger reveals Storm is a queen in Apocalypse RuPaul AlexShipppp ',\n",
              " 'Shadow boxing the apocalypse',\n",
              " 'Short Reading\\n\\nApocalypse 21:1023 \\n\\nIn the spirit the angel took me to the top of an enormous high mountain and... ',\n",
              " \"Enjoyed live-action Attack on Titan but every time I see posters I'm reminded how freshly clean and coiffed everyone is in the apocalypse.\",\n",
              " 'I liked a YouTube video  Minecraft: NIGHT LUCKY BLOCK MOD (BOB APOCALYPSE WITHER 2.0 &amp; MORE!) Mod Showcase',\n",
              " \"PBBan (Temporary:300) avYsss 'aRmageddon  DO NOT KILL  FLAGS ONLY  Fast XP' for Reason\",\n",
              " \"PBBan (Temporary:300) Russaky89 'aRmageddon  DO NOT KILL  FLAGS ONLY  Fast XP' for Reason\",\n",
              " '((OFFICIAL VID)) DoubleCups &gt;&gt;  &gt;&gt; TrubGME Prod THISIZBWRIGHT &gt;&gt; ARMAGEDDON',\n",
              " 'ouvindo Peace Love &amp; Armageddon',\n",
              " \"Best movie you've ever seen? - Armageddon  \",\n",
              " \"Bed time. Don't wake me up unless revolution or Armageddon start.\",\n",
              " 'Red Faction: Armageddon  (Microsoft Xbox 360 2011) - Full read by eBay  ',\n",
              " 'KatieKatCubs you already know how this shit goes. World Series or Armageddon.',\n",
              " 'RT Ophiuchus2613: Love TrueLove romance lith  Voodoo seduction Astrology RTRRT LOTZ 9-11 apocalypse Armageddon 1008pla',\n",
              " 'im gonna beat armageddon as Hsu Hao ????\\njust got a flawless on my first try',\n",
              " \"ENews Ben Affleck......I know there's a wifekids and other girls but I can't help it. I've loved him since Armageddon eonlinechat\",\n",
              " \"'If I'd have had a long coat to hand I'd have worn it. The certainty of armageddon bears a sense of occasion.'\",\n",
              " 'YOUR PHONE IS SPYING ON YOU! Hidden Back Door NSA Data Mining Software  THE FINANCIAL ARMAGEDDON BLOG ',\n",
              " \"PBBan (Temporary:300) hyiderghost2 'aRmageddon  DO NOT KILL  FLAGS ONLY  Fast XP' for Reason\",\n",
              " 'RT RTRRTcoach: Love TrueLove romance lith  Voodoo seduction Astrology RTRRT LOTZ 9-11 apocalypse Armageddon 1008planet',\n",
              " \"PBBan (Temporary:300) fighterdena 'aRmageddon  DO NOT KILL  FLAGS ONLY  Fast XP' for Reason\",\n",
              " 'Photo: Sketch I did based on the A Taste of Armageddon episode of startrek tos ',\n",
              " 'Armageddon ',\n",
              " 'AberdeenFC AberdeenFanPage \\n\\nGood luck to the ?????? tomorrow night \\n\\nGet some coefficient points plz \\nArmageddon????',\n",
              " 'paddytomlinson1 ARMAGEDDON',\n",
              " \"RohnertParkDPS You're another one for the history books! (Thank the Justice Department!) And by the way I haven't paid income tax in 20yrs.\",\n",
              " 'Vladimir Putin Issues Major Warning But Is It Too Late To Escape Armageddon?\\n',\n",
              " \"God's Kingdom (Heavenly Gov't) will rule over all people on the earth after Armageddon.    \",\n",
              " 'L B Entertainment lot of 8 BruceWillis MOVIES DVD DIE HARD 1 2 12 MONKEYS ARMAGEDDON SIXTH eBay Auction ',\n",
              " 'Lets talk some more about your goof guild Saunders. Come right up here on stage. ',\n",
              " \"Karnythia my niece is gaining the ability to stand. I'm getting prepared for toddler apocalypse Armageddon\",\n",
              " 'Check out PREPPERS DOOMSDAY MUST HAVE LIBRARY COLLECTION ON CD shtf preppertalk survival 2A prepper  via eBay',\n",
              " 'Erker Again?? Eep! Thought of you yesterday when I saw that hella scary hail. armageddon?',\n",
              " 'So the Ahamedis think the Messiah had already come 125 years ago? Where is Armageddon? Where is the Dajaal? Where is Gog &amp; Magog?!',\n",
              " \"Sadly How Windows 10 Reveals Microsoft's Ethics Armageddon \",\n",
              " 'Armageddon averted by El Patron\\nUltimaLucha',\n",
              " 'samihonkonen If you have the time (23 hours ??) the latest series about WW1 Blueprint for Armageddon is extremely impressive.',\n",
              " 'European Fitba till Christmas  ARMAGEDDON',\n",
              " 'Christians United for Israel (CUFI): Jews should convert soon or die by armageddon  US ',\n",
              " '(OFFICIAL VID) &gt; DoubleCups &gt;&gt;  &gt;&gt; TrubGME Prod THISIZBWRIGHT &gt;&gt; ARMAGEDDON                 .',\n",
              " 'Tomorrow is the day we start armageddon preseasonworkouts ????',\n",
              " 'Lee does comedy: LeeJasper: Working class Tories prepare for your Armageddon. InterestRateRise',\n",
              " '9 Charts Prove Financial Crisis Part 2 Has BEGUN!: The Financial Armageddon Economic Collapse Blog tracks tren... ',\n",
              " 'Paul Craig Roberts  Vladimir Putin Issues Major Warning But Is It Too Late To Escape A  brics roberts russia',\n",
              " \"RohnertParkDPS You're on stage now! Right under the lights! Isn't it funny?! Where do you get the goofballs with which you staff your PD?\",\n",
              " '**OFFICIAL VID** TheReal &gt;&gt;&gt;  &gt;&gt;&gt; TrubGME &gt;&gt;&gt; ARMAGEDDON Comin Soon!!',\n",
              " 'Well done Celtic Fingers crossed for Aberdeen tomorrow night! \\nArmageddon eh.... ??',\n",
              " 'Beyonce Is my pick for  Fan Army Beyhive  77',\n",
              " 'One Direction Is my pick for  Fan Army Directioners  x1402',\n",
              " '5 Seconds of Summer Is my pick for  Fan Army 5SOSFAM ',\n",
              " '22.Beyonce Is my pick for  Fan Army Beyhive ',\n",
              " '17.Beyonce Is my pick for  Fan Army Beyhive ',\n",
              " 'One Direction Is my pick for  Fan Army Directioners  x1411',\n",
              " 'Seeing that army of whitewalkers was the very first thing that has slightly intrigued me on GoT so far',\n",
              " 'Build your own kingdom and lead your army to victory! \\n\\nStart g this friend code: LZKTJNOX ',\n",
              " 'Salvation Army hosts rally to reconnect fathers with children: The Salvation Army is hosting a back to school rally ',\n",
              " 'Vote for Directioners vs Queens in the 5th round of the Billboard FanArmyFaceOff ',\n",
              " 'But if you build an army of 100 dogs and their leader is a lion all dogs will fight like a lion.',\n",
              " \"'Show Me a Hero': TV Review  \",\n",
              " 'One Direction Is my pick for  Fan Army Directioners  x1392',\n",
              " 'INFANTRY Mens Lume Dial Army Analog Quartz Wrist Watch Sport Blue Nylon Fabric  - Full rea  ',\n",
              " 'One Direction Is my pick for  Fan Army Directioners  x1441',\n",
              " \"VICTORINOX SWISS ARMY DATE WOMEN'S RUBBER MOP WATCH 241487  \",\n",
              " '.: .: .: .: .: .: .: .: .: .: .: .: .: .: .: .: .: .: .: .: .: RT DrAyesha4: IndiaKoMunTorJawabDo\\n\\nIndian Army ki ',\n",
              " '5 Seconds of Summer Is my pick for  Fan Army 5SOSFAM   1',\n",
              " 'Beyonce Is my pick for  Fan Army Beyhive  78',\n",
              " 'One Direction Is my pick for  Fan Army Directioners  x1386',\n",
              " 'You da One \\n\\nMTVSummerStar VideoVeranoMTV  MTVHottest Britney Spears Lana Del Rey',\n",
              " 'One Direction Is my pick for  Fan Army Directioners ',\n",
              " \"Stony Jackson is America's last hope as he leads an army of felons thus and army rejects against the army o Satan - \",\n",
              " 'WWI WWII JAPANESE ARMY NAVY MILITARY JAPAN LEATHER WATCH WAR MIDO WW1 2 - Full read by eBay  ',\n",
              " 'Beyonce Is my pick for  Fan Army Beyhive  72',\n",
              " '7.Beyonce Is my pick for  Fan Army Beyhive ',\n",
              " 'Beyonce Is my pick for  Fan Army Beyhive  66',\n",
              " '6.Beyonce Is my pick for  Fan Army Beyhive ',\n",
              " 'POTUS appoints Brig. Gen. Richard G. Kaiser as member of the Mississippi River Commission. Learn more about the MRC: ',\n",
              " 'AP what a violent country get the army involved to help control the killings and bring back peace to the poor people.',\n",
              " 'WWI WWII JAPANESE ARMY NAVY MILITARY JAPAN LEATHER WATCH WAR MIDO WW1 2 - Full read by eBay  ',\n",
              " 'WWI WWII JAPANESE ARMY NAVY MILITARY JAPAN LEATHER WATCH WAR MIDO WW1 2 - Full read by eBay  ',\n",
              " 'One Direction Is my pick for  Fan Army Directioners  x1434',\n",
              " 'One Direction Is my pick for  Fan Army Directioners ',\n",
              " 'Two Jewish Terrorists Charged In Historic-Church Arson  The Ugly Truth  ',\n",
              " \"Spokane authorities say they're struggling to solve arson cases like today's on Hamilton.  \",\n",
              " 'Thousands attend a rally organized by Peace Now protesting the arson attack that took the life of an ',\n",
              " 'Add Familia to the arson squad.',\n",
              " 'Another fake hate crime Lesbians burn their own house down. What else Is new :',\n",
              " 'Los Angeles Times: Arson suspect linked to 30 fires caught in Northern ... -  NewsInTweets ',\n",
              " 'Mourning notices for stabbing arson victims stir politics of grief in Israel ',\n",
              " 'Mourning notices for stabbing arson victims stir politics of grief in Israel ',\n",
              " 'The Sound of Arson',\n",
              " 'Owner of Chicago-Area Gay Bar Admits to Arson Scheme  LGBT  ',\n",
              " 'Wait What???  ',\n",
              " 'Arson suspect linked to 30 fires caught in Northern California ',\n",
              " 'Trial Date Set for Man Charged with Arson Burglary ',\n",
              " 'After death of Palestinian toddler in arson\\nattack Israel cracks down on Jewish',\n",
              " 'Palestinian Teen Killed Amid Protests Against Arson Attack ',\n",
              " 'Kisii Police in Kisii hunt for students over failed arson plot: Police in Kisii hunt for students...  CountyNews',\n",
              " 'Mariah getting thick in the shoulders poor girl.',\n",
              " 'Mourning notices for stabbing arson victims stir politics of grief in Israel: Posters for Shira Banki and A... ',\n",
              " 'RelaxInPR: miprv: RT latimes: Arson suspect linked to 30 fires caught in Northern California ',\n",
              " 'Jewish leaders prayed at the hospital where a Palestinian family is being treated after arson  via HuffPostRelig',\n",
              " 'Owner of Chicago-Area Gay Bar Admits to Arson Scheme  via theadvocatemag LGBT',\n",
              " 'saynae angel or arson',\n",
              " 'Kisii Police in Kisii hunt for students over failed arson plot: Police in Kisii hunt for students...  CountyNews',\n",
              " 'Mourning notices for stabbing arson victims stir politics of grief in Israel ',\n",
              " 'Owner of Chicago-Area Gay Bar Admits to Arson Scheme  via theadvocatemag LGBT  ',\n",
              " 'Owner of Chicago-Area Gay Bar Admits to Arson Scheme  LGBT  ',\n",
              " 'Mourning notices for stabbing arson victims stir politics of grief in Israel ',\n",
              " 'Owner of Chicago-Area Gay Bar Admits to Arson Scheme  LGBT',\n",
              " 'Arson suspect linked to 30 fires caught in Northern California  (via latimes)',\n",
              " 'Tennessee lesbian couple faked hate crime and destroyed own home with arson  Lesbian',\n",
              " 'Arson suspect linked to 30 fires caught in Northern California - Los Angeles Times ',\n",
              " 'Arson suspect linked to 30 fires caught in Northern California ',\n",
              " '301DC Cloudygoldrush i hate white people mo',\n",
              " 'NOWPLAYING Arsonist MC -  So Impressed -  ARSONISTMUSIC ',\n",
              " 'Alleged East Bay serial arsonist arrested ',\n",
              " 'Safyuan just a minor citation for possesion of a decriminalized substance im not facing any time',\n",
              " 'Suspected serial arsonist arrested in Calif. ',\n",
              " 'Arson suspect linked to 30 fires caught in Northern California ',\n",
              " 'localarsonist diamorfiend the legal system NEVER forgets',\n",
              " 'Casperrmg u on dick',\n",
              " 'BloorOssington arsonist also burned a mattress on Northumberland St cbcto ',\n",
              " \"'wHeRE's mY aRsOnISt aT???'\",\n",
              " \"If you don't have anything nice to say you can come sit with me.\",\n",
              " 'Vegetarian Vegan Video shows arsonist torching popular BK restaurant Strictly Vegetarian...  GoVegan UniteBlue',\n",
              " 'Arsonist arrested for setting many fires. WATCH tonights other headlines:  Nightbeat VeronicaDLCruz 2MinuteMix',\n",
              " 'Video Captures Man Removing American Flag From Long Beach CA Home Burning It; Arsonist Sought  ',\n",
              " '58hif my trick is to think about nasty things',\n",
              " 'Spotlight Take Me To Paradise by Arsonist MC WNIAGospel  arsonistmusic ',\n",
              " 'who makes these? ',\n",
              " 'on town of salem i just melted ice cube bc im the arsonist :D',\n",
              " 'Arsonists being blamed for a blaze at a plastics recycling business in Adelaide  pcaldicott7 reports. 7NewsAdl ',\n",
              " 'i be on that hotboy shit',\n",
              " 'Zodiac Girl feat Trey Dupree (Produced By Sparkz Beatz)  Chuck Da Arsonist ',\n",
              " 'localarsonist LMFAO',\n",
              " 'Alleged East Bay serial arsonist arrested SanFrancisco - ',\n",
              " 'Doofus diamorfiend im jokin still cant be on moves:',\n",
              " \"localarsonist I guess u can say that it's just some shit I was thinking about\",\n",
              " 'Arsonist Sets NYC Vegetarian Restaurant on Fire: Police NewYork - ',\n",
              " 'I liked a YouTube video from slimebeast  Town of Salem  How to Win as The Arsonist',\n",
              " 'Casperrmg BestComedyVine whats cracking cuz',\n",
              " 'smoke good fuck eat drink drive nice car wear all green mink',\n",
              " 'kill i got court the day after earl',\n",
              " 'localarsonist lmao but real live you should go',\n",
              " 'Owner of Chicago-Area Gay Bar Admits to Arson Scheme: Frank Elliott pleaded guilty to hiring an arsonist to to... ',\n",
              " 'Trusting Iran to stop terrorism is like inviting an arsonist to join the fire brigade - Telegraph ',\n",
              " 'Big Top Burning The True Story Of An Arsonist A Missing Girl  :  .',\n",
              " 'Stay vigilent. Civil liberties are under constant attack. nativehuman myreligion  ',\n",
              " 'Credit to pfannebeckers for inspiring me to rediscover this fantabulous tbt ',\n",
              " '  Nashville Theater Attack: Will Gun Grabbers Now Demand Hatchet Control?',\n",
              " 'BREAKING: Terror Attack On\\nPolice Post Udhampur',\n",
              " 'Demi stans really think Heart Attack sold 56 million copies ??',\n",
              " \"it scares me that there's new versions of nuclear attack warnings like just knowing that governments still prepare for them\",\n",
              " 'ISIL claims suicide bombing at Saudi mosque that killed at least 15  ',\n",
              " 'DatTomm the funniest part about that twitter is the feminists that try to attack it 4Head',\n",
              " 'Horrific attack on wife by muslim in Italy  LiveLeak News',\n",
              " '93 blasts accused Yeda Yakub dies in Karachi of heart attack  Mumbai',\n",
              " 'etribune  US Drone attack kills 4-suspected militants in North Waziristan AceBreakingNews ',\n",
              " 'Suspect in latest theater attack had psychological issues ',\n",
              " 'Militants attack police post in Udhampur; 2 SPOs injured  LiveMint    AllTheNews',\n",
              " 'BREAKING: Obama Officials GAVE Muslim Terrorist the Weapon Used in Texas Attack ',\n",
              " 'Delhi Government to Provide Free Treatment to Acid Attack Victims in Private Hospitals ',\n",
              " 'New post from darkreading  New SMB Relay Attack Steals User Credentials Over Internet',\n",
              " 'Israeli forces raid home of alleged car attack suspect  palestine',\n",
              " \"Just had a heart attack because I thought my goat was dead. ???? don't worry Rocket is okay. ??\",\n",
              " \"I'm not gonna lie I'm kinda ready to attack my Senior year ??????????\",\n",
              " \"'Left hand side of a diamond is a graveyard shift have to attack and defend'\\nThe right handside no have to do that too you fucking idiot?\",\n",
              " 'volleyball Attack II Volleyball Training Machine - Sets Simulation -  ',\n",
              " \"Notley's tactful yet very direct response to Harper's attack on Alberta's gov't. Hell YEAH Premier!  ableg cdnpoli\",\n",
              " 'Police: Assailant in latest US movie theatre attack was homeless had psychological issues ',\n",
              " 'CaIxxum5SOS thanks for the damn heart attack',\n",
              " 'Suspect in latest US theatre attack had psychological issues  ',\n",
              " 'India shud not give any evidence 2 pak.They will share with terrorists &amp; use for next attack.Share with oth contries ',\n",
              " 'illegal alien released by ObamaDHS 4 times Charged With Rape &amp; Murder of Santa Maria CA Woman Had Prior Offenses  ',\n",
              " 'Strongly condemn attack on ARY news team in Karachi. A cowardly act against those simply trying to do their job!',\n",
              " 'Nashville Theater Attack: Will Gun Grabbers Now Demand Hatchet Control?  ',\n",
              " \"The fact that the atomic bombs were called 'Little Boy' and 'Fat man' says a lot about the mentality that went into the attack.\",\n",
              " 'blazerfan not everyone can see ignoranceshe is Latinoand that is All she can ever benothing morebut an attack dog 4 a hate group GOP',\n",
              " 'Heart disease prevention: What about secondhand smoke? ',\n",
              " 'A Dayton-area org tells me it was hit by a cyber attack: ',\n",
              " \"Attack on Titan game on PS Vita yay! Can't wait for 2016\",\n",
              " 'infowars  Nashville Theater Attack: Will Gun Grabbers Now Demand Hatchet Control?  nwo',\n",
              " 'anxiety attack ??',\n",
              " 'My dog attacked me for my food pugprobs',\n",
              " 'Cop injured in gunfight as militants attack Udhampur police post: Suspected militants attacked a police post i... ',\n",
              " 'envw98 NickCoCoFree JulieDiCaro jdabe80 I asked how did he feel attacked by julie.  I asked if he was frail.   That is all.',\n",
              " 'messeymetoo I feel attacked',\n",
              " \"I'm feeling so attacked \",\n",
              " \"Once again black men didn't make it that way. White men did so why are black men getting attacked  \",\n",
              " \"I cant believe a fucking cis female is going to somehow claim to be offended over a transgendered female who's been attacked by media\",\n",
              " 'Israeli helicopters that attacked civilians in Gaza just completed exercises in Greece.',\n",
              " 'Christian Attacked by Muslims at the Temple Mount after Waving Israeli Flag via Pamela Geller - ... ',\n",
              " 'Christian Attacked by Muslims at the Temple Mount after Waving Israeli Flag via Pamela Geller - ... ',\n",
              " 'Christian Attacked by Muslims at the Temple Mount after Waving Israeli Flag via Pamela Geller - ... ',\n",
              " 'PT: The unit attacked by IS was responsible for targeting Muslim Scholars and imprisoning the youth. ',\n",
              " 'Telnet attacked from 124.13.172.40 (STREAMYX-HOME-SOUTHERN MY)',\n",
              " 'Christian Attacked by Muslims at the Temple Mount after Waving Israeli Flag via Pamela Geller - ... ',\n",
              " 'TBT Remember that time Patrick Kane attacked a cab driver over .20',\n",
              " 'im feeling attacked ',\n",
              " 'IK Only Troll His Pol Rivals Never Literally Abused Them Or Attacked Their Families. While All Of Them Literally Abuse IK. Loosers',\n",
              " 'Christian Attacked by Muslims at the Temple Mount after Waving Israeli Flag via Pamela Geller - ... ',\n",
              " 'Christian Attacked by Muslims at the Temple Mount after Waving Israeli Flag via Pamela Geller - ... ',\n",
              " 'envw98 NickCoCoFree JulieDiCaro jdabe80 Why am I the worst person? Questioning how julie attacked him?  Do you guys have no empathy?',\n",
              " 'Kelly Osbourne attacked for racist Donald Trump remark about Latinos on The View ',\n",
              " \"eunicenjoki aiii she needs to chill and answer calmly its not like she's being attacked\",\n",
              " 'Christian Attacked by Muslims at the Temple Mount after Waving Israeli Flag via Pamela Geller - ... ',\n",
              " 'Christian Attacked by Muslims at the Temple Mount after Waving Israeli Flag via Pamela Geller - ... ',\n",
              " 'Christian Attacked by Muslims at the Temple Mount after Waving Israeli Flag via Pamela Geller - ... ',\n",
              " \"I attacked Robot-lvl 19 and I've earned a total of 6615434 free satoshis!  robotcoingame Bitcoin FreeBitcoin\",\n",
              " 'Christian Attacked by Muslims at the Temple Mount after Waving Israeli Flag via Pamela Geller - ... ',\n",
              " 'christinalavv lindsaywynn3 I just saw these tweets and I feel really attacked',\n",
              " 'Christian Attacked by Muslims at the Temple Mount after Waving Israeli Flag via Pamela Geller - ... ',\n",
              " 'Christian Attacked by Muslims at the Temple Mount after Waving Israeli Flag via Pamela Geller - ... ',\n",
              " 'Christian Attacked by Muslims at the Temple Mount after Waving Israeli Flag via Pamela Geller - ... ',\n",
              " 'TV program I saw said US air plane flew to uranium mine in Fukushima and attacked by machine gun when student army were digging it.',\n",
              " 'Christian Attacked by Muslims at the Temple Mount after Waving Israeli Flag via Pamela Geller - ... ',\n",
              " 'MageAvexis &lt; things. And what if we get attacked?',\n",
              " 'Christian Attacked by Muslims at the Temple Mount after Waving Israeli Flag via Pamela Geller - ... ',\n",
              " 'WeLoveLA NHLDucks Avalanche Defense: How They Match vs St. Louis Blues  SportsRoadhouse',\n",
              " \"I liked a YouTube video  Kalle Mattson - 'Avalanche' (Official Video)\",\n",
              " \"we'll crash down like an avalanche\",\n",
              " \"Colorado Avalanche Men's Official Colorado Avalanche Reebok T-Shirt XL Blue 100 Cotton  NHL Hockey\",\n",
              " '2 TIX 103 Frozen Fury XVII: Los Angeles Kings v Avalanche 103 Row:AA MGM Grand ',\n",
              " 'I BET YOU DIDNT KNOW I KICK BOX TOO! ',\n",
              " \"A little piece I wrote for the Avalanche Designs blog! I'd appreciate it greatly if you checked it out :-)  \",\n",
              " 'PATRICK ROY 1998-99 UPPER DECK SPX 171 FINITE 1620 MADE COLORADO AVALANCHE MINT  ',\n",
              " \"Musician Kalle Mattson Recreates 34 Classic Album Covers in Clever Music Video for 'Avalanche' \",\n",
              " 'Beautiful Sweet Avalanche Faith and Akito roses with lots of frothy gyp.  weddinghour ',\n",
              " '1-6 TIX Calgary Flames vs COL Avalanche Preseason 929 Scotiabank Saddledome ',\n",
              " 'Secrets up avalanche: catechize inner self for the confidential communication as respects creating worth in len...',\n",
              " 'the fall of leaves from a poplar is as fully ordained as the tumbling of an avalanche - Spurgeon',\n",
              " 'I saw two great punk bands making original music last week. Check em out here!! GHOSTOFTHEAV MontroseBand ',\n",
              " 'GREAT PERFORMANCE CHIP FUELGAS SAVER CHEVY TAHOEBLAZERAVALANCHES-10  ',\n",
              " 'Musician Kalle Mattson Recreates 34 Classic Album Covers in Clever Music Video for Avalanche ',\n",
              " 'driving the avalanche after having my car for a week is like driving a tank',\n",
              " 'Free Ebay Sniping RT?  Chevrolet : Avalanche Ltz Lifted 4x4 Truck ?Please Favorite &amp; Share',\n",
              " \"Chiasson Sens can't come to deal ColoradoAvalanche Avalanche  \",\n",
              " \"Paul Rudd Emile Hirsch David Gordon Green 'Prince Avalanche' Q&amp;A  Filmmakers at Google   entretenimento Video\",\n",
              " 'Great one time deal on all Avalanche music and with purchase get a Neal Rigga shirt ',\n",
              " '.bigperm28 was drafted by the Avalanche in 2005 (rd. 4 124) overall. Played last season in UtahGrizz. ',\n",
              " 'I HAVE GOT MORE VIDEOS THAN YOU RAPPERS GOT SONGS! ',\n",
              " 'funkflex yo flex im here ',\n",
              " \"You are the avalanche. One world away. My make believing. While I'm wide awake.\",\n",
              " 'The possible new jerseys for the Avalanche next year. ???? ',\n",
              " \"What a feat! Watch the BTS of kallemattson's incredible music video for Avalanche:  ????\",\n",
              " 'Avalanche City - Sunset  nowplay listen radio',\n",
              " 'Chevrolet : Avalanche LT 2011 lt used 5.3 l v 8 16 v automatic 4 wd pickup truck premium b  ',\n",
              " 'No snowflake in an avalanche ever feels responsible.',\n",
              " 'STAR WARS POWER OF THE JEDI COLLECTION 1 BATTLE DROID HASBRO - Full read by eBay  ',\n",
              " 'CIVIL WAR GENERAL BATTLE BULL RUN HERO COLONEL 2nd NEW HAMPSHIRE LETTER SIGNED !  ',\n",
              " 'Dragon Ball Z: Battle Of Gods (2014) - Rotten Tomatoes  via RottenTomatoes',\n",
              " 'I added a video to a YouTube playlist  World Of Tanks - Battle Assistant Mod Bat Chat Arti kaboom',\n",
              " 'YA BOY CLIP VS 4KUS FULL BATTLE\\n\\n15MofeRadio Heavybag201 battledom QOTRING BattleRapChris Hughes1128 \\n\\n',\n",
              " 'Indeed!! I am fully aware of that battle! I support you in that fight!!  ',\n",
              " \"It's baaaack!  Petersen's Bowhunting Battle of the Bows.  Make sure you head on over and cast your vote for your... \",\n",
              " \"Tb throwback ??\\n\\n??~ You want a battle? Here's a War! ~ ?? \",\n",
              " 'Kelby Tomlinson mild-mannered 2nd baseman for a great metropolitan team fights a never-ending battle for hits RBI and the SFGiants way.',\n",
              " 'Black Eye 9: A space battle occurred at Star M27329 involving 1 fleets totaling 1236 ships with 7 destroyed',\n",
              " 'What really happened in the Taken King Story Trailer. A space battle that ripped a hole in Saturn. EyTay neur0sis ',\n",
              " 'THESE AFTER BATTLE ANIMATIONS ARE SO FUCKING MUCH',\n",
              " 'See what happens with NO Battle of the Block CBSBigBrother!?! ???? finally',\n",
              " 'DU19 who gon get in this rap battle with me',\n",
              " 'Do Your Own Thing: The Battle of Internal vs External Motivation: ',\n",
              " 'Check out this item I just got! Phantasmal Cummerbund  Warcraft',\n",
              " 'A young German stormtrooper engaged in the Battle of the Somme 1916. 800  582  ',\n",
              " 'I liked a YouTube video  Marvel VS DC (Avengers Battle!)',\n",
              " 'UtahCanary sigh daily battle.',\n",
              " \"SexyDragonMagic I've come to the realization that I just don't have the attention span for mass battle games. Both painting and playing.\",\n",
              " 'DetroitPls interested to see who will win this battle',\n",
              " 'Battle of the GOATS  ',\n",
              " 'STAR WARS POWER OF THE JEDI COLLECTION 1 BATTLE DROID HASBRO - Full read by eBay  ',\n",
              " 'Black Eye 9: A space battle occurred at Star O784 involving 2 fleets totaling 4103 ships with 50 destroyed',\n",
              " \"LonePine remembered around Australia as 'descendants' grow via 666canberra Gallipoli WW1\\n \",\n",
              " \"how did I miss that Gary Busey's son plays DIXIE on his electronic green fiddle during the post-battle celebration sequence\",\n",
              " 'News: FedEx no longer to transport bioterror germs in wake of anthrax lab mishaps ',\n",
              " 'FedEx no longer will transport bioterror germs  via USATODAY',\n",
              " 'USA TODAY: .FedEx will no longer to transport bioterror pathogens after ... -  NewsInTweets ',\n",
              " 'FedEx no longer to transport bioterror germs in wake of anthrax lab mishaps  via usatoday',\n",
              " 'Jacksonville Busines FedEx stops shipping potential bioterror pathogens ',\n",
              " 'FedEx will no longer transport bioterror pathogens in wake of anthrax lab mishaps ',\n",
              " '.APHL responds: FedEx no longer to transport bioterror germs in wake of anthrax lab mishaps ',\n",
              " 'News FedEx no longer to transport bioterror germs in wake of anthrax lab mishaps (say what?): FedEx no...  TCOT',\n",
              " 'FedEx to stop transporting bioterror germs after lab mishaps: FedEx has stopped transporting certain research ... ',\n",
              " 'FedEx no longer will ship potential bioterror pathogens  via AtlBizChron',\n",
              " \"frontpage: Bioterror lab faced secret sanctions. RickPerry doesn't make the cut for FoxNews GOPDebate  USATODAY\",\n",
              " 'FedEx no longer to transport bioterror germs in wake of anthrax lab mishaps  via usatoday',\n",
              " 'House Energy &amp;amp; Commerce subcommittee to hold 728 hearing of CDC oversight of bioterror labs Army anthrax mishaps. htt',\n",
              " 'FedEx not willing to transport research specimens of potential bioterror pathogens in wake of anthrax lab mishaps  ',\n",
              " 'world FedEx no longer to transport bioterror germs in wake of anthrax lab mishaps  ',\n",
              " 'FedEx no longer to transport bioterror germs in wake of anthrax lab mishaps  news phone apple mobile',\n",
              " 'RT alisonannyoung: EXCLUSIVE: FedEx no longer to transport research specimens of bioterror pathogens in wake of anthrax lab mishaps ',\n",
              " 'Hmm...this could be problem for some researchers: FedEx no longer to transport select agents  via usatoday',\n",
              " 'world FedEx no longer to transport bioterror germs in wake of anthrax lab mishaps  ',\n",
              " 'FedEx no longer to transport bioterror germs in wake of anthrax lab mishaps ',\n",
              " 'FedEx no longer will ship potential bioterror pathogens - FedEx Corp. (NYSE: FDX) will no longer deliver packages ... ',\n",
              " 'FedEx no longer will ship potential bioterror pathogens - Atlanta Business Chronicle ',\n",
              " 'Thank you FedEx for no longer shipping live microbes for the Department of Defense\\n\\n',\n",
              " \"NowPlaying at orchardalley in LES of nyc 'bioterror- manufactured fear and state repression' abcnorio gardens \",\n",
              " 'FedEx no longer will transport bioterror germs  via usatoday',\n",
              " 'JAX Biz Journal FedEx stops shipping potential bioterror pathogens ',\n",
              " \"USATODAY: On today's frontpage: Bioterror lab faced secret sanctions. RickPerry doesn't make the cut for FoxNew \",\n",
              " 'BreakingNews  FedEx no longer willing to transport research specimens of potential bioter ',\n",
              " 'FedEx no longer to transport bioterror germs in wake of anthrax lab mishaps  via usatoday',\n",
              " 'FedEx stops shipping potential bioterror pathogens  trucking',\n",
              " 'FedEx no longer to transport bioterror germs in wake of anthrax lab mishaps ',\n",
              " 'FedEx no longer to transport bioterror germs in wake of anthrax lab mishaps ',\n",
              " 'FedEx no longer shipping bioterror germs - WXIA-TV  scoopit ',\n",
              " 'FedEx no longer to transport bioterror germs in wake of anthrax lab mishaps ',\n",
              " \"USATODAY: On today's frontpage: Bioterror lab faced secret sanctions. RickPerry doesn't make the cut for FoxNew \",\n",
              " 'FedEx no longer to transport bioterror germs in wake of anthrax lab mishaps  via USATODAY',\n",
              " \"Biolab safety concerns grow: FedEx stops transporting certain specimens. Research facilities 'dumbfounded' by action. \",\n",
              " 'To fight bioterrorism sir.',\n",
              " 'I liked a YouTube video  FEMA REGION III TARGETED for BIOTERRORISM !!! NASA - JAPAN ROCKET LAUNCH with LITHIUM',\n",
              " 'anthrax bioterrorism CDC To Carry Out Extensive Review of Lab Safety And Pathogen Handling Procedures ',\n",
              " 'Firepower in the lab electronic resource : automation in the fight against infectious diseases and bioterrorism  ',\n",
              " 'CAgov If 90BLKs&amp;8WHTs colluded 2 take WHT F USAgov AUTH Hostage&amp;2 make her look BLK wBioterrorism&amp;use her lglorg IDis ID still hers?VP',\n",
              " \"DarrellIssa Does that 'great Iran deal' cover bioterrorism? You got cut off terrible of them. Keep up the good work.\",\n",
              " 'A Tale of Two Pox - Body Horrors  virus infectiousdiseases bioterrorism',\n",
              " 'Bioterrorism public health superbug biolabs epidemics biosurveillance outbreaks  Homeland Security News Wire ',\n",
              " \"Creation of AI\\nClimate change\\nBioterrorism\\nMass automation of workforce\\nContact with other life\\nWealth inequality\\n\\nYea we've got it easy\",\n",
              " 'In Lies We Trust dvd CIA Hollywood and Bioterrorism Len Horowitz Vaccines Nwo  ',\n",
              " \"OMagazine satan's daughter shadow warrior in 50ft women aka transgender mode ps nyc is about to fold extra extra center of bioterrorism\",\n",
              " \"DrRichardBesser Yes. I would think not. But since college 88-92 it's been difficult not to think of bioterrorism esp. bc 'dispersed.'\",\n",
              " 'Volunteers needed to participate in Emergency Preparedness drill simulating a bioterrorism disaster:  HVnewsnetwork',\n",
              " 'MeyerBjoern thelonevirologi MackayIM of a major American newspaper running a series on all the alleged bioterrorism research going on 2n',\n",
              " 'To fight bioterrorism sir.',\n",
              " 'CDC has a pretty cool list of all bioterrorism agents :3',\n",
              " 'Government Experts Concerned About Possible Bioterrorism Using GM Organisms: Scientists are concerned that the... ',\n",
              " 'Does This Prepare Us? HHS Selects 9 Regional Special Pathogen Treatment Centers Bioterrorism Infectious Ebola ',\n",
              " 'StationCDRKelly Any Support Sys 4 USAgov AUTH taken Hostage by BLK US clergyforced 2 exist younger&amp;grossly disfigured by BIOTERRORISM?AP',\n",
              " \"70 won 70...&amp; some think possibility of my full transformation is impossible.  I don't quite like medical mysteries. BIOTERRORISM sucks.\",\n",
              " 'To fight bioterrorism sir.',\n",
              " 'How about a book describing the future of therapies technologies sport sexuality bioterrorism and diagnosis? digitalhealth hcsm',\n",
              " \"APhiABeta1907 wugliness due 2 your 'ugly'AMESocialAction Frat's BIOTERRORISMI'm she who's FBI ID U tolewant'g another in my Home.ABC\",\n",
              " 'HowardU If 90BLKs&amp;8WHTs colluded 2 take WHT F USAgov AUTH Hostage&amp;2 make her look BLK wBioterrorism&amp;use her lglorg IDis ID still hers?',\n",
              " 'To fight bioterrorism sir.',\n",
              " 'cspanwj If 90BLKs&amp;8WHTs colluded 2 take WHT F USAgov AUTH Hostage&amp;2 make her look BLK wBioterrorism&amp;use her lglorg IDis ID still hers?',\n",
              " \"ONUFrance 7475 Bioterrorism on 'RockefellerChiRockefellerUniv'Heiress 2 evade lgl efforts 2 prosecute BLKs 4 HarvardU kidnap'g.AFP\",\n",
              " 'The IranDeal only covers nuclear activity. What are they doing about Bioterrorism? Iran has broken at least 27 other agreements.',\n",
              " 'The Threat  Anthrax  CDC  via CDCgov',\n",
              " 'bioterrorism Authorities allay glanders fears ahead of Rio Olympic equestrian test event  via HorsetalkNZ',\n",
              " 'KaotixBlaze craving u',\n",
              " \"I've been by the pool all day raisinfingers\",\n",
              " 'Do you know anyone looking to move to Hammond OR? Share this listing! ',\n",
              " 'Life is amazin same time its crazy niggas dey wanna blaze me hate it because i made it all it took was dedication n some motivation',\n",
              " 'Blaze is my bro ',\n",
              " 'Shayoly yes I love it',\n",
              " 'See a virtual tour of one of our listings on 547 Fir St Cannon Beach OR listed by Dorrie Caruana. ',\n",
              " 'Pendleton media office said only fire on base right now is the Horno blaze.',\n",
              " 'Welcome djryanwolf djcoreygrand djknyce djoneplustwo OfficialCoreDJs Family Cleveland StandUp IAMTONYNEAL ',\n",
              " 'Love living on my own. I can blaze inside my apt or on the balcony',\n",
              " \"bellalinn alrighty Hit me up and we'll blaze!!\",\n",
              " 'i blaze jays fuck the dutch slave trade.',\n",
              " 'My hair is poverty at the moment need to get a fade before the weekend gets here',\n",
              " 'Property losses from California wildfire nearly double as week-old blaze rages ',\n",
              " 'breaking Firefighters battling blaze at east Cary condo building ',\n",
              " 'niggas love hating.',\n",
              " \"audacityjamesta Don't be like that babes &lt;3 you'll have a ball of fun with me at LAN! :)\",\n",
              " 'I liked a YouTube video from iamrrsb  Minecraft Skywars - O BLAZE QUE USA HACK E FLECHADAS SINISTRAS!',\n",
              " 'What Dems do. Blaze covered months ago.Chicago police detained thousands of black Americans at interrogation facility ',\n",
              " \"Yo I got bars and I'm not even a rapper\",\n",
              " 'UGH Y DID BLAZE PUT THE CALORIES BY THEIR PIZZAS? OK COOL thisispublichealth',\n",
              " 'pic of me and blaze in a fort when we were kids i look like a jackass stuffin my face like that ?????? ',\n",
              " 'looks like a year of writing and computers is ahead. ',\n",
              " 'BeautifulJuic1 just letting you know',\n",
              " \"BabySweet420 I'm mad 420 in your name &amp; you don't blaze.\",\n",
              " 'GuiltyGearXXACP yeah I know but blaze blue dont have a twitter lol I drew this a few weeks ago ',\n",
              " 'socialmedia news - New Facebook Page Features Seek to Help Personalize the Customer Experience ',\n",
              " 'DJJOHNBLazE shout out blaze the hottest DJ in the Sothwest',\n",
              " \"I liked a YouTube video  Minecraft: Episode 2 'Blaze Farm Beginnings!'\",\n",
              " 'Property losses from California wildfire nearly double as week-old blaze rages: The fire ',\n",
              " 'ChristyCroley Not in the works yet. Did you see the new Vela Short in Blaze? ',\n",
              " 'UABStephenLong courtlizcamp Total tweet fail! You are so beautiful inside and out Blaze On!',\n",
              " 'The mixtape is coming i promise. We goin in right now ',\n",
              " 'itzSteven xdojjjj whopperjr760 huh?? me you and leo started that last year and ever since people blaze it in the back??',\n",
              " '3 Bedrooms 1 Baths for sale in 29 Palms CA. (\\n(YouTube Video:... ',\n",
              " '?? Yes I do have 2 guns ?? ??',\n",
              " 'acee DAEM GIRL SMOOTH ASF c: ?',\n",
              " \" ArtisteOfTheWeekFact say Conversations by coast2coastdjs agree CrystalBlaz 's Jiwonle is a HipHop ClubBanger\",\n",
              " 'Bright &amp; BLAZING Fireman Birthday Party  Weddings',\n",
              " 'REAL ViBEZ RADIO - BLAZING THE BEST VIBEZ!!!  nowplaying listenlive',\n",
              " 'Montgomery come for the blazing hot weather...stay for the STDs. Yet another rejected city slogan.',\n",
              " 'Come and join us Tomorrow!\\nAugust 7 2015 at Transcend:Blazing the Trail to the Diversified World of Marketing... ',\n",
              " 'Morgan Silver Dollar 1880 S Gem BU DMPL Cameo Rev Blazing MS+++++ High grade! - Full read   ',\n",
              " 'Morgan Silver Dollar 1880 S Gem BU DMPL Cameo Rev Blazing MS+++++ High grade! - Full read   ',\n",
              " \"This bowl got me thinking... Damn I've been blazing for so damn long\",\n",
              " \"DanRyckert drewscanlon He's blazing through this game with the best stealth skills yet. Nothing beats the silenced M4.\",\n",
              " 'Bit pacquiao vs marquez 3 unfilled blazing swarm online: DuRvOd ',\n",
              " 'Turn on your radios stoponesounds is live on your airwaves  &amp; 107.9 fm StickyNYC 95roots  blazing all your hits',\n",
              " 'BaseballQuotes1 I have a 32 inch dynasty',\n",
              " \"I'm the only weapons master here! Let's go in guns blazing!\\nHinatobot\",\n",
              " 'BlazingBen PattyDs50 gwfrazee JoshuaAssaraf Not really. Sadly I have come to expect that from Obama.',\n",
              " 'SHOUOUT TO kasad1lla CAUSE HER VOCALS ARE BLAZING HOT LIKE THE WEATHER SHES IN',\n",
              " 'S3XLEAK!!!\\nPh0tos of 19yrs old Ashwo lady in Festac town from Delta exp0sed on BBM 5 leaked pictures... ',\n",
              " 'Oh my heart racing And my temperature is blazing through the roof VideoVeranoMTV Fifth Harmony',\n",
              " 'omgbethersss BethanyMota haha love this??',\n",
              " \"dmac1043 Colorado is a Spanish word (Latin origin meaning 'reddish' or 'colored')  all you dummies are pronouncing it wrong!!!\",\n",
              " 'Why Some Traffic Is Freezing Cold And Some Blazing Hot  And How To Heat Up Some Of Your Traffic ',\n",
              " \"I'm crazy enough to run in 95 degree mid-day heat under the blazing sun in a place where I'm not \",\n",
              " \"I'm blazing rn and there's nothing you can do to stop me\",\n",
              " 'Still blazing ????',\n",
              " 'bekahw thanks! I sweat bullets every time I get in with this blazing sun beating down on me.',\n",
              " 'ACOUSTICMALOLEY no he was blazing it',\n",
              " \"OfficialTJonez Your 'Lost For Words' made me a new fan of yours fam. Crazy skills beyond blessed! Keep blazing dude made love and respect!\",\n",
              " '**Let - Me - Be - Your - Hot - Blazing - Fantasy**  \\nescorts gfe DUBAI ',\n",
              " 'srajapakse Why thank you there missy ?? thought it suited the blazing hot summertime ?? yee-haw! ??',\n",
              " 'asukager magical bag of blazing',\n",
              " \"The Blazing Elwoods BlazingElwoods - Don't Bother Me (Doug's Song) -Tune \",\n",
              " 'Morgan Silver Dollar 1921 P CH Gem Bu PL Blazing MS++++++ Satin Rare Proof Like! - Full re  ',\n",
              " 'Blazing Hot! Etisalat Free MB For Complete 12 Months: Etisalat Is Giving out 100MB on TECNO Q1 here is the Ime... ',\n",
              " 'FunkyLilShack mariaf30 I want a full on bitch slapping guns blazing cake throwing Charles showdown!! Now THAT will be worth the wait ????',\n",
              " \"Follow EdWelchMusic and check out his Hit Single 'Unpacked' Man its BLAZING!!!\",\n",
              " \"I still don't know how 8 hours of physical activity in the blazing sun isn't a sport.\",\n",
              " 'Ways so archetype a bleeding well-grounded readiness: FpOJ ',\n",
              " \"Threw a chicken nugget at my sisters lip and now it's bleeding??\",\n",
              " \"you could slit my throat and I'd apologize for bleeding on you\",\n",
              " 'Joe Landolina: This gel can make you stop bleeding instantly  arizona realestate ',\n",
              " 'now my nose is bleeding. the last one was like 10 years ago',\n",
              " \"I have been bleeding into this typewriter all day but so far all I've written is a bunch of gunk.\",\n",
              " \"JaydenNotJared I can't help it. Hope you're ok. Text me if you need to talk. Sending hugs your way. PS no bleeding to death allowed\",\n",
              " \"you can stab me in the back but I promise you'll be the one bleeding\",\n",
              " \"Apparently if you're bleeding people look at you weird lol well it's fine keep walking\",\n",
              " 'Eating takis then rubbing my eyes with my hands now my eyes are bleeding tears',\n",
              " 'DarrylB1979 yea heard about that..not coming out until 2017 and 2019 ?????? Vampiro is bleeding',\n",
              " 'CoreyAshe Did that look broken or bleeding?',\n",
              " 'i hit my foot now my toe is bleeding ??',\n",
              " \"KingNaruto As long as I see Madara bleeding I'm good ??\",\n",
              " \"Keep thinking about it until I stepped on a broken glass pun tak sedar and I don't feel the pain also it's bleeding. Shit\",\n",
              " 'My ears are bleeding  ',\n",
              " 'I waited 2.5 hours to get a cab my feet are bleeding',\n",
              " \"It's not a cute dinner date Til cams nose starts bleeding\",\n",
              " 'UptownJorge head up like yo nose bleeding',\n",
              " \"I've been bleeding in your silence \\nI feel safer in your violence .\",\n",
              " \"Jannet2208 I fell off someone's back and hit my head on concrete : I was bleeding n shit\",\n",
              " \"KatRamsland Yes I'm a bleeding heart liberal.\",\n",
              " \"Deadpool is already one of my favourite marvel characters and all I know is he wears a red suit so the bad guys can't tell if he's bleeding\",\n",
              " 'beckyfeigin I defs will when it stops bleeding!',\n",
              " \"SoDamnTrue  we know who u are you're a bleeding heart wannabe pickup artist\",\n",
              " 'chaosmagician97 awesome!! I saw he was bleeding pretty bad',\n",
              " \"burberryant bleeding on the brain don't know the cause\",\n",
              " \"lets see how good you are at soccer when you're bleeding out yo face\",\n",
              " 'tammyw1997 ElijahMallari bleeding wild things running around the apartment while hes in work at the bar ????????',\n",
              " 'ColoicCarnality You were bleeding my instincts kicked in. *She looks away and scratches the back of her head*',\n",
              " 'my ears are bleeding i hate stefano',\n",
              " 'My ear started bleeding again...',\n",
              " 'Benjm1 TourofUtah B1Grego saw that pileup on TV keep racing even bleeding',\n",
              " 'A rave wedding ? Am I seeing this  my eyes are bleeding',\n",
              " 'they say bad things happen for a reason\\nbut no wise words gonna stop te bleeding',\n",
              " 'DamnAarielle yo timeline blew up so damn fast',\n",
              " 'mfalcon21 go look. Just blew it up w atomic bomb.',\n",
              " \"I blew up oomf instagrams cause she's cute and she's an active follower\",\n",
              " 'b24fowler I see that! Crazy how this line blew up.',\n",
              " 'My Instagram just blew up apparently I was featured on I am jazz tonight. How cool is that love her',\n",
              " \"i'd still be team usagi even if she blew up the entire solar system by some airhead misstep\",\n",
              " \"BenKin97 Mili5499 remember when u were up like 4-0 and blew it in one game? U probs don't because it was before the kings won the cup\",\n",
              " \"i hate people who tweet 'receipts' but KNOW its wrong\\n\\nbut they wont take it down bc it 'blew up'\\nliterally gtfo you're that desperate\",\n",
              " \"I think I just blew up HopeInHearts notifications. Go check her out she's so encouraging to me ???? love her ??\",\n",
              " 'Hw18 going 90-100. Dude was keeping up with me. Took the same exit. Pulled to the side and told me he blew his motor. Lolol 2fast2furious',\n",
              " \"The universe might not actually exist scientists say  'The SUN blew up and the Earth began'...\",\n",
              " 'Max blew tf up ! ?????? shots fired ???? CatfishMTV',\n",
              " 'Rick and Morty - They Blew Up : ',\n",
              " 'CodyThompson25 ty just blew up the motor went up in flames he got out ok',\n",
              " \"Just realized my dude OnlyFTF was on that 'What Are Those' way before it blew up  the tusky ?? game robsimss CantMissKid\",\n",
              " 'This night just blew up rq',\n",
              " 'I blew up snapchat for no reason ??',\n",
              " \"Queens Gambit went well until Anakin blew up the droid control ship. Oh well still fun! Can't Stop is next! WBC2015\",\n",
              " \"iphooey TIME Ironically Michele Bachmann brought this up in '11 wRon Paul &amp; everyone blew her off and called hoax. She was finally right\",\n",
              " 'Catfish retweeted me &amp; my notifications blew up ??????.',\n",
              " 'Some guy whistled at me in the parking lot &amp; it did not help that the wind blew my skirt up getting in the car ??',\n",
              " 'Blew up those mentions',\n",
              " 'The 1st time someone blew up my phone 30 times they would be blocked. Believe it.  Catfish',\n",
              " 'ImAwesome7986 like literally blew up',\n",
              " 'FREYAS VIDEO BLEW UP EVERYWHERE',\n",
              " 'YahooSchwab easy way to look good after the Ray Rice fiasco...that blew up',\n",
              " 'Lmao that light skin guy blew up on Twitter by talking about how ugly he was as a kid..',\n",
              " 'Because you watched: Honey I Blew up the Economy\\n\\nWe Recommend : The Conservative Shoppe of Horrors\\n\\nHarperANetflixShow elxn42 stopharper',\n",
              " 'Did anyone else see that fireball falling to earth? Look like a plane blew up.',\n",
              " 'Ye did the same thing to Big Sean and he still blew up',\n",
              " 'Zayn just blew up twitter.',\n",
              " 'Bitch done blew my shit up',\n",
              " \"WeLoveRobDyrdek adrianpeel not a damn clue. Tried to see how many clicks I could get before I blew up. That's how I played.\",\n",
              " 'Daorcey nsit YOUR a great pair. Like a couple of Graywardens fighting the blight...',\n",
              " 'DaMidnighter theres actually a theory out there that the magisters arent the only reason for the blight\\nthat dwarves (the ones from the',\n",
              " 'As a cycling fan I feel sorry for world athletics doping is a blight exacerbated monetary reward. A lot of soul searching will be required',\n",
              " 'kynespeace *blight',\n",
              " 'Poor Jack ??',\n",
              " \"realhotcullen I agree but I knew we'd be going to the deep roads again because they found Blight in red lyrium. It ain't over yet &gt;&gt;\",\n",
              " 'Get a load of this welfare loving sponge....a blight on society. ',\n",
              " 'New post: Prysmian secures contract for Blight Bank wind farm ',\n",
              " 'Cleveland Heights Shaker Heights fight blight: The House Next Door ',\n",
              " 'toddcalfee so mattburgener wanted to see that info on blight u got',\n",
              " 'Carl Everest Rob Cobes Whitt Blight Frost Leo Snuff Godly and a few others. I will drink a beer with them. Someday.',\n",
              " 'THDA Kicks Off Anti-Blight Loan Effort in Memphis  ',\n",
              " 'City program to help turn blight into greenspace: The Tennessee Housing Development   news ',\n",
              " 'Demetae12 yes i want to be the new blight leader',\n",
              " \"Releases on the planing level -\\n\\n1. Constellation - Blight on Gaia - iClown's Drumstep Remix\\n2.iClown - Infinity... \",\n",
              " ' - Cleveland Heights Shaker Heights fight blight: The House Next Door ',\n",
              " \"'If you are going to achieve excellence in big things you develop the habit in little matters....' dont know the author\",\n",
              " 'Hendy21 sure the purdies will be alive with the blight ??',\n",
              " 'Tracy Blight Thank you for following me!!',\n",
              " 'Apperception bridgework blight: XxhJeSC ',\n",
              " \"If you dotish to blight your car go right ahead. Once it's not mine.\",\n",
              " 'Sexual Revolution:Blight For Women is out!  Stories via ACeBabes HealthWeekly1 AmateurNester',\n",
              " \"LIKE I SWEAR THE SECRET WE'LL UNCOVER IS THE OLD GODS IN A SLUMBER. I THINK THERES GONNA BE ANOTHER BLIGHT\",\n",
              " 'WillHillBet what is double result live on the app?',\n",
              " 'parksboardfacts first off it is the ZippoLine as no one wants to use it and the community never asked for this blight on the park moveit',\n",
              " 'Look for my Policy Matters Ohio report on CLE and Cuyahoga County blight and greening vacant lands soon!  ',\n",
              " 'anellatulip and put the taint there and that all that the magisters did was to open the gates and let the blight get away from it',\n",
              " 'anellatulip there is a theory that makes way too much sense that says that the dwarves may be the actual origin of the blight',\n",
              " 'The Palestinian refugee tragedy is a blight on humanity &amp; should shame every Israeli for living with it. ',\n",
              " 'Article by Michael Jackman at Metro Times Detroit:\\nThe group later downgraded the estimate to 37 square miles of... ',\n",
              " 'Locksmithing-art respecting elaboration only blight locks: lPDkl',\n",
              " 'jakeblight WeAlIlKnowA you cunt',\n",
              " 'What if every 5000 wins in ranked play gave you a special card back.. Would be cool for the long te ',\n",
              " 'Amazon Deal - wait or buy? ',\n",
              " \"New print available on  - 'Waiting Too Long' by Pamela Blizzard - \",\n",
              " 'Blizzarddraco GIVE ME FREE ART KAMON',\n",
              " 'StevenOnTwatter PussyxDestroyer just order a blizzard pay then put your nuts in it say they have you ball flavored. Boom free ice cream',\n",
              " 'Blizzard of Auz  9 pm CST RadioRiffRocks      2 hrs of Rock to make your hump day complete! ',\n",
              " 'I really wants a rolo blizzard but mom said no so I guess no DQ tonight',\n",
              " 'Ashayo MsMiggi Hi Ashayo! I believe there will be VODs on YouTube after the presentation but there is nothing like seeing it live :)',\n",
              " 'Stats ',\n",
              " 'Tweet4Taiji is a dolphin worship group based on superstitions! Just take a look at their tweets!',\n",
              " \"blizzardfans Lucio!! Let's get the overwatch hype train rolling some more!! Caution though there aren't any breaks\",\n",
              " 'BlizzardGamin ight',\n",
              " 'peanut butter cookie dough blizzard is ??????????????????????',\n",
              " \"My mic and controllers aren't working one second\",\n",
              " \"Tomorrow's Announcement VODs \",\n",
              " 'Updated to Windows 10 now I get this error ',\n",
              " 'New Expansion Ideas - Bard Class Holy Trinity + 1 ',\n",
              " 'DaBorsch not really that shocking :( blizzard lured their old fanbase back with WoD and disappointed us hardcore so everyones leaving again',\n",
              " 'the best thing at DQ is the cotton candy blizzard ??????????????????????????????????????????????????',\n",
              " 'Lizard Wizard in a Blizzard LWB ',\n",
              " 'Blizzarddraco LoneWolffur I need this.',\n",
              " 'FAIRx818x PlayOverwatch BlizzardCS please blizzard we love you',\n",
              " 'A blizzard would be clutch asf ??',\n",
              " 'Blizzarddraco LoneWolffur also me please I would very much like a link',\n",
              " 'BubblyCuteOne ?????????? ok ok okayyyyyy Ima act right ....bout to get this blizzard tho',\n",
              " 'LoneWolffur control yourself tora',\n",
              " 'First Time Playing Hearthstone on PC Thoughts ',\n",
              " 'I love the cotton candy blizzard??',\n",
              " 'TCGReno just hard reset my Xbox',\n",
              " 'I really wanna brownie batter blizzard ??',\n",
              " 'I call it a little bit of your blizzard?',\n",
              " 'Market News: Activision Blizzard Cognizant Technology First Solar ',\n",
              " 'SEAN END CAREER sG Blizzard vs KNOCKOUT ... ',\n",
              " 'What is the biggest regret you have in hearthstone? ',\n",
              " 'Someone walk with me to DQ ??\\nI wanna Butterfinger Blizzard so bad??',\n",
              " 'That horrible moment when u open up the dryer and it looks like a snowy blizzard cuz u left a piece of paper in your jeans pocket ??',\n",
              " 'LoneWolffur BRUH *dies*',\n",
              " 'Rip ?? Blood !',\n",
              " \"ChiefCG nah young blood that cook is gone I'm cut now .haha\",\n",
              " 'Off The Wall Invincible and HIStory + Blood On The Dance Floor ',\n",
              " 'Broke my nail(real not fake) this morning blood and all ah it hurts any ideas how to treat it? Help me pretty please ? --',\n",
              " \"4.5 out of 5 stars by 290 reviewers for 'Dragon Blood' Boxset by Lindsay Buroker  kindle \",\n",
              " 'Blood Group  A +ve is associated with Gastric Carcinoma says text book...Another fragile gene in my body....',\n",
              " 'A friend is like blood they are not beside us always. But they come out when we are wounded.',\n",
              " 'We gone get it  get it in blood',\n",
              " 'people with a tattoo out there.. Are u allowed to donate blood and receive blood as well or not?',\n",
              " 'Doing dialyses to my grandpa and oh lord this blood makes me light headed',\n",
              " 'SetZorah dad why dont you claim me that mean that not right we look the same same eyes same blood same xbox 360 SMH -.-',\n",
              " 'Omron HEM-712C Automatic Blood Pressure Monitor STANDARD AND LARGE BP CUFFS  ',\n",
              " \"My blood pressure is through the roof I don't need all this extra shit!!!!\",\n",
              " 'ChamberedBlood Yeah you are! SpeakingFromExperience',\n",
              " \"Can't believe more people in their mid 20's don't have high blood pressure. Life is stressful. DecisionsOnDecisions\",\n",
              " \"Guys. I have an Imouto Who Isn't Actually Related to Me by Blood.\",\n",
              " 'Bruh white people buy the ugliest shoes and they them super tight no blood going to there feet',\n",
              " 'another day another excellent dangerousbeans porridge. seriously people. blood orange in porridge is phenomenal.',\n",
              " 'scotto519 happy birthday young blood',\n",
              " \"If it wasn't for the Blood! ????\",\n",
              " 'No kinda in it that shii nasty blood. No pun intended',\n",
              " \"Ain't no hoe in my blood\",\n",
              " 'Today was such a hastle from getting drug tested  blood drown out  tb shot  to document filling  ??',\n",
              " 'Man . somebody gotta stop Sbee dude too fuckin funny blood',\n",
              " 'Where will the winds take my gypsy blood this time? ',\n",
              " 'Loboparanoico Mad Men',\n",
              " \"Private thirsty night?SAD BLOOD ROCK'N ROLL? ??\",\n",
              " 'RolandoNaBeats: Ellie Goulding - My Blood  Acesse nosso site para ouvir! ',\n",
              " \"olrules Welcome - Read a free chapter of my new book Encounters With Jesus. It's full of hope. \",\n",
              " 'Anthxvy runs in the blood',\n",
              " 'sethalphaeus my personal favorites include paramore muse green day royal blood and 5sos',\n",
              " 'Shed innocent blood of their sons and daughters and the land was polluted Psalms 106:38  Help stop the sin of abortion.',\n",
              " '*se pone a cantar crying lightning*',\n",
              " 'it wasnt a very big stab but it was a deep stab and theres like blood everwhe',\n",
              " 'Add these items to your everyday eating habits. Please do the research on how to take with your blood ',\n",
              " 'LOOOOOOOOOOOOL who the bloody hell did that??  ',\n",
              " 'infected bloody ear piercings are always fun??',\n",
              " 'aggressif is so bloody aggressive',\n",
              " 'I entered to win the ENTIRE set of butterLONDON Lip Crayons via beram0s. - Go enter! bbloggers ',\n",
              " 'slsandpet Hey Sally sorry have you emailed me? Been AWOL bloody work ARGH! ResignInShame',\n",
              " \"I'm over here listening to Bloody Jay.  ???? \",\n",
              " \"LauradeHolanda I have the Forrest version from '83 that's bloody awful as well :))) xxx\",\n",
              " \"'A Nightmare On Elm Street' Is Getting Remade... Again - \",\n",
              " \"I can't bloody wait!! Sony Sets a Date For Stephen Kings The Dark Tower stephenking thedarktower   bdisgusting\",\n",
              " 'Gotta try to let go of so many bloody things. Smh',\n",
              " 'TradCatKnight (1) Russia may have played into reason but that link is BS.  Okanowa was bloody and mainline invasion looked like a bloody',\n",
              " 'Bloody insomnia again! Grrrr!! Insomnia',\n",
              " 'zhenghxn i tried 11 eyes akame ga kill and tokyo ghoul all damn bloody i dont dare watch????????',\n",
              " \"Fantosex Now suck it up because that's all you're bloody getting out of me by means of amends.\",\n",
              " \"You call them weekends. I call them Bloody Mary times. This summer's been full of them. My new \",\n",
              " \"Bloody hell what a day. I haven't even really done anything. Just. Tired. Of everything. Thought vaca would help but it only did so much. =\",\n",
              " 'Damn bloody hot',\n",
              " \"MrTophyPup it's bloody sexy *drools*\",\n",
              " 'You know how they say the side effects low &amp; really fast? Son the product was an acne cream.. Why 1 of the side effects was bloody diarrhea?',\n",
              " \"Ronda Rousey would be 'close' to making Floyd Mayweather's money in 50 fights - Bloody Elbow  boxing\",\n",
              " \"I'm awful at painting.. why did I agree to do an A3 landscape in bloody oils of all paints ??\",\n",
              " 'All I need in this life of sin\\nIs just me and my girlfriend\\nDown to ride till the bloody end\\nJust me and my girlfriend',\n",
              " \"itsmegss I think it is. well it's bloody barking now\",\n",
              " 'Eh hello cover your bloody thighs your bloody cleav...  Eh hello! Since when do i expose my cleavage and i on... ',\n",
              " 'MariaSherwood2 JohnJCampbell Mega bloody marvellous',\n",
              " 'Bloody Mary in the sink. Beet juice ',\n",
              " 'MelRises gayler1969 wwwbigbaldhead jessienojoke melissaross9847 if my Monty Python is up to date as bloody far as he wants to go.',\n",
              " 'Meet the bloody RS5 ',\n",
              " \"Friday supposed to be a happy day but it's a bloody friday hah zzzz\",\n",
              " 'chxrmingprince jonesluna I should bloody hope so *she said folding her arms sitting back in her chair*',\n",
              " 'Wait until i tell my college friend who reafs bloody mary too about the drama cd',\n",
              " \"'I came to kill Indians...for FUN': Video of smirking and remorseless Pakistani killer shows him boasting. \",\n",
              " \"I've just watched episode S01E09 of Bloody Monday!  bloodymonday tvshowtime \",\n",
              " 'Marlon Williams &gt; Elvis Presley &gt; Marlon Williams &gt; Steel Panther. \\n\\nShuffle mode like a bloody legend.',\n",
              " 'Black Friday turns Bloody (would rather be shopping)   mystery',\n",
              " \"ezralevant Someone told me all the soccer moms are getting this pic blown up and put on their daughter's bedroom walls. NOT!!!\",\n",
              " 'Papcrdoll and I s2g if my mentions get blown up over MY choice I will deactivate and leave for good. RESPECT MY CHOICES.',\n",
              " \"ManUtd EmilymcfcHeslop \\n\\nWow just wow! \\n\\nIf any other club had blown all that money and fucked up a player like that they'd be pilloried!\",\n",
              " 'Damn greinke got blown up in that first inning',\n",
              " 'Woke up so blown lol',\n",
              " \"aunt marge you're blown up eheks\",\n",
              " 'troylercraft YEAH ITS NOT WORTH IT BC HE ALREADY HAS SO MANY SPAMMERS &amp; HIS TWITTER IS PROBABLY BLOWN UP EVERY SECOND',\n",
              " \"White family (supposedly representing America's GREAT values ) gets blown up in a horrible CGI nuclear strike..... LMFAOOOO!!!!!!!!!!!!\",\n",
              " \"Man why hasn't machinegunkelly blown up? He's still underground.\",\n",
              " 'And my mentions are blown up for what? ?? wtf.',\n",
              " 'On ThisDayInHistory in 1862 Confederate ship blown up by crew. Read More  via History',\n",
              " 'That moment when ur about to win a mini uhc and than get blown up by a creeper and get kicked for flying..... So salty rn...!!!??',\n",
              " \"libraryeliza he did get a taylorswift13 'bump' of approval which is probably why he's blown up  MusicAdvisory\",\n",
              " \"'If a truckload of soldiers will be blown up nobody panics but when one little lion dies everyone loses their mind'\\n\",\n",
              " \"HEY LOOK!!!  Kash's Foundation Live for Today got blown up on People Magazine's website!!  \\n\\nTodd Blake... \",\n",
              " \"KaylaK369 got it last month when I went into the EE shop. Glad it hasn't blown up yet. \",\n",
              " 'this is the first time a tweet has blown up almost half a day later... RE ',\n",
              " \"'Were blown away by this extension. Nothing weve seen has as many options as this one.'   \",\n",
              " \"TheBoyOfMasks 'Thanks again for letting me stay here since the manor was blown up..... Anyways how are you doing buddy?'\",\n",
              " 'LONER DIARIES.\\n\\nThe patterns  on the sand\\nMay have been blown away.\\nThe photos in twos\\nAll choked up in flames.... ',\n",
              " 'Even though BSG had been sufficiently hyped up for me in all the years I somehow delayed watching it I was utterly utterly blown away.',\n",
              " \"Vanessa's game has officially blown up. LADIES AND GENTLEMEN...the real show is about to begin. BB17\",\n",
              " 'Guaranteed been bitten by some mutant mosquito my ankle has blown up. Little cunts',\n",
              " 'Things you CAN pick up from tozlet seat: butt leprosy full-blown jerkface syndrome a lateral lisp &amp; toilet rickets.',\n",
              " 'KalinAndMyles KalinWhite my ig is being blown up just with hackers I need it to stop givebackkalinwhiteaccount',\n",
              " 'lukewinkie Whoever is directing these videos needs to grab up Nicki Minaj or someone with U.S. recognition so minds can be blown.',\n",
              " \"PrincessDuck last week wanted the 6th sense to get blown up so far so good. James could win but he's a huge target and will be gone soon.\",\n",
              " 'orbette more like BLOWN UP amirite',\n",
              " 'My dogs just blown his kennel up  Bloody Yorkshire Terrorist',\n",
              " 'Turn on ESPN2 and get blown up',\n",
              " 'HopefulBatgirl went down I was beaten and blown up. Then next thing I know Ra Al Ghul brought me back to life and I escaped and for a---',\n",
              " 'thebriankrause leos ass just got metaphorically blown up again PiperWearsThePants charmed',\n",
              " 'anarchicteapot BoironUSA zeno001 Glononium 6C also helps with being blown up while bashing a bottle of nitroglycerin against a book.',\n",
              " 'New Ladies Shoulder Tote Handbag Women Cross Body Bag Faux Leather Fashion Purse - Full re  ',\n",
              " 'New Ladies Shoulder Tote Handbag Women Cross Body Bag Faux Leather Fashion Purse - Full re  ',\n",
              " 'If you have a son or a daughter would you like to see them going to a war with Iran and come back in a body bag? Let the Republicans know',\n",
              " 'questergirl ditto but its all we had. and the way i feel if i drank vodka over ice they would have to body bag me',\n",
              " ' handbags Genuine Mulberry Antony Cross Body Messenger Bag Dark Oak Soft Buffalo Leather:  279.00End Date: W... ',\n",
              " 'Louis Vuitton Monogram Sophie Limited Edition Clutch Cross body Bag - Full read by eBay  ',\n",
              " 'Louis Vuitton Monogram Sophie Limited Edition Clutch Cross body Bag - Full read by eBay  ',\n",
              " 'Louis Vuitton CultSierre Monogram Shoulder Bag Cross Body Bag   ',\n",
              " 'Check out Ameribag Healthy Back Bag Shoulder Cross Body Backpack Khaki Tan Beige Nylon  eBay',\n",
              " 'Photo: Bath &amp; Body Works cosmetic bag in periwinkle blue with copper piping along the top and four corners.... ',\n",
              " 'New Ladies Shoulder Tote Handbag Women Cross Body Bag Faux Leather Fashion Purse - Full re  ',\n",
              " 'new summer long thin body bag hip A word skirt Blue  ',\n",
              " ' New Ladies Shoulder Tote Handbag Faux Leather Hobo Purse Cross Body Bag Womens   RT en',\n",
              " \"TRjdavis Bruh you wanna fight I'm down meet me in the cage bro better find out who you're dealing with before you end up in a body bag\",\n",
              " 'New Ladies Shoulder Tote Handbag Faux Leather Hobo Purse Cross Body Bag Womens - Full read  ',\n",
              " 'AUTH LOUIS VUITTON BROWN SAUMUR 35 CROSS BODY SHOULDER BAG MONOGRAM 7.23 419-3 - Full read  ',\n",
              " 'Check out Vintage Longaberger Floral Fabric Shoulder Cross Body Bag Brown Leather Strap  eBay',\n",
              " '?? New Ladies Shoulder Tote Handbag Faux Leather Hobo Purse Cross Body Bag Womens  ',\n",
              " 'new summer long thin body bag hip A word skirt Blue  ',\n",
              " '? New Ladies Shoulder Tote Handbag Faux Leather Hobo Purse Cross Body Bag Womens   RT en',\n",
              " 'Louis Vuitton Monogram Sophie Limited Edition Clutch Cross body Bag - Full read by eBay  ',\n",
              " 'New Women Handbag Faux Leather Ladies Shoulder Tote Cross Body Bag Large Satchel - Full re  ',\n",
              " '?? New Ladies Shoulder Tote Handbag Faux Leather Hobo Purse Cross Body Bag Womens  ',\n",
              " 'One day this heart gone get me zipped up in a body bag.',\n",
              " 'handbag fashion style  Authentic Louis Vuitton Pochette Bosphore Shoulder Cross Body Bag ',\n",
              " '? New Ladies Shoulder Tote Handbag Faux Leather Hobo Purse Cross Body Bag Womens  ',\n",
              " 'handbag fashion style  Vintage Coach Purse Camera Bag Cross Body 9973\\n\\n16.99 (0 Bids)\\n ',\n",
              " 'genuine Leather man Bag Messenger fit iPad mini 4 tablet case cross body air jp - Full rea  ',\n",
              " 'Louis Vuitton Monogram Sophie Limited Edition Clutch Cross body Bag - Full read by eBay  ',\n",
              " '?? New Ladies Shoulder Tote Handbag Faux Leather Hobo Purse Cross Body Bag Womens  ',\n",
              " \"Nuu that FAM?? fwt I'm Leave You In a Body bag??\",\n",
              " 'New Ladies Shoulder Tote Handbag Faux Leather Hobo Purse Cross Body Bag Womens - Full read  ',\n",
              " \"Rhee1975 deliciousvomit No I'm not I'm saying that they're lucky they can go home to their families not put in a body bag\",\n",
              " \"mattbez oh I'm not bagging her at all! Her body be bangin'. I'm saying she's going to get the rose.\",\n",
              " \"ohmyloz RondaRousey who is bagging her body ? She's smoking hot ??\",\n",
              " 'Drake is really body bagging meek',\n",
              " 'fuckyeahcarey BornVerified drake killing this dude and tea bagging the dead body at this point',\n",
              " 'MeekMill is w(rec)k league ball Drake is Olympic level body bagging him like his career was nothing trollingtilMeekdiss',\n",
              " 'Idgaf who tough or who from Canada and who from north Philly meek been acting like a bitch &amp; drake been body bagging his ass on tracks',\n",
              " 'Yankees body bagging mfs',\n",
              " 'BroseidonRex dapurplesharpie I skimmed through twitter and missed this body bagging.',\n",
              " 'G+: + Body Bagging them lyrically! ',\n",
              " 'bomairinge EluTranscendent straight body bagging.',\n",
              " 'Body Bagging Bitches ???? ',\n",
              " 'No better feeling than seeing and being on stage with my day ones...... 22 year friendships and we still body bagging mics together.',\n",
              " 'Mopheme and Bigstar Johnson are a problem in this game body bagging niggas VuzuHustle',\n",
              " 'I was body Bagging on the ????Today...4got to post my score ',\n",
              " \"editaxohaze then let the bagging body's begin lol ???? I ain't cuffed yet so it shouldn't be that bad!!\",\n",
              " ...]"
            ]
          },
          "metadata": {
            "tags": []
          },
          "execution_count": 20
        }
      ]
    },
    {
      "cell_type": "markdown",
      "metadata": {
        "id": "uXT2Wu2T8JlS"
      },
      "source": [
        "## 3.3 - split into training set and validation set"
      ]
    },
    {
      "cell_type": "code",
      "metadata": {
        "id": "iTKgBJ0vj5GM",
        "colab": {
          "base_uri": "https://localhost:8080/",
          "height": 85
        },
        "outputId": "77c3c850-372b-4514-818c-41aeaab6e27a"
      },
      "source": [
        "# split the data into a training set and a validation set\n",
        "VALIDATION_SPLIT = 0.25\n",
        "#indices =np.arange(tweets_pad.shape[0])\n",
        "indices =np.arange(text.shape[0])\n",
        "np.random.shuffle(indices)\n",
        "text=text[indices]\n",
        "target=target[indices]\n",
        "num_validation_samples=int(VALIDATION_SPLIT*text.shape[0])\n",
        "\n",
        "# training set\n",
        "train_text=text[:-num_validation_samples]\n",
        "train_label=target[:-num_validation_samples]\n",
        "\n",
        "# validation set\n",
        "val_text=text[-num_validation_samples:]\n",
        "val_label=target[-num_validation_samples:]\n",
        "\n",
        "print('shape of X_train_pad tensor:', train_text.shape)\n",
        "print('shape of y_train tensor:', train_label.shape)\n",
        "\n",
        "print('shape of X_test_pad tensor:', val_text.shape)\n",
        "print('shape of y_test tensor:', val_label.shape)\n"
      ],
      "execution_count": null,
      "outputs": [
        {
          "output_type": "stream",
          "text": [
            "shape of X_train_pad tensor: (5709, 1)\n",
            "shape of y_train tensor: (5709,)\n",
            "shape of X_test_pad tensor: (1903, 1)\n",
            "shape of y_test tensor: (1903,)\n"
          ],
          "name": "stdout"
        }
      ]
    },
    {
      "cell_type": "markdown",
      "metadata": {
        "id": "nN4lFMn98w_1"
      },
      "source": [
        "## 3.4 - prepare the BERT inputs (id, mask, segment)"
      ]
    },
    {
      "cell_type": "code",
      "metadata": {
        "id": "lmbHOqHJGlGb",
        "colab": {
          "base_uri": "https://localhost:8080/",
          "height": 217,
          "referenced_widgets": [
            "2c87f8e285ae442cac809c0f74df210b",
            "6f5f6b6483134ef79d70e919428988be",
            "ecd81d9666954ffbabc9a7309351f0eb",
            "ef02f78dfda6492cb834b1d2feaefe13",
            "fe5537ff732342fdaa15e54748ca4cd7",
            "a9bb97ed193744f888384f83ec1e2eee",
            "6afbd2c3ecc1437394ff38ad5069b9ee",
            "8ea208062830458eb01d52a36b506e12",
            "a76f6848fe5546baa1645839d05aa8ae",
            "a64ffbebab4d4e8aad2ffdca36bded70",
            "06d62ca80d9241afa34d6ec888c4e9be",
            "694c4922bac943f29eb50fde93fa1678",
            "819007298ead4bdb9f870a843050d0cb",
            "59c6eca198fb43feb06bf809848e0680",
            "b20ff9c2a0984fbb9e06961528031ab8",
            "187e76a9c1df44da9e08aaf5b115a024"
          ]
        },
        "outputId": "0c037fe7-3857-4b87-c427-d2528bcfcd02"
      },
      "source": [
        "# Instantiate tokenizer\n",
        "tokenizer = create_tokenizer_from_hub_module()\n",
        "\n",
        "# Convert data to InputExample format\n",
        "train_examples = convert_text_to_examples(train_text, train_label)\n",
        "val_examples = convert_text_to_examples(val_text, val_label)\n",
        "\n",
        "# Convert to features\n",
        "# training set\n",
        "(train_input_ids, train_input_masks, train_segment_ids, train_labels \n",
        ") = convert_examples_to_features(tokenizer, train_examples, max_seq_length=max_seq_length)\n",
        "train_input=(train_input_ids, train_input_masks, train_segment_ids, train_labels )\n",
        "# validation set\n",
        "(val_input_ids, val_input_masks, val_segment_ids, val_labels\n",
        ") = convert_examples_to_features(tokenizer, val_examples, max_seq_length=max_seq_length)\n",
        "val_input= (val_input_ids, val_input_masks, val_segment_ids, val_labels)"
      ],
      "execution_count": null,
      "outputs": [
        {
          "output_type": "stream",
          "text": [
            "INFO:tensorflow:Saver not created because there are no variables in the graph to restore\n"
          ],
          "name": "stdout"
        },
        {
          "output_type": "stream",
          "text": [
            "INFO:tensorflow:Saver not created because there are no variables in the graph to restore\n"
          ],
          "name": "stderr"
        },
        {
          "output_type": "stream",
          "text": [
            "WARNING:tensorflow:From /usr/local/lib/python3.6/dist-packages/bert/tokenization.py:125: The name tf.gfile.GFile is deprecated. Please use tf.io.gfile.GFile instead.\n",
            "\n"
          ],
          "name": "stdout"
        },
        {
          "output_type": "stream",
          "text": [
            "WARNING:tensorflow:From /usr/local/lib/python3.6/dist-packages/bert/tokenization.py:125: The name tf.gfile.GFile is deprecated. Please use tf.io.gfile.GFile instead.\n",
            "\n"
          ],
          "name": "stderr"
        },
        {
          "output_type": "display_data",
          "data": {
            "application/vnd.jupyter.widget-view+json": {
              "model_id": "2c87f8e285ae442cac809c0f74df210b",
              "version_minor": 0,
              "version_major": 2
            },
            "text/plain": [
              "HBox(children=(IntProgress(value=0, description='Converting examples to features', max=5709, style=ProgressSty…"
            ]
          },
          "metadata": {
            "tags": []
          }
        },
        {
          "output_type": "stream",
          "text": [
            "\n"
          ],
          "name": "stdout"
        },
        {
          "output_type": "display_data",
          "data": {
            "application/vnd.jupyter.widget-view+json": {
              "model_id": "a76f6848fe5546baa1645839d05aa8ae",
              "version_minor": 0,
              "version_major": 2
            },
            "text/plain": [
              "HBox(children=(IntProgress(value=0, description='Converting examples to features', max=1903, style=ProgressSty…"
            ]
          },
          "metadata": {
            "tags": []
          }
        },
        {
          "output_type": "stream",
          "text": [
            "\n"
          ],
          "name": "stdout"
        }
      ]
    },
    {
      "cell_type": "code",
      "metadata": {
        "id": "4XeE6ez_944N",
        "colab": {
          "base_uri": "https://localhost:8080/",
          "height": 34
        },
        "outputId": "ceb6b989-6e8b-4bce-9cee-b275adfadced"
      },
      "source": [
        "tf.__version__"
      ],
      "execution_count": null,
      "outputs": [
        {
          "output_type": "execute_result",
          "data": {
            "text/plain": [
              "'1.15.0'"
            ]
          },
          "metadata": {
            "tags": []
          },
          "execution_count": 23
        }
      ]
    },
    {
      "cell_type": "markdown",
      "metadata": {
        "id": "rCHNGIHnzq2a"
      },
      "source": [
        "# 4 - Training pipeline"
      ]
    },
    {
      "cell_type": "markdown",
      "metadata": {
        "id": "PJQVCYOh0Rfs"
      },
      "source": [
        "## 4.1 - load pre-trained model"
      ]
    },
    {
      "cell_type": "code",
      "metadata": {
        "id": "aBrvDe3001do"
      },
      "source": [
        "# define optimizer\n",
        "# lr=learning rate\n",
        "from tensorflow.keras.optimizers import SGD\n",
        "sgd = SGD(lr=0.001)"
      ],
      "execution_count": null,
      "outputs": []
    },
    {
      "cell_type": "code",
      "metadata": {
        "id": "A0-vHFSZ2k1N",
        "colab": {
          "base_uri": "https://localhost:8080/",
          "height": 425
        },
        "outputId": "8d7208f1-f3c0-4e0c-9305-d79d8c147a88"
      },
      "source": [
        "# load BERT model pretrained on IMDB movies reviews\n",
        "bert_pretrained_model=None\n",
        "nb_trained_layers=6\n",
        "bert_pretrained_model = build_model(max_seq_length, sgd, nb_trained_layers)\n",
        "initialize_vars(sess)\n",
        "#bert_pretrained_model.load_weights('../gdrive/My Drive/colab/pretrained_models/BertModel.h5', by_name=True)"
      ],
      "execution_count": null,
      "outputs": [
        {
          "output_type": "stream",
          "text": [
            "INFO:tensorflow:Saver not created because there are no variables in the graph to restore\n"
          ],
          "name": "stdout"
        },
        {
          "output_type": "stream",
          "text": [
            "INFO:tensorflow:Saver not created because there are no variables in the graph to restore\n"
          ],
          "name": "stderr"
        },
        {
          "output_type": "stream",
          "text": [
            "Model: \"model_5\"\n",
            "__________________________________________________________________________________________________\n",
            "Layer (type)                    Output Shape         Param #     Connected to                     \n",
            "==================================================================================================\n",
            "input_ids (InputLayer)          [(None, 128)]        0                                            \n",
            "__________________________________________________________________________________________________\n",
            "input_masks (InputLayer)        [(None, 128)]        0                                            \n",
            "__________________________________________________________________________________________________\n",
            "segment_ids (InputLayer)        [(None, 128)]        0                                            \n",
            "__________________________________________________________________________________________________\n",
            "bert_layer_5 (BertLayer)        (None, 768)          110104890   input_ids[0][0]                  \n",
            "                                                                 input_masks[0][0]                \n",
            "                                                                 segment_ids[0][0]                \n",
            "__________________________________________________________________________________________________\n",
            "dense_10 (Dense)                (None, 256)          196864      bert_layer_5[0][0]               \n",
            "__________________________________________________________________________________________________\n",
            "dense_11 (Dense)                (None, 1)            257         dense_10[0][0]                   \n",
            "==================================================================================================\n",
            "Total params: 110,302,011\n",
            "Trainable params: 43,314,945\n",
            "Non-trainable params: 66,987,066\n",
            "__________________________________________________________________________________________________\n"
          ],
          "name": "stdout"
        }
      ]
    },
    {
      "cell_type": "markdown",
      "metadata": {
        "id": "Nlo42Pfi0-7P"
      },
      "source": [
        "## 4.2 - Fine-tune BERT model with our data"
      ]
    },
    {
      "cell_type": "markdown",
      "metadata": {
        "id": "UoP-hceuA5gr"
      },
      "source": [
        "### 4.2.2 - training model on data converted to conventional text format"
      ]
    },
    {
      "cell_type": "code",
      "metadata": {
        "id": "lGax9W0JB_XE",
        "colab": {
          "base_uri": "https://localhost:8080/",
          "height": 289
        },
        "outputId": "d2d1cf1d-2564-4ee1-df11-d3588f58603e"
      },
      "source": [
        "# train the classification model (4 epochs)\n",
        "print('Training model...')\n",
        "#history = model_bert.fit(X_train_pad, y_train, batch_size=30, epochs=25, validation_data=(X_test_pad, y_test), verbose=2)\n",
        "initialize_vars(sess)\n",
        "\n",
        "history_pretrained_bert=bert_pretrained_model.fit( [train_input_ids, train_input_masks, train_segment_ids], train_labels, \n",
        "          validation_data=([val_input_ids, val_input_masks, val_segment_ids], val_labels), epochs=7, batch_size=16)"
      ],
      "execution_count": null,
      "outputs": [
        {
          "output_type": "stream",
          "text": [
            "Training model...\n",
            "Train on 5709 samples, validate on 1903 samples\n",
            "Epoch 1/7\n",
            "5709/5709 [==============================] - 150s 26ms/sample - loss: 0.5599 - acc: 0.7294 - val_loss: 0.4803 - val_acc: 0.7782\n",
            "Epoch 2/7\n",
            "5709/5709 [==============================] - 144s 25ms/sample - loss: 0.4331 - acc: 0.8084 - val_loss: 0.4318 - val_acc: 0.8124\n",
            "Epoch 3/7\n",
            "5709/5709 [==============================] - 144s 25ms/sample - loss: 0.3954 - acc: 0.8343 - val_loss: 0.4053 - val_acc: 0.8213\n",
            "Epoch 4/7\n",
            "5709/5709 [==============================] - 144s 25ms/sample - loss: 0.3780 - acc: 0.8427 - val_loss: 0.4032 - val_acc: 0.8203\n",
            "Epoch 5/7\n",
            "5709/5709 [==============================] - 144s 25ms/sample - loss: 0.3581 - acc: 0.8525 - val_loss: 0.4003 - val_acc: 0.8313\n",
            "Epoch 6/7\n",
            "5709/5709 [==============================] - 145s 25ms/sample - loss: 0.3436 - acc: 0.8618 - val_loss: 0.4085 - val_acc: 0.8213\n",
            "Epoch 7/7\n",
            "5709/5709 [==============================] - 144s 25ms/sample - loss: 0.3285 - acc: 0.8688 - val_loss: 0.4129 - val_acc: 0.8219\n"
          ],
          "name": "stdout"
        }
      ]
    },
    {
      "cell_type": "code",
      "metadata": {
        "id": "d2ndtE6zA5TB",
        "colab": {
          "base_uri": "https://localhost:8080/",
          "height": 553
        },
        "outputId": "1c7bd60c-02cb-4fb8-d1cf-78df7078614b"
      },
      "source": [
        "plot_training_history(history_pretrained_bert)"
      ],
      "execution_count": null,
      "outputs": [
        {
          "output_type": "display_data",
          "data": {
            "image/png": "[encoded data removed]",
            "text/plain": [
              "<Figure size 936x648 with 2 Axes>"
            ]
          },
          "metadata": {
            "tags": []
          }
        }
      ]
    },
    {
      "cell_type": "markdown",
      "metadata": {
        "id": "JlBtqsao_slC"
      },
      "source": [
        "### 4.2 - fit BERT on cleaned text (URLs and hashtags removed)\n"
      ]
    },
    {
      "cell_type": "code",
      "metadata": {
        "id": "jEEFKnYRJvrb",
        "colab": {
          "base_uri": "https://localhost:8080/",
          "height": 425
        },
        "outputId": "9a3bb82e-314e-48e4-abaf-40fec30bd804"
      },
      "source": [
        "# load BERT model pretrained on IMDB movies reviews\n",
        "bert_pretrained_model_2=None\n",
        "nb_trained_layers=7\n",
        "bert_pretrained_model_2 = build_model(max_seq_length, sgd, nb_trained_layers)\n",
        "initialize_vars(sess)\n",
        "#bert_pretrained_model.load_weights('../gdrive/My Drive/colab/pretrained_models/BertModel.h5', by_name=True)"
      ],
      "execution_count": null,
      "outputs": [
        {
          "output_type": "stream",
          "text": [
            "INFO:tensorflow:Saver not created because there are no variables in the graph to restore\n"
          ],
          "name": "stdout"
        },
        {
          "output_type": "stream",
          "text": [
            "INFO:tensorflow:Saver not created because there are no variables in the graph to restore\n"
          ],
          "name": "stderr"
        },
        {
          "output_type": "stream",
          "text": [
            "Model: \"model_6\"\n",
            "__________________________________________________________________________________________________\n",
            "Layer (type)                    Output Shape         Param #     Connected to                     \n",
            "==================================================================================================\n",
            "input_ids (InputLayer)          [(None, 128)]        0                                            \n",
            "__________________________________________________________________________________________________\n",
            "input_masks (InputLayer)        [(None, 128)]        0                                            \n",
            "__________________________________________________________________________________________________\n",
            "segment_ids (InputLayer)        [(None, 128)]        0                                            \n",
            "__________________________________________________________________________________________________\n",
            "bert_layer_6 (BertLayer)        (None, 768)          110104890   input_ids[0][0]                  \n",
            "                                                                 input_masks[0][0]                \n",
            "                                                                 segment_ids[0][0]                \n",
            "__________________________________________________________________________________________________\n",
            "dense_12 (Dense)                (None, 256)          196864      bert_layer_6[0][0]               \n",
            "__________________________________________________________________________________________________\n",
            "dense_13 (Dense)                (None, 1)            257         dense_12[0][0]                   \n",
            "==================================================================================================\n",
            "Total params: 110,302,011\n",
            "Trainable params: 50,402,817\n",
            "Non-trainable params: 59,899,194\n",
            "__________________________________________________________________________________________________\n"
          ],
          "name": "stdout"
        }
      ]
    },
    {
      "cell_type": "code",
      "metadata": {
        "id": "N8tscffyJ0th",
        "colab": {
          "base_uri": "https://localhost:8080/",
          "height": 289
        },
        "outputId": "a9465d8a-3830-41f0-cb25-d912598a9271"
      },
      "source": [
        "# train the classification model (4 epochs)\n",
        "print('Training model...')\n",
        "#history = model_bert.fit(X_train_pad, y_train, batch_size=30, epochs=25, validation_data=(X_test_pad, y_test), verbose=2)\n",
        "initialize_vars(sess)\n",
        "\n",
        "history_pretrained_bert_2=bert_pretrained_model_2.fit( [train_input_ids, train_input_masks, train_segment_ids], train_labels, \n",
        "          validation_data=([val_input_ids, val_input_masks, val_segment_ids], val_labels), epochs=7, batch_size=16)"
      ],
      "execution_count": null,
      "outputs": [
        {
          "output_type": "stream",
          "text": [
            "Training model...\n",
            "Train on 5709 samples, validate on 1903 samples\n",
            "Epoch 1/7\n",
            "5709/5709 [==============================] - 161s 28ms/sample - loss: 0.5590 - acc: 0.7203 - val_loss: 0.4806 - val_acc: 0.7730\n",
            "Epoch 2/7\n",
            "5709/5709 [==============================] - 154s 27ms/sample - loss: 0.4332 - acc: 0.8091 - val_loss: 0.4316 - val_acc: 0.8129\n",
            "Epoch 3/7\n",
            "5709/5709 [==============================] - 154s 27ms/sample - loss: 0.3930 - acc: 0.8308 - val_loss: 0.4225 - val_acc: 0.8203\n",
            "Epoch 4/7\n",
            "5709/5709 [==============================] - 154s 27ms/sample - loss: 0.3741 - acc: 0.8453 - val_loss: 0.4090 - val_acc: 0.8208\n",
            "Epoch 5/7\n",
            "5709/5709 [==============================] - 154s 27ms/sample - loss: 0.3560 - acc: 0.8546 - val_loss: 0.3996 - val_acc: 0.8345\n",
            "Epoch 6/7\n",
            "5709/5709 [==============================] - 154s 27ms/sample - loss: 0.3383 - acc: 0.8653 - val_loss: 0.4088 - val_acc: 0.8234\n",
            "Epoch 7/7\n",
            "5709/5709 [==============================] - 154s 27ms/sample - loss: 0.3219 - acc: 0.8693 - val_loss: 0.4189 - val_acc: 0.8266\n"
          ],
          "name": "stdout"
        }
      ]
    },
    {
      "cell_type": "code",
      "metadata": {
        "id": "obf_MeZdJ0sP",
        "colab": {
          "base_uri": "https://localhost:8080/",
          "height": 553
        },
        "outputId": "f97f5441-e8e2-437f-b3d9-912061895de0"
      },
      "source": [
        "plot_training_history(history_pretrained_bert)"
      ],
      "execution_count": null,
      "outputs": [
        {
          "output_type": "display_data",
          "data": {
            "image/png": "[encoded data removed]",
            "text/plain": [
              "<Figure size 936x648 with 2 Axes>"
            ]
          },
          "metadata": {
            "tags": []
          }
        }
      ]
    },
    {
      "cell_type": "markdown",
      "metadata": {
        "id": "JFih3vki1JRH"
      },
      "source": [
        "## 4.3 - save model"
      ]
    },
    {
      "cell_type": "code",
      "metadata": {
        "id": "YIDzuHO8Cwhj",
        "colab": {
          "base_uri": "https://localhost:8080/",
          "height": 35
        },
        "outputId": "a9abb001-f5ba-4a2f-f285-90bcb94fed5f"
      },
      "source": [
        "# save model and architecture to single file\n",
        "bert_pretrained_model.save(\"../gdrive/My Drive/colab/pretrained_models/twitter_BertModel.h5\")\n",
        "print(\"Saved model to disk\")"
      ],
      "execution_count": null,
      "outputs": [
        {
          "output_type": "stream",
          "text": [
            "Saved model to disk\n"
          ],
          "name": "stdout"
        }
      ]
    },
    {
      "cell_type": "markdown",
      "metadata": {
        "id": "_75SMtYt2p8R"
      },
      "source": [
        "# 5 - Evaluate model performance"
      ]
    },
    {
      "cell_type": "code",
      "metadata": {
        "id": "xodfvir72nFL"
      },
      "source": [
        "# make predictions on validation set\n",
        "val_input=[val_input_ids, val_input_masks, val_segment_ids]\n",
        "val_pred_BERT = bert_pretrained_model_2.predict(val_input)\n",
        "# round to 0 or 1 given the probability\n",
        "val_pred_BERT_int = val_pred_BERT.round().astype('int')"
      ],
      "execution_count": null,
      "outputs": []
    },
    {
      "cell_type": "code",
      "metadata": {
        "id": "49MkXGVmCcPy",
        "colab": {
          "base_uri": "https://localhost:8080/",
          "height": 458
        },
        "outputId": "b95c8c98-31db-429d-9397-4bfef0c1cf09"
      },
      "source": [
        "# Showing Confusion Matrix for BERT model\n",
        "plot_cm(val_pred_BERT_int, val_labels, 'Confusion matrix for BERT model', figsize=(7,7))"
      ],
      "execution_count": null,
      "outputs": [
        {
          "output_type": "display_data",
          "data": {
            "image/png": "[encoded data removed]",
            "text/plain": [
              "<Figure size 504x504 with 2 Axes>"
            ]
          },
          "metadata": {
            "tags": []
          }
        }
      ]
    },
    {
      "cell_type": "markdown",
      "metadata": {
        "id": "IS-tgyMtu_h-"
      },
      "source": [
        "# 6 - Predictions on new data"
      ]
    },
    {
      "cell_type": "markdown",
      "metadata": {
        "id": "jI3xOPV_2TBk"
      },
      "source": [
        "## 6.1 - load and prepare imput data"
      ]
    },
    {
      "cell_type": "code",
      "metadata": {
        "id": "kRkK78QrzxsX"
      },
      "source": [
        "import tensorflow as tf\n",
        "from tensorflow.keras.layers import Dense, Input, Dropout\n",
        "from tensorflow.keras.optimizers import Adam\n",
        "from tensorflow.keras.models import Model\n",
        "from tensorflow.keras.callbacks import ModelCheckpoint\n",
        "import tensorflow_hub as hub\n",
        "from bert import tokenization"
      ],
      "execution_count": null,
      "outputs": []
    },
    {
      "cell_type": "code",
      "metadata": {
        "id": "09149QaVv7xu",
        "colab": {
          "base_uri": "https://localhost:8080/",
          "height": 117,
          "referenced_widgets": [
            "282ba435c0164fe1be639ab74c430ab4",
            "857d92a451d449ab99ede9c4df6bce69",
            "7d05662d42504e9e9384bd7a98330250",
            "2ad7dcc76dfa4e2f852aa09930685cf5",
            "eb27caf4ee7748f2b9129f1b4d897ba4",
            "47621ddaca5a4db1b57ad1ed1b44f642",
            "aa4b318e2e9f43efa5fd2f3fb9e30492",
            "227ff91f91c7453dbbe605535b4b4ba0"
          ]
        },
        "outputId": "1e7df186-2cce-4ad8-b765-a45e9aa0b0ba"
      },
      "source": [
        "# load new data to make predictions\n",
        "# load new data to make predictions\n",
        "data=\"../gdrive/My Drive/colab/twitter_disaster/data/test_processed_data.csv\"\n",
        "df_new=pd.read_csv(data)\n",
        "df_new['normalized_text']=df_new['text'].apply(lambda x: normalize_text(x))\n",
        "text=df_new['normalized_text'].tolist()\n",
        "df_new.fillna('-', inplace=True)\n",
        "print('check missing values...')\n",
        "df_new.isna().sum()\n",
        "df_new['target_initialized']=0\n",
        "\n",
        "text = df_new['text'].tolist()\n",
        "text = [' '.join(t.split()[0:max_seq_length]) for t in text]\n",
        "text = np.array(text, dtype=object)[:, np.newaxis]\n",
        "target = df_new['target_initialized'].tolist()\n",
        "text=np.array(text)\n",
        "target=np.array(target)\n",
        "\n",
        "# Instantiate tokenizer\n",
        "tokenizer = create_tokenizer_from_hub_module()\n",
        "\n",
        "# Convert data to InputExample format\n",
        "data_pred = convert_text_to_examples(text, target)\n",
        "\n",
        "# Convert to features\n",
        "\n",
        "(input_ids, input_masks, segment_ids, labels\n",
        ") = convert_examples_to_features(tokenizer, data_pred, max_seq_length=max_seq_length)\n",
        "\n",
        "pred_input= (input_ids, input_masks, segment_ids, labels)"
      ],
      "execution_count": null,
      "outputs": [
        {
          "output_type": "stream",
          "text": [
            "check missing values...\n",
            "INFO:tensorflow:Saver not created because there are no variables in the graph to restore\n"
          ],
          "name": "stdout"
        },
        {
          "output_type": "stream",
          "text": [
            "INFO:tensorflow:Saver not created because there are no variables in the graph to restore\n"
          ],
          "name": "stderr"
        },
        {
          "output_type": "display_data",
          "data": {
            "application/vnd.jupyter.widget-view+json": {
              "model_id": "282ba435c0164fe1be639ab74c430ab4",
              "version_minor": 0,
              "version_major": 2
            },
            "text/plain": [
              "HBox(children=(IntProgress(value=0, description='Converting examples to features', max=3263, style=ProgressSty…"
            ]
          },
          "metadata": {
            "tags": []
          }
        },
        {
          "output_type": "stream",
          "text": [
            "\n"
          ],
          "name": "stdout"
        }
      ]
    },
    {
      "cell_type": "markdown",
      "metadata": {
        "id": "_gVj6c5O3Djd"
      },
      "source": [
        "## 6.2 - make predictions"
      ]
    },
    {
      "cell_type": "code",
      "metadata": {
        "id": "Lcly641J-eTu"
      },
      "source": [
        "# get probabilities \n",
        "test_pred_BERT = bert_pretrained_model.predict(pred_input)\n",
        "# round to integer 0 or 1 to classify\n",
        "test_pred_BERT_int = test_pred_BERT.round().astype('int')"
      ],
      "execution_count": null,
      "outputs": []
    },
    {
      "cell_type": "code",
      "metadata": {
        "id": "3VMwF3L4BUt5",
        "colab": {
          "base_uri": "https://localhost:8080/",
          "height": 554
        },
        "outputId": "f49604f1-8467-4dda-88ec-6e510f5a4cd2"
      },
      "source": [
        "# plot probabilities distribution\n",
        "pred = pd.DataFrame(test_pred_BERT, columns=['preds'])\n",
        "pred.plot.hist()"
      ],
      "execution_count": null,
      "outputs": [
        {
          "output_type": "execute_result",
          "data": {
            "text/plain": [
              "<matplotlib.axes._subplots.AxesSubplot at 0x7f25844872e8>"
            ]
          },
          "metadata": {
            "tags": []
          },
          "execution_count": 51
        },
        {
          "output_type": "display_data",
          "data": {
            "image/png": "[encoded data removed]",
            "text/plain": [
              "<Figure size 936x648 with 1 Axes>"
            ]
          },
          "metadata": {
            "tags": []
          }
        }
      ]
    },
    {
      "cell_type": "code",
      "metadata": {
        "id": "qz3ypRTcHb8W",
        "colab": {
          "base_uri": "https://localhost:8080/",
          "height": 68
        },
        "outputId": "20a8e8fa-203c-49e5-ea9d-f98a733fca6b"
      },
      "source": [
        "# check predictions\n",
        "predictions=pd.DataFrame(df_new['id'])\n",
        "predictions['target']=test_pred_BERT_int\n",
        "predictions['target'].value_counts()"
      ],
      "execution_count": null,
      "outputs": [
        {
          "output_type": "execute_result",
          "data": {
            "text/plain": [
              "0    2228\n",
              "1    1035\n",
              "Name: target, dtype: int64"
            ]
          },
          "metadata": {
            "tags": []
          },
          "execution_count": 60
        }
      ]
    },
    {
      "cell_type": "code",
      "metadata": {
        "id": "6GLb4NFbHpmU",
        "colab": {
          "base_uri": "https://localhost:8080/",
          "height": 204
        },
        "outputId": "efe8af2f-d645-4aaf-a335-11fd6466a500"
      },
      "source": [
        "predictions.head()"
      ],
      "execution_count": null,
      "outputs": [
        {
          "output_type": "execute_result",
          "data": {
            "text/html": [
              "<div>\n",
              "<style scoped>\n",
              "    .dataframe tbody tr th:only-of-type {\n",
              "        vertical-align: middle;\n",
              "    }\n",
              "\n",
              "    .dataframe tbody tr th {\n",
              "        vertical-align: top;\n",
              "    }\n",
              "\n",
              "    .dataframe thead th {\n",
              "        text-align: right;\n",
              "    }\n",
              "</style>\n",
              "<table border=\"1\" class=\"dataframe\">\n",
              "  <thead>\n",
              "    <tr style=\"text-align: right;\">\n",
              "      <th></th>\n",
              "      <th>id</th>\n",
              "      <th>target</th>\n",
              "    </tr>\n",
              "  </thead>\n",
              "  <tbody>\n",
              "    <tr>\n",
              "      <th>0</th>\n",
              "      <td>0</td>\n",
              "      <td>1</td>\n",
              "    </tr>\n",
              "    <tr>\n",
              "      <th>1</th>\n",
              "      <td>2</td>\n",
              "      <td>1</td>\n",
              "    </tr>\n",
              "    <tr>\n",
              "      <th>2</th>\n",
              "      <td>3</td>\n",
              "      <td>1</td>\n",
              "    </tr>\n",
              "    <tr>\n",
              "      <th>3</th>\n",
              "      <td>9</td>\n",
              "      <td>1</td>\n",
              "    </tr>\n",
              "    <tr>\n",
              "      <th>4</th>\n",
              "      <td>11</td>\n",
              "      <td>1</td>\n",
              "    </tr>\n",
              "  </tbody>\n",
              "</table>\n",
              "</div>"
            ],
            "text/plain": [
              "   id  target\n",
              "0   0       1\n",
              "1   2       1\n",
              "2   3       1\n",
              "3   9       1\n",
              "4  11       1"
            ]
          },
          "metadata": {
            "tags": []
          },
          "execution_count": 61
        }
      ]
    },
    {
      "cell_type": "markdown",
      "metadata": {
        "id": "-5_cTxzi3fac"
      },
      "source": [
        "## 6.3 - save results"
      ]
    },
    {
      "cell_type": "code",
      "metadata": {
        "id": "YcxC4EIS3T-g"
      },
      "source": [
        "predictions.to_csv(\"../gdrive/My Drive/colab/twitter_disaster/submissions/predictions_bert.csv\", index=False, header=True)"
      ],
      "execution_count": null,
      "outputs": []
    }
  ]
}