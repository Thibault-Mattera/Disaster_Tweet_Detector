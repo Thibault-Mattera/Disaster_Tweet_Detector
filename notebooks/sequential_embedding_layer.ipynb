{
  "nbformat": 4,
  "nbformat_minor": 0,
  "metadata": {
    "colab": {
      "name": "twitter_disaster_Neural_Network_scratch_v2",
      "provenance": [],
      "collapsed_sections": [],
      "toc_visible": true
    },
    "kernelspec": {
      "name": "python3",
      "display_name": "Python 3"
    }
  },
  "cells": [
    {
      "cell_type": "markdown",
      "metadata": {
        "id": "2t8IjR7gvHTL"
      },
      "source": [
        "# 1 - libraries and functions"
      ]
    },
    {
      "cell_type": "code",
      "metadata": {
        "id": "UULKbJXeVOV9",
        "colab": {
          "base_uri": "https://localhost:8080/",
          "height": 68
        },
        "outputId": "aec31008-1d0a-4b54-8bcf-3f9b751ca711"
      },
      "source": [
        "# import librairies for deep learning\n",
        "\n",
        "from __future__ import absolute_import, division, print_function, unicode_literals\n",
        "try:\n",
        "  # %tensorflow_version only exists in Colab.\n",
        "  %tensorflow_version 2.x\n",
        "except Exception:\n",
        "  pass\n",
        "import tensorflow as tf\n",
        "from tensorflow.keras.models import Model, Sequential\n",
        "from tensorflow.keras.layers import Dense, Flatten, Dropout\n",
        "from tensorflow.keras.applications import VGG16\n",
        "from tensorflow.keras.applications.vgg16 import preprocess_input, decode_predictions\n",
        "from tensorflow.keras.preprocessing.image import ImageDataGenerator\n",
        "from tensorflow.keras.optimizers import Adam, RMSprop\n",
        "from tensorflow.keras import layers\n",
        "from keras.layers import Embedding, LSTM, GRU\n",
        "from keras.layers.embeddings import Embedding\n",
        "from keras.preprocessing.sequence import pad_sequences\n",
        "from keras.preprocessing.text import Tokenizer\n",
        "import numpy as np\n",
        "import pandas as pd\n",
        "from gensim.scripts.glove2word2vec import glove2word2vec\n",
        "import nltk\n",
        "nltk.download('punkt')\n",
        "from nltk.tokenize import word_tokenize\n",
        "from keras import backend as K\n",
        "from matplotlib import pyplot\n",
        "from gensim.models import word2vec\n",
        "from tensorflow.python.keras import Sequential\n",
        "from tensorflow.python.keras.layers import Dense, Embedding, LSTM, GRU, Conv1D, GlobalMaxPool1D\n",
        "from keras.initializers import Constant\n",
        "# test GloVe model \n",
        "from gensim.models import KeyedVectors\n",
        "import tensorflow_hub as hub\n",
        "import seaborn as sns\n",
        "from sklearn.metrics import classification_report, confusion_matrix\n",
        "# print tensorflow version\n",
        "tf.__version__"
      ],
      "execution_count": null,
      "outputs": [
        {
          "output_type": "stream",
          "text": [
            "[nltk_data] Downloading package punkt to /root/nltk_data...\n",
            "[nltk_data]   Package punkt is already up-to-date!\n"
          ],
          "name": "stdout"
        },
        {
          "output_type": "execute_result",
          "data": {
            "text/plain": [
              "'2.1.0'"
            ]
          },
          "metadata": {
            "tags": []
          },
          "execution_count": 66
        }
      ]
    },
    {
      "cell_type": "code",
      "metadata": {
        "id": "DFrlS1h9UePW"
      },
      "source": [
        "def recall_m(y_true, y_pred):\n",
        "        true_positives = K.sum(K.round(K.clip(y_true * y_pred, 0, 1)))\n",
        "        possible_positives = K.sum(K.round(K.clip(y_true, 0, 1)))\n",
        "        recall = true_positives / (possible_positives + K.epsilon())\n",
        "        return recall\n",
        "\n",
        "def precision_m(y_true, y_pred):\n",
        "        true_positives = K.sum(K.round(K.clip(y_true * y_pred, 0, 1)))\n",
        "        predicted_positives = K.sum(K.round(K.clip(y_pred, 0, 1)))\n",
        "        precision = true_positives / (predicted_positives + K.epsilon())\n",
        "        return precision\n",
        "\n",
        "def f1_m(y_true, y_pred):\n",
        "    precision = precision_m(y_true, y_pred)\n",
        "    recall = recall_m(y_true, y_pred)\n",
        "    return 2*((precision*recall)/(precision+recall+K.epsilon()))"
      ],
      "execution_count": null,
      "outputs": []
    },
    {
      "cell_type": "code",
      "metadata": {
        "id": "8f11XI7kXQ9r",
        "colab": {
          "base_uri": "https://localhost:8080/",
          "height": 122
        },
        "outputId": "f046d2ab-8735-467e-c21b-cc737b604745"
      },
      "source": [
        "# connect to google Drive to import files\n",
        "from google.colab import drive\n",
        "drive.mount('/gdrive')"
      ],
      "execution_count": null,
      "outputs": [
        {
          "output_type": "stream",
          "text": [
            "Go to this URL in a browser: https://accounts.google.com/o/oauth2/auth?client_id=947318989803-6bn6qk8qdgf4n4g3pfee6491hc0brc4i.apps.googleusercontent.com&redirect_uri=urn%3aietf%3awg%3aoauth%3a2.0%3aoob&response_type=code&scope=email%20https%3a%2f%2fwww.googleapis.com%2fauth%2fdocs.test%20https%3a%2f%2fwww.googleapis.com%2fauth%2fdrive%20https%3a%2f%2fwww.googleapis.com%2fauth%2fdrive.photos.readonly%20https%3a%2f%2fwww.googleapis.com%2fauth%2fpeopleapi.readonly\n",
            "\n",
            "Enter your authorization code:\n",
            "··········\n",
            "Mounted at /gdrive\n"
          ],
          "name": "stdout"
        }
      ]
    },
    {
      "cell_type": "code",
      "metadata": {
        "id": "uO0RHQN1xlVu"
      },
      "source": [
        "# Showing Confusion Matrix\n",
        "def plot_cm(y_true, y_pred, title, figsize=(5,4)):\n",
        "    cm = confusion_matrix(y_true, y_pred, labels=np.unique(y_true))\n",
        "    cm_sum = np.sum(cm, axis=1, keepdims=True)\n",
        "    cm_perc = cm / cm_sum.astype(float) * 100\n",
        "    annot = np.empty_like(cm).astype(str)\n",
        "    nrows, ncols = cm.shape\n",
        "    for i in range(nrows):\n",
        "        for j in range(ncols):\n",
        "            c = cm[i, j]\n",
        "            p = cm_perc[i, j]\n",
        "            if i == j:\n",
        "                s = cm_sum[i]\n",
        "                annot[i, j] = '%.1f%%\\n%d/%d' % (p, c, s)\n",
        "            elif c == 0:\n",
        "                annot[i, j] = ''\n",
        "            else:\n",
        "                annot[i, j] = '%.1f%%\\n%d' % (p, c)\n",
        "    cm = pd.DataFrame(cm, index=np.unique(y_true), columns=np.unique(y_true))\n",
        "    cm.index.name = 'Actual'\n",
        "    cm.columns.name = 'Predicted'\n",
        "    fig, ax = plt.subplots(figsize=figsize)\n",
        "    plt.title(title)\n",
        "    sns.heatmap(cm, cmap= \"YlGnBu\", annot=annot, fmt='', ax=ax)"
      ],
      "execution_count": null,
      "outputs": []
    },
    {
      "cell_type": "markdown",
      "metadata": {
        "id": "t_KTkIMsvKWB"
      },
      "source": [
        "# 2 - prepare input"
      ]
    },
    {
      "cell_type": "markdown",
      "metadata": {
        "id": "C1T8TLhYcnM0"
      },
      "source": [
        "## 2.1 - load data"
      ]
    },
    {
      "cell_type": "code",
      "metadata": {
        "id": "tzTfnM2GuflI",
        "colab": {
          "base_uri": "https://localhost:8080/",
          "height": 102
        },
        "outputId": "b618be53-6ec3-4acf-c147-c34375811e60"
      },
      "source": [
        "# load cleaned data set\n",
        "data=\"../gdrive/My Drive/colab/twitter_disaster/data/train_processed_data.csv\"\n",
        "df=pd.read_csv(data)\n",
        "df.dropna(inplace=True)\n",
        "df.isna().sum()"
      ],
      "execution_count": null,
      "outputs": [
        {
          "output_type": "execute_result",
          "data": {
            "text/plain": [
              "id              0\n",
              "text            0\n",
              "cleaned_text    0\n",
              "target          0\n",
              "dtype: int64"
            ]
          },
          "metadata": {
            "tags": []
          },
          "execution_count": 4
        }
      ]
    },
    {
      "cell_type": "markdown",
      "metadata": {
        "id": "t9GkfXlneEEX"
      },
      "source": [
        "## 2.2 - tokenize"
      ]
    },
    {
      "cell_type": "code",
      "metadata": {
        "id": "0IcG7mK43_6Y",
        "colab": {
          "base_uri": "https://localhost:8080/",
          "height": 51
        },
        "outputId": "01e519f4-07e2-4dcf-e558-539350d4f903"
      },
      "source": [
        "# build tokens\n",
        "tweets_lines=list()\n",
        "lines=df['cleaned_text'].values.tolist()\n",
        "for i in range(len(lines)):\n",
        "  line=lines[i]\n",
        "  # print(line)\n",
        "  tokens=word_tokenize(line)\n",
        "  tweets_lines.append(tokens)\n",
        "print('example:')\n",
        "tweets_lines[0]"
      ],
      "execution_count": null,
      "outputs": [
        {
          "output_type": "stream",
          "text": [
            "example:\n"
          ],
          "name": "stdout"
        },
        {
          "output_type": "execute_result",
          "data": {
            "text/plain": [
              "['deeds', 'reason', 'earthquake', 'forgive', 'allah']"
            ]
          },
          "metadata": {
            "tags": []
          },
          "execution_count": 5
        }
      ]
    },
    {
      "cell_type": "code",
      "metadata": {
        "id": "rZ7MvDP9vpBN",
        "colab": {
          "base_uri": "https://localhost:8080/",
          "height": 34
        },
        "outputId": "f542d390-5834-4b78-f064-5319e849506f"
      },
      "source": [
        "# check length of training set\n",
        "len(tweets_lines)"
      ],
      "execution_count": null,
      "outputs": [
        {
          "output_type": "execute_result",
          "data": {
            "text/plain": [
              "7612"
            ]
          },
          "metadata": {
            "tags": []
          },
          "execution_count": 7
        }
      ]
    },
    {
      "cell_type": "markdown",
      "metadata": {
        "id": "705zoFHbeP7v"
      },
      "source": [
        "## 2.3 - generate word embeddings"
      ]
    },
    {
      "cell_type": "code",
      "metadata": {
        "id": "Z08AASatzlY4",
        "colab": {
          "base_uri": "https://localhost:8080/",
          "height": 88
        },
        "outputId": "7a5520cb-63c1-42fa-b3a9-f814d86cd556"
      },
      "source": [
        "## build word2vec embeddings and save it\n",
        "# define embedding dimension in word2vec: 100 by default\n",
        "EMBEDDING_DIM=15\n",
        "model_w2vec = word2vec.Word2Vec(tweets_lines, size=EMBEDDING_DIM, window=20, min_count=7, workers=4)\n",
        "words=list(model_w2vec.wv.vocab)\n",
        "print('vocabulary size: %d' % len(words))\n",
        "# save word2ve embeddings\n",
        "filename_w2vec = \"../gdrive/My Drive/colab/twitter_disaster/twitter_disaster_word2vec.txt\"\n",
        "model_w2vec.wv.save_word2vec_format(filename_w2vec, binary=False)"
      ],
      "execution_count": null,
      "outputs": [
        {
          "output_type": "stream",
          "text": [
            "vocabulary size: 1735\n"
          ],
          "name": "stdout"
        },
        {
          "output_type": "stream",
          "text": [
            "/usr/local/lib/python3.6/dist-packages/smart_open/smart_open_lib.py:402: UserWarning: This function is deprecated, use smart_open.open instead. See the migration notes for details: https://github.com/RaRe-Technologies/smart_open/blob/master/README.rst#migrating-to-the-new-open-function\n",
            "  'See the migration notes for details: %s' % _MIGRATION_NOTES_URL\n"
          ],
          "name": "stderr"
        }
      ]
    },
    {
      "cell_type": "code",
      "metadata": {
        "id": "1yNgq8GP_N0J",
        "colab": {
          "base_uri": "https://localhost:8080/",
          "height": 394
        },
        "outputId": "cb7023d6-11eb-45b5-b297-295e6bb288fc"
      },
      "source": [
        "# load GloVe pre-trained word vectors with gensim \n",
        "from gensim.scripts.glove2word2vec import glove2word2vec\n",
        "glove_input_file = '../gdrive/My Drive/colab/twitter_disaster/glove/glove.6B.100d.txt'\n",
        "# convert GloVe file format to the word2vec format\n",
        "word2vec_output_file = '../gdrive/My Drive/colab/twitter_disaster/glove/glove.6B.100d.txt.word2vec'\n",
        "glove2word2vec(glove_input_file, word2vec_output_file)\n",
        "# load the Stanford GloVe embeggings\n",
        "filename_glove = '../gdrive/My Drive/colab/twitter_disaster/glove/glove.6B.100d.txt.word2vec'\n",
        "model_glove = KeyedVectors.load_word2vec_format(filename_glove, binary=False)"
      ],
      "execution_count": null,
      "outputs": [
        {
          "output_type": "stream",
          "text": [
            "/usr/local/lib/python3.6/dist-packages/smart_open/smart_open_lib.py:402: UserWarning: This function is deprecated, use smart_open.open instead. See the migration notes for details: https://github.com/RaRe-Technologies/smart_open/blob/master/README.rst#migrating-to-the-new-open-function\n",
            "  'See the migration notes for details: %s' % _MIGRATION_NOTES_URL\n"
          ],
          "name": "stderr"
        },
        {
          "output_type": "error",
          "ename": "KeyboardInterrupt",
          "evalue": "ignored",
          "traceback": [
            "\u001b[0;31m---------------------------------------------------------------------------\u001b[0m",
            "\u001b[0;31mKeyboardInterrupt\u001b[0m                         Traceback (most recent call last)",
            "\u001b[0;32m<ipython-input-9-5d7a6c2e4cba>\u001b[0m in \u001b[0;36m<module>\u001b[0;34m()\u001b[0m\n\u001b[1;32m      6\u001b[0m \u001b[0;31m# load the Stanford GloVe embeggings\u001b[0m\u001b[0;34m\u001b[0m\u001b[0;34m\u001b[0m\u001b[0;34m\u001b[0m\u001b[0m\n\u001b[1;32m      7\u001b[0m \u001b[0mfilename_glove\u001b[0m \u001b[0;34m=\u001b[0m \u001b[0;34m'../gdrive/My Drive/colab/twitter_disaster/glove/glove.6B.100d.txt.word2vec'\u001b[0m\u001b[0;34m\u001b[0m\u001b[0;34m\u001b[0m\u001b[0m\n\u001b[0;32m----> 8\u001b[0;31m \u001b[0mmodel_glove\u001b[0m \u001b[0;34m=\u001b[0m \u001b[0mKeyedVectors\u001b[0m\u001b[0;34m.\u001b[0m\u001b[0mload_word2vec_format\u001b[0m\u001b[0;34m(\u001b[0m\u001b[0mfilename_glove\u001b[0m\u001b[0;34m,\u001b[0m \u001b[0mbinary\u001b[0m\u001b[0;34m=\u001b[0m\u001b[0;32mFalse\u001b[0m\u001b[0;34m)\u001b[0m\u001b[0;34m\u001b[0m\u001b[0;34m\u001b[0m\u001b[0m\n\u001b[0m",
            "\u001b[0;32m/usr/local/lib/python3.6/dist-packages/gensim/models/keyedvectors.py\u001b[0m in \u001b[0;36mload_word2vec_format\u001b[0;34m(cls, fname, fvocab, binary, encoding, unicode_errors, limit, datatype)\u001b[0m\n\u001b[1;32m   1436\u001b[0m         return _load_word2vec_format(\n\u001b[1;32m   1437\u001b[0m             \u001b[0mcls\u001b[0m\u001b[0;34m,\u001b[0m \u001b[0mfname\u001b[0m\u001b[0;34m,\u001b[0m \u001b[0mfvocab\u001b[0m\u001b[0;34m=\u001b[0m\u001b[0mfvocab\u001b[0m\u001b[0;34m,\u001b[0m \u001b[0mbinary\u001b[0m\u001b[0;34m=\u001b[0m\u001b[0mbinary\u001b[0m\u001b[0;34m,\u001b[0m \u001b[0mencoding\u001b[0m\u001b[0;34m=\u001b[0m\u001b[0mencoding\u001b[0m\u001b[0;34m,\u001b[0m \u001b[0municode_errors\u001b[0m\u001b[0;34m=\u001b[0m\u001b[0municode_errors\u001b[0m\u001b[0;34m,\u001b[0m\u001b[0;34m\u001b[0m\u001b[0;34m\u001b[0m\u001b[0m\n\u001b[0;32m-> 1438\u001b[0;31m             limit=limit, datatype=datatype)\n\u001b[0m\u001b[1;32m   1439\u001b[0m \u001b[0;34m\u001b[0m\u001b[0m\n\u001b[1;32m   1440\u001b[0m     \u001b[0;32mdef\u001b[0m \u001b[0mget_keras_embedding\u001b[0m\u001b[0;34m(\u001b[0m\u001b[0mself\u001b[0m\u001b[0;34m,\u001b[0m \u001b[0mtrain_embeddings\u001b[0m\u001b[0;34m=\u001b[0m\u001b[0;32mFalse\u001b[0m\u001b[0;34m)\u001b[0m\u001b[0;34m:\u001b[0m\u001b[0;34m\u001b[0m\u001b[0;34m\u001b[0m\u001b[0m\n",
            "\u001b[0;32m/usr/local/lib/python3.6/dist-packages/gensim/models/utils_any2vec.py\u001b[0m in \u001b[0;36m_load_word2vec_format\u001b[0;34m(cls, fname, fvocab, binary, encoding, unicode_errors, limit, datatype)\u001b[0m\n\u001b[1;32m    220\u001b[0m                 \u001b[0;32mif\u001b[0m \u001b[0mlen\u001b[0m\u001b[0;34m(\u001b[0m\u001b[0mparts\u001b[0m\u001b[0;34m)\u001b[0m \u001b[0;34m!=\u001b[0m \u001b[0mvector_size\u001b[0m \u001b[0;34m+\u001b[0m \u001b[0;36m1\u001b[0m\u001b[0;34m:\u001b[0m\u001b[0;34m\u001b[0m\u001b[0;34m\u001b[0m\u001b[0m\n\u001b[1;32m    221\u001b[0m                     \u001b[0;32mraise\u001b[0m \u001b[0mValueError\u001b[0m\u001b[0;34m(\u001b[0m\u001b[0;34m\"invalid vector on line %s (is this really the text format?)\"\u001b[0m \u001b[0;34m%\u001b[0m \u001b[0mline_no\u001b[0m\u001b[0;34m)\u001b[0m\u001b[0;34m\u001b[0m\u001b[0;34m\u001b[0m\u001b[0m\n\u001b[0;32m--> 222\u001b[0;31m                 \u001b[0mword\u001b[0m\u001b[0;34m,\u001b[0m \u001b[0mweights\u001b[0m \u001b[0;34m=\u001b[0m \u001b[0mparts\u001b[0m\u001b[0;34m[\u001b[0m\u001b[0;36m0\u001b[0m\u001b[0;34m]\u001b[0m\u001b[0;34m,\u001b[0m \u001b[0;34m[\u001b[0m\u001b[0mdatatype\u001b[0m\u001b[0;34m(\u001b[0m\u001b[0mx\u001b[0m\u001b[0;34m)\u001b[0m \u001b[0;32mfor\u001b[0m \u001b[0mx\u001b[0m \u001b[0;32min\u001b[0m \u001b[0mparts\u001b[0m\u001b[0;34m[\u001b[0m\u001b[0;36m1\u001b[0m\u001b[0;34m:\u001b[0m\u001b[0;34m]\u001b[0m\u001b[0;34m]\u001b[0m\u001b[0;34m\u001b[0m\u001b[0;34m\u001b[0m\u001b[0m\n\u001b[0m\u001b[1;32m    223\u001b[0m                 \u001b[0madd_word\u001b[0m\u001b[0;34m(\u001b[0m\u001b[0mword\u001b[0m\u001b[0;34m,\u001b[0m \u001b[0mweights\u001b[0m\u001b[0;34m)\u001b[0m\u001b[0;34m\u001b[0m\u001b[0;34m\u001b[0m\u001b[0m\n\u001b[1;32m    224\u001b[0m     \u001b[0;32mif\u001b[0m \u001b[0mresult\u001b[0m\u001b[0;34m.\u001b[0m\u001b[0mvectors\u001b[0m\u001b[0;34m.\u001b[0m\u001b[0mshape\u001b[0m\u001b[0;34m[\u001b[0m\u001b[0;36m0\u001b[0m\u001b[0;34m]\u001b[0m \u001b[0;34m!=\u001b[0m \u001b[0mlen\u001b[0m\u001b[0;34m(\u001b[0m\u001b[0mresult\u001b[0m\u001b[0;34m.\u001b[0m\u001b[0mvocab\u001b[0m\u001b[0;34m)\u001b[0m\u001b[0;34m:\u001b[0m\u001b[0;34m\u001b[0m\u001b[0;34m\u001b[0m\u001b[0m\n",
            "\u001b[0;32m/usr/local/lib/python3.6/dist-packages/gensim/models/utils_any2vec.py\u001b[0m in \u001b[0;36m<listcomp>\u001b[0;34m(.0)\u001b[0m\n\u001b[1;32m    220\u001b[0m                 \u001b[0;32mif\u001b[0m \u001b[0mlen\u001b[0m\u001b[0;34m(\u001b[0m\u001b[0mparts\u001b[0m\u001b[0;34m)\u001b[0m \u001b[0;34m!=\u001b[0m \u001b[0mvector_size\u001b[0m \u001b[0;34m+\u001b[0m \u001b[0;36m1\u001b[0m\u001b[0;34m:\u001b[0m\u001b[0;34m\u001b[0m\u001b[0;34m\u001b[0m\u001b[0m\n\u001b[1;32m    221\u001b[0m                     \u001b[0;32mraise\u001b[0m \u001b[0mValueError\u001b[0m\u001b[0;34m(\u001b[0m\u001b[0;34m\"invalid vector on line %s (is this really the text format?)\"\u001b[0m \u001b[0;34m%\u001b[0m \u001b[0mline_no\u001b[0m\u001b[0;34m)\u001b[0m\u001b[0;34m\u001b[0m\u001b[0;34m\u001b[0m\u001b[0m\n\u001b[0;32m--> 222\u001b[0;31m                 \u001b[0mword\u001b[0m\u001b[0;34m,\u001b[0m \u001b[0mweights\u001b[0m \u001b[0;34m=\u001b[0m \u001b[0mparts\u001b[0m\u001b[0;34m[\u001b[0m\u001b[0;36m0\u001b[0m\u001b[0;34m]\u001b[0m\u001b[0;34m,\u001b[0m \u001b[0;34m[\u001b[0m\u001b[0mdatatype\u001b[0m\u001b[0;34m(\u001b[0m\u001b[0mx\u001b[0m\u001b[0;34m)\u001b[0m \u001b[0;32mfor\u001b[0m \u001b[0mx\u001b[0m \u001b[0;32min\u001b[0m \u001b[0mparts\u001b[0m\u001b[0;34m[\u001b[0m\u001b[0;36m1\u001b[0m\u001b[0;34m:\u001b[0m\u001b[0;34m]\u001b[0m\u001b[0;34m]\u001b[0m\u001b[0;34m\u001b[0m\u001b[0;34m\u001b[0m\u001b[0m\n\u001b[0m\u001b[1;32m    223\u001b[0m                 \u001b[0madd_word\u001b[0m\u001b[0;34m(\u001b[0m\u001b[0mword\u001b[0m\u001b[0;34m,\u001b[0m \u001b[0mweights\u001b[0m\u001b[0;34m)\u001b[0m\u001b[0;34m\u001b[0m\u001b[0;34m\u001b[0m\u001b[0m\n\u001b[1;32m    224\u001b[0m     \u001b[0;32mif\u001b[0m \u001b[0mresult\u001b[0m\u001b[0;34m.\u001b[0m\u001b[0mvectors\u001b[0m\u001b[0;34m.\u001b[0m\u001b[0mshape\u001b[0m\u001b[0;34m[\u001b[0m\u001b[0;36m0\u001b[0m\u001b[0;34m]\u001b[0m \u001b[0;34m!=\u001b[0m \u001b[0mlen\u001b[0m\u001b[0;34m(\u001b[0m\u001b[0mresult\u001b[0m\u001b[0;34m.\u001b[0m\u001b[0mvocab\u001b[0m\u001b[0;34m)\u001b[0m\u001b[0;34m:\u001b[0m\u001b[0;34m\u001b[0m\u001b[0;34m\u001b[0m\u001b[0m\n",
            "\u001b[0;31mKeyboardInterrupt\u001b[0m: "
          ]
        }
      ]
    },
    {
      "cell_type": "code",
      "metadata": {
        "id": "kANUqBx3avoB",
        "colab": {
          "base_uri": "https://localhost:8080/",
          "height": 34
        },
        "outputId": "741acbde-78c4-413a-9463-301447779d38"
      },
      "source": [
        "# Extract word embeddings\n",
        "embeddings_index = dict()\n",
        "# choose embeddings from w2ve file or glove file\n",
        "f=open(filename_w2vec)\n",
        "for line in f:\n",
        "  values = line.split()\n",
        "  word = values[0]\n",
        "  coefs = np.asarray(values[1:], dtype='float32')\n",
        "  embeddings_index[word] = coefs\n",
        "f.close\n",
        "print('Loaded %s word vectors.' % len(embeddings_index))"
      ],
      "execution_count": null,
      "outputs": [
        {
          "output_type": "stream",
          "text": [
            "Loaded 1736 word vectors.\n"
          ],
          "name": "stdout"
        }
      ]
    },
    {
      "cell_type": "code",
      "metadata": {
        "id": "wXsq2f5bFmZe",
        "colab": {
          "base_uri": "https://localhost:8080/",
          "height": 85
        },
        "outputId": "2d33698f-3df1-4b63-ec5f-d5331fc64a8b"
      },
      "source": [
        "embeddings_index['fire']"
      ],
      "execution_count": null,
      "outputs": [
        {
          "output_type": "execute_result",
          "data": {
            "text/plain": [
              "array([ 1.0610394 ,  1.2413269 ,  0.37988195,  0.42173666, -1.6955647 ,\n",
              "        1.1151023 ,  0.26157174, -0.56372374, -0.6167807 ,  0.8138382 ,\n",
              "        0.6589084 ,  1.114599  ,  1.4408208 ,  0.13970274, -0.42967895],\n",
              "      dtype=float32)"
            ]
          },
          "metadata": {
            "tags": []
          },
          "execution_count": 70
        }
      ]
    },
    {
      "cell_type": "markdown",
      "metadata": {
        "id": "lO8yy-L2e4U9"
      },
      "source": [
        "## 2.4 - convert input for neural network training"
      ]
    },
    {
      "cell_type": "code",
      "metadata": {
        "id": "-5BVqdGFh0bw",
        "colab": {
          "base_uri": "https://localhost:8080/",
          "height": 68
        },
        "outputId": "e90a8cff-64d4-4874-809c-502bf29980f1"
      },
      "source": [
        "# convert word embedding into tokenized vector\n",
        "tokenizer_obj = Tokenizer()\n",
        "tokenizer_obj.fit_on_texts(tweets_lines)\n",
        "sequences=tokenizer_obj.texts_to_sequences(tweets_lines)\n",
        "\n",
        "# pad sequences\n",
        "tweets=df['cleaned_text'].values\n",
        "max_length=max([len(s.split()) for s in tweets])\n",
        "word_index = tokenizer_obj.word_index\n",
        "print('Found %s unique tokens.' % len(word_index))\n",
        "\n",
        "tweets_pad = pad_sequences(sequences, maxlen=max_length)\n",
        "target = df['target'].values\n",
        "print('shape of tweet tensor:', tweets_pad.shape)\n",
        "print('shape of target tensor:', target.shape)"
      ],
      "execution_count": null,
      "outputs": [
        {
          "output_type": "stream",
          "text": [
            "Found 11465 unique tokens.\n",
            "shape of tweet tensor: (7612, 21)\n",
            "shape of target tensor: (7612,)\n"
          ],
          "name": "stdout"
        }
      ]
    },
    {
      "cell_type": "code",
      "metadata": {
        "id": "D1CJt3Pf8i5i"
      },
      "source": [
        "# map embeddings from the loaded word2vec model for each word to the tokenizer_obj.word_index vocabulary and create a matrix with of word vectors.\n",
        "num_words = len(word_index) + 1\n",
        "# intiate matrix\n",
        "embedding_matrix = np.zeros((num_words, EMBEDDING_DIM))\n",
        "\n",
        "for word, i in word_index.items():\n",
        "  if i > num_words:\n",
        "    continue\n",
        "  embedding_vector = embeddings_index.get(word)\n",
        "  if embedding_vector is not None:\n",
        "    # words not found in embedding index will be all zeros\n",
        "    embedding_matrix[i]=0"
      ],
      "execution_count": null,
      "outputs": []
    },
    {
      "cell_type": "markdown",
      "metadata": {
        "id": "lAXi25MMUhZV"
      },
      "source": [
        "# 3 - Training pipeline"
      ]
    },
    {
      "cell_type": "markdown",
      "metadata": {
        "id": "b4cZIjFDsgNm"
      },
      "source": [
        "## 3.1 - Build model"
      ]
    },
    {
      "cell_type": "code",
      "metadata": {
        "id": "yrD8ujiCaBgx"
      },
      "source": [
        "from tensorflow import keras"
      ],
      "execution_count": null,
      "outputs": []
    },
    {
      "cell_type": "code",
      "metadata": {
        "id": "Bk9XaXjK-Wsp",
        "colab": {
          "base_uri": "https://localhost:8080/",
          "height": 272
        },
        "outputId": "fd5c3254-89ad-4c34-b380-f7452d35e21d"
      },
      "source": [
        "# define model\n",
        "model = Sequential()\n",
        "embedding_layer = Embedding(num_words,\n",
        "                            EMBEDDING_DIM,\n",
        "                            embeddings_initializer=Constant(embedding_matrix),\n",
        "                            input_length=max_length)\n",
        "model.add(embedding_layer)\n",
        "model.add(Flatten())\n",
        "\n",
        "#model.add(GRU(units=32, dropout=0.2, recurrent_dropout=0.2))\n",
        "model.add(Dense(1, activation='sigmoid'))\n",
        "\n",
        "# define optimizers\n",
        "sgd = keras.optimizers.SGD(lr=0.01, decay=1e-6, momentum=0.9, nesterov=True)\n",
        "adam = Adam(learning_rate=0.001, beta_1=0.9, beta_2=0.999, amsgrad=False)\n",
        "\n",
        "# try using different optimizers and different optimizer configs\n",
        "model.compile(loss='binary_crossentropy', optimizer=adam, metrics=['accuracy'])\n",
        "\n",
        "# print model summary\n",
        "print(model.summary())"
      ],
      "execution_count": null,
      "outputs": [
        {
          "output_type": "stream",
          "text": [
            "Model: \"sequential_5\"\n",
            "_________________________________________________________________\n",
            "Layer (type)                 Output Shape              Param #   \n",
            "=================================================================\n",
            "embedding_5 (Embedding)      (None, 21, 15)            171990    \n",
            "_________________________________________________________________\n",
            "flatten_5 (Flatten)          (None, 315)               0         \n",
            "_________________________________________________________________\n",
            "dense_5 (Dense)              (None, 1)                 316       \n",
            "=================================================================\n",
            "Total params: 172,306\n",
            "Trainable params: 172,306\n",
            "Non-trainable params: 0\n",
            "_________________________________________________________________\n",
            "None\n"
          ],
          "name": "stdout"
        }
      ]
    },
    {
      "cell_type": "markdown",
      "metadata": {
        "id": "bjut7EefslTm"
      },
      "source": [
        "## 3.2 - splitting training set / validation set"
      ]
    },
    {
      "cell_type": "code",
      "metadata": {
        "id": "Fi64z2sUCkIU",
        "colab": {
          "base_uri": "https://localhost:8080/",
          "height": 85
        },
        "outputId": "0d601846-f584-4cc1-9d94-a86089c9cc0e"
      },
      "source": [
        "# split the data into a training set and a validation set\n",
        "VALIDATION_SPLIT = 0.25\n",
        "indices =np.arange(tweets_pad.shape[0])\n",
        "np.random.shuffle(indices)\n",
        "tweets_pad=tweets_pad[indices]\n",
        "target=target[indices]\n",
        "num_validation_samples=int(VALIDATION_SPLIT*tweets_pad.shape[0])\n",
        "\n",
        "# training set\n",
        "X_train_pad=tweets_pad[:-num_validation_samples]\n",
        "y_train=target[:-num_validation_samples]\n",
        "\n",
        "# validation set\n",
        "X_test_pad=tweets_pad[-num_validation_samples:]\n",
        "y_test=target[-num_validation_samples:]\n",
        "\n",
        "print('shape of X_train_pad tensor:', X_train_pad.shape)\n",
        "print('shape of y_train tensor:', y_train.shape)\n",
        "\n",
        "print('shape of X_test_pad tensor:', X_test_pad.shape)\n",
        "print('shape of y_test tensor:', y_test.shape)"
      ],
      "execution_count": null,
      "outputs": [
        {
          "output_type": "stream",
          "text": [
            "shape of X_train_pad tensor: (5709, 21)\n",
            "shape of y_train tensor: (5709,)\n",
            "shape of X_test_pad tensor: (1903, 21)\n",
            "shape of y_test tensor: (1903,)\n"
          ],
          "name": "stdout"
        }
      ]
    },
    {
      "cell_type": "code",
      "metadata": {
        "id": "7IksutWUIltf",
        "colab": {
          "base_uri": "https://localhost:8080/",
          "height": 136
        },
        "outputId": "bbfcda44-4aef-4f77-e25f-e48194f819a5"
      },
      "source": [
        "X_test_pad"
      ],
      "execution_count": null,
      "outputs": [
        {
          "output_type": "execute_result",
          "data": {
            "text/plain": [
              "array([[    0,     0,     0, ...,   263,   936, 10368],\n",
              "       [    0,     0,     0, ...,   164,   300,   164],\n",
              "       [    0,     0,     0, ...,   793,  2479, 10041],\n",
              "       ...,\n",
              "       [    0,     0,     0, ...,     5,   375,  1488],\n",
              "       [    0,     0,     0, ...,    28,  8375,  2523],\n",
              "       [    0,     0,     0, ...,   472,   688,    19]], dtype=int32)"
            ]
          },
          "metadata": {
            "tags": []
          },
          "execution_count": 78
        }
      ]
    },
    {
      "cell_type": "markdown",
      "metadata": {
        "id": "TIxY3EDu8A_z"
      },
      "source": [
        "https://machinelearningmastery.com/difference-between-a-batch-and-an-epoch/\n",
        "\n",
        "The batch size is a hyperparameter of gradient descent that controls the number of training samples to work through before the model’s internal parameters are updated.\n",
        "The number of epochs is a hyperparameter of gradient descent that controls the number of complete passes through the training dataset."
      ]
    },
    {
      "cell_type": "markdown",
      "metadata": {
        "id": "xHF_PreIU77K"
      },
      "source": [
        "## 3.2 - training model"
      ]
    },
    {
      "cell_type": "code",
      "metadata": {
        "id": "AXEK2vtjGV4G",
        "colab": {
          "base_uri": "https://localhost:8080/",
          "height": 901
        },
        "outputId": "c18477a2-a9de-4ca9-d33d-af2e732cf5c0"
      },
      "source": [
        "# train the classification model\n",
        "print('Training model...')\n",
        "history = model.fit(X_train_pad, y_train, batch_size=20, epochs=25, validation_data=(X_test_pad, y_test), verbose=2)"
      ],
      "execution_count": null,
      "outputs": [
        {
          "output_type": "stream",
          "text": [
            "Training model...\n",
            "Train on 5709 samples, validate on 1903 samples\n",
            "Epoch 1/25\n",
            "5709/5709 - 2s - loss: 0.6320 - accuracy: 0.6523 - val_loss: 0.5470 - val_accuracy: 0.7609\n",
            "Epoch 2/25\n",
            "5709/5709 - 1s - loss: 0.4280 - accuracy: 0.8378 - val_loss: 0.4602 - val_accuracy: 0.7882\n",
            "Epoch 3/25\n",
            "5709/5709 - 1s - loss: 0.2883 - accuracy: 0.8977 - val_loss: 0.4596 - val_accuracy: 0.7898\n",
            "Epoch 4/25\n",
            "5709/5709 - 1s - loss: 0.1998 - accuracy: 0.9345 - val_loss: 0.4764 - val_accuracy: 0.7940\n",
            "Epoch 5/25\n",
            "5709/5709 - 1s - loss: 0.1428 - accuracy: 0.9597 - val_loss: 0.5069 - val_accuracy: 0.7861\n",
            "Epoch 6/25\n",
            "5709/5709 - 1s - loss: 0.1078 - accuracy: 0.9667 - val_loss: 0.5338 - val_accuracy: 0.7793\n",
            "Epoch 7/25\n",
            "5709/5709 - 1s - loss: 0.0855 - accuracy: 0.9728 - val_loss: 0.5615 - val_accuracy: 0.7793\n",
            "Epoch 8/25\n",
            "5709/5709 - 1s - loss: 0.0709 - accuracy: 0.9781 - val_loss: 0.5928 - val_accuracy: 0.7677\n",
            "Epoch 9/25\n",
            "5709/5709 - 1s - loss: 0.0617 - accuracy: 0.9785 - val_loss: 0.6168 - val_accuracy: 0.7714\n",
            "Epoch 10/25\n",
            "5709/5709 - 1s - loss: 0.0549 - accuracy: 0.9792 - val_loss: 0.6406 - val_accuracy: 0.7761\n",
            "Epoch 11/25\n",
            "5709/5709 - 1s - loss: 0.0502 - accuracy: 0.9816 - val_loss: 0.6648 - val_accuracy: 0.7672\n",
            "Epoch 12/25\n",
            "5709/5709 - 1s - loss: 0.0465 - accuracy: 0.9821 - val_loss: 0.6854 - val_accuracy: 0.7614\n",
            "Epoch 13/25\n",
            "5709/5709 - 1s - loss: 0.0444 - accuracy: 0.9816 - val_loss: 0.7087 - val_accuracy: 0.7583\n",
            "Epoch 14/25\n",
            "5709/5709 - 1s - loss: 0.0414 - accuracy: 0.9820 - val_loss: 0.7254 - val_accuracy: 0.7583\n",
            "Epoch 15/25\n",
            "5709/5709 - 1s - loss: 0.0415 - accuracy: 0.9821 - val_loss: 0.7403 - val_accuracy: 0.7562\n",
            "Epoch 16/25\n",
            "5709/5709 - 1s - loss: 0.0398 - accuracy: 0.9809 - val_loss: 0.7612 - val_accuracy: 0.7588\n",
            "Epoch 17/25\n",
            "5709/5709 - 1s - loss: 0.0384 - accuracy: 0.9818 - val_loss: 0.7737 - val_accuracy: 0.7646\n",
            "Epoch 18/25\n",
            "5709/5709 - 1s - loss: 0.0377 - accuracy: 0.9811 - val_loss: 0.7894 - val_accuracy: 0.7604\n",
            "Epoch 19/25\n",
            "5709/5709 - 1s - loss: 0.0368 - accuracy: 0.9818 - val_loss: 0.8061 - val_accuracy: 0.7620\n",
            "Epoch 20/25\n",
            "5709/5709 - 1s - loss: 0.0363 - accuracy: 0.9816 - val_loss: 0.8166 - val_accuracy: 0.7588\n",
            "Epoch 21/25\n",
            "5709/5709 - 1s - loss: 0.0355 - accuracy: 0.9827 - val_loss: 0.8325 - val_accuracy: 0.7530\n",
            "Epoch 22/25\n",
            "5709/5709 - 1s - loss: 0.0348 - accuracy: 0.9828 - val_loss: 0.8480 - val_accuracy: 0.7572\n",
            "Epoch 23/25\n",
            "5709/5709 - 1s - loss: 0.0348 - accuracy: 0.9813 - val_loss: 0.8550 - val_accuracy: 0.7562\n",
            "Epoch 24/25\n",
            "5709/5709 - 1s - loss: 0.0340 - accuracy: 0.9828 - val_loss: 0.8666 - val_accuracy: 0.7567\n",
            "Epoch 25/25\n",
            "5709/5709 - 2s - loss: 0.0345 - accuracy: 0.9821 - val_loss: 0.8790 - val_accuracy: 0.7609\n"
          ],
          "name": "stdout"
        }
      ]
    },
    {
      "cell_type": "code",
      "metadata": {
        "id": "kMTKQMRRJpGk",
        "colab": {
          "base_uri": "https://localhost:8080/",
          "height": 553
        },
        "outputId": "c3664f2e-43b9-4613-8812-5a14e2f7876f"
      },
      "source": [
        "from pylab import rcParams\n",
        "rcParams['figure.figsize'] = 13, 9\n",
        "# plot loss during training\n",
        "pyplot.subplot(211)\n",
        "pyplot.title('Loss')\n",
        "pyplot.plot(history.history['loss'], label='train')\n",
        "pyplot.plot(history.history['val_loss'], label='test')\n",
        "pyplot.legend()\n",
        "# plot accuracy during training\n",
        "pyplot.subplot(212)\n",
        "pyplot.title('Accuracy')\n",
        "pyplot.plot(history.history['accuracy'], label='train')\n",
        "pyplot.plot(history.history['val_accuracy'], label='test')\n",
        "pyplot.legend()\n",
        "pyplot.show()"
      ],
      "execution_count": null,
      "outputs": [
        {
          "output_type": "display_data",
          "data": {
            "image/png": "[encoded data removed]",
            "text/plain": [
              "<Figure size 936x648 with 2 Axes>"
            ]
          },
          "metadata": {
            "tags": []
          }
        }
      ]
    },
    {
      "cell_type": "code",
      "metadata": {
        "id": "1EKp0c3tYgpo",
        "colab": {
          "base_uri": "https://localhost:8080/",
          "height": 51
        },
        "outputId": "61364130-e197-4dc2-b85f-7e3332d26de9"
      },
      "source": [
        "loss, accuracy = model.evaluate(X_train_pad, y_train, verbose=False)\n",
        "print(\"Training Accuracy: {:.4f}\".format(accuracy))\n",
        "loss, accuracy = model.evaluate(X_test_pad, y_test, verbose=False)\n",
        "print(\"Testing Accuracy:  {:.4f}\".format(accuracy))"
      ],
      "execution_count": null,
      "outputs": [
        {
          "output_type": "stream",
          "text": [
            "Training Accuracy: 0.9870\n",
            "Testing Accuracy:  0.7609\n"
          ],
          "name": "stdout"
        }
      ]
    },
    {
      "cell_type": "code",
      "metadata": {
        "id": "Kl5olMrmegdr"
      },
      "source": [
        "#loss, accuracy, f1_score, precision, recall = model.evaluate(X_test, ytest, verbose=0)"
      ],
      "execution_count": null,
      "outputs": []
    },
    {
      "cell_type": "markdown",
      "metadata": {
        "id": "qn-1ukl_xF1s"
      },
      "source": [
        "# 4 - validation - performance assessment"
      ]
    },
    {
      "cell_type": "code",
      "metadata": {
        "id": "KyjmIuweuZOm",
        "colab": {
          "base_uri": "https://localhost:8080/",
          "height": 51
        },
        "outputId": "d2486bf4-fce3-4c68-d909-6ed1384b7c8c"
      },
      "source": [
        "# make predictions transform output to right format\n",
        "y_pred = model.predict(X_test_pad)\n",
        "y_pred=y_pred.tolist()\n",
        "y_pred = [item[0] for item in y_pred]\n",
        "y_pred=np.array(y_pred)\n",
        "y_pred"
      ],
      "execution_count": null,
      "outputs": [
        {
          "output_type": "execute_result",
          "data": {
            "text/plain": [
              "array([7.12330919e-04, 9.99999642e-01, 2.79926389e-01, ...,\n",
              "       1.14773447e-05, 2.04064374e-04, 9.87583101e-02])"
            ]
          },
          "metadata": {
            "tags": []
          },
          "execution_count": 86
        }
      ]
    },
    {
      "cell_type": "code",
      "metadata": {
        "id": "3Y4CYelKu8Sl",
        "colab": {
          "base_uri": "https://localhost:8080/",
          "height": 554
        },
        "outputId": "27d1929c-a060-48ec-cdbf-c6a392a2fb0f"
      },
      "source": [
        "# plot probabilities distribution\n",
        "pred = pd.DataFrame(y_pred, columns=['preds'])\n",
        "pred.plot.hist()"
      ],
      "execution_count": null,
      "outputs": [
        {
          "output_type": "execute_result",
          "data": {
            "text/plain": [
              "<matplotlib.axes._subplots.AxesSubplot at 0x7f08b692e080>"
            ]
          },
          "metadata": {
            "tags": []
          },
          "execution_count": 87
        },
        {
          "output_type": "display_data",
          "data": {
            "image/png": "[encoded data removed]",
            "text/plain": [
              "<Figure size 936x648 with 1 Axes>"
            ]
          },
          "metadata": {
            "tags": []
          }
        }
      ]
    },
    {
      "cell_type": "code",
      "metadata": {
        "id": "P8qEfRhdxFgk"
      },
      "source": [
        "# round probabilities to get 0 and 1 labels\n",
        "y_pred_int = y_pred.round().astype('int')"
      ],
      "execution_count": null,
      "outputs": []
    },
    {
      "cell_type": "code",
      "metadata": {
        "id": "6pvi_E9FurWK",
        "colab": {
          "base_uri": "https://localhost:8080/",
          "height": 458
        },
        "outputId": "f30a6f8a-364d-4129-9c0b-63e013d8c961"
      },
      "source": [
        "# Showing Confusion Matrix for BERT model\n",
        "plot_cm(y_pred_int, y_test, 'Confusion matrix for neural network from scratch with Word2vec embeddings', figsize=(7,7))"
      ],
      "execution_count": null,
      "outputs": [
        {
          "output_type": "display_data",
          "data": {
            "image/png": "[encoded data removed]",
            "text/plain": [
              "<Figure size 504x504 with 2 Axes>"
            ]
          },
          "metadata": {
            "tags": []
          }
        }
      ]
    },
    {
      "cell_type": "markdown",
      "metadata": {
        "id": "KdsY5sCwUu2u"
      },
      "source": [
        "# 5 - predictions on unlabelled data"
      ]
    },
    {
      "cell_type": "code",
      "metadata": {
        "id": "UA8dONvO2n3e",
        "colab": {
          "base_uri": "https://localhost:8080/",
          "height": 85
        },
        "outputId": "bb325c7f-d63c-40c4-e0d2-8c51dca1083c"
      },
      "source": [
        "# load cleaned unlabelled dataset\n",
        "data=\"../gdrive/My Drive/colab/twitter_disaster/data/test_processed_data.csv\"\n",
        "df=pd.read_csv(data)\n",
        "#df.dropna(inplace=True)\n",
        "df.fillna('-', inplace=True)\n",
        "df.isna().sum()"
      ],
      "execution_count": null,
      "outputs": [
        {
          "output_type": "execute_result",
          "data": {
            "text/plain": [
              "id              0\n",
              "text            0\n",
              "cleaned_text    0\n",
              "dtype: int64"
            ]
          },
          "metadata": {
            "tags": []
          },
          "execution_count": 103
        }
      ]
    },
    {
      "cell_type": "code",
      "metadata": {
        "id": "pVtl19wH2n83",
        "colab": {
          "base_uri": "https://localhost:8080/",
          "height": 51
        },
        "outputId": "f14e3078-4ab5-49cd-e530-f3ca72059d6c"
      },
      "source": [
        "# build tokens\n",
        "tweets_lines=list()\n",
        "lines=df['cleaned_text'].values.tolist()\n",
        "for i in range(len(lines)):\n",
        "  line=lines[i]\n",
        "  # print(line)\n",
        "  tokens=word_tokenize(line)\n",
        "  tweets_lines.append(tokens)\n",
        "print('example:')\n",
        "tweets_lines[0]"
      ],
      "execution_count": null,
      "outputs": [
        {
          "output_type": "stream",
          "text": [
            "example:\n"
          ],
          "name": "stdout"
        },
        {
          "output_type": "execute_result",
          "data": {
            "text/plain": [
              "['car', 'crash', 'terrible', 'happen']"
            ]
          },
          "metadata": {
            "tags": []
          },
          "execution_count": 104
        }
      ]
    },
    {
      "cell_type": "code",
      "metadata": {
        "id": "N2023jSb7EfH",
        "colab": {
          "base_uri": "https://localhost:8080/",
          "height": 34
        },
        "outputId": "e530f2b0-c93e-48ba-92a0-8b93b6f0104a"
      },
      "source": [
        "len(tweets_lines)"
      ],
      "execution_count": null,
      "outputs": [
        {
          "output_type": "execute_result",
          "data": {
            "text/plain": [
              "3263"
            ]
          },
          "metadata": {
            "tags": []
          },
          "execution_count": 117
        }
      ]
    },
    {
      "cell_type": "code",
      "metadata": {
        "id": "cSAnSk5L7O1-",
        "colab": {
          "base_uri": "https://localhost:8080/",
          "height": 34
        },
        "outputId": "ae80de19-8ddb-4a01-94e7-1a18fb5022ff"
      },
      "source": [
        "tweets_pad.shape"
      ],
      "execution_count": null,
      "outputs": [
        {
          "output_type": "execute_result",
          "data": {
            "text/plain": [
              "(3263, 21)"
            ]
          },
          "metadata": {
            "tags": []
          },
          "execution_count": 119
        }
      ]
    },
    {
      "cell_type": "code",
      "metadata": {
        "id": "2jf53e8-zqnU",
        "colab": {
          "base_uri": "https://localhost:8080/",
          "height": 51
        },
        "outputId": "08ee5594-791e-4875-8151-58382b9b9e2d"
      },
      "source": [
        "# convert word embedding into tokenized vector\n",
        "tokenizer_obj = Tokenizer()\n",
        "tokenizer_obj.fit_on_texts(tweets_lines)\n",
        "sequences=tokenizer_obj.texts_to_sequences(tweets_lines)\n",
        "\n",
        "# pad sequences\n",
        "tweets=df['cleaned_text'].values\n",
        "max_length=21\n",
        "word_index = tokenizer_obj.word_index\n",
        "print('Found %s unique tokens.' % len(word_index))\n",
        "\n",
        "tweets_pad = pad_sequences(sequences, maxlen=max_length)\n",
        "#target = df['target'].values\n",
        "print('shape of tweet tensor:', tweets_pad.shape)"
      ],
      "execution_count": null,
      "outputs": [
        {
          "output_type": "stream",
          "text": [
            "Found 7105 unique tokens.\n",
            "shape of tweet tensor: (3263, 21)\n"
          ],
          "name": "stdout"
        }
      ]
    },
    {
      "cell_type": "code",
      "metadata": {
        "id": "Rs1libTiepdO",
        "colab": {
          "base_uri": "https://localhost:8080/",
          "height": 51
        },
        "outputId": "215986f6-54da-49a9-904a-c7426db62cd2"
      },
      "source": [
        "# make predictions\n",
        "y_pred = model.predict(tweets_pad)\n",
        "y_pred=y_pred.tolist()\n",
        "y_pred = [item[0] for item in y_pred]\n",
        "y_pred=np.array(y_pred)\n",
        "y_pred"
      ],
      "execution_count": null,
      "outputs": [
        {
          "output_type": "execute_result",
          "data": {
            "text/plain": [
              "array([0.50883663, 0.99999404, 0.9999342 , ..., 0.91844094, 0.07863143,\n",
              "       0.08595444])"
            ]
          },
          "metadata": {
            "tags": []
          },
          "execution_count": 121
        }
      ]
    },
    {
      "cell_type": "code",
      "metadata": {
        "id": "bIcEqbHp3vVn",
        "colab": {
          "base_uri": "https://localhost:8080/",
          "height": 554
        },
        "outputId": "cbd30ef6-e189-49d6-bc45-7fa603501ecd"
      },
      "source": [
        "# plot probabilities distribution\n",
        "pred = pd.DataFrame(y_pred, columns=['preds'])\n",
        "pred.plot.hist()"
      ],
      "execution_count": null,
      "outputs": [
        {
          "output_type": "execute_result",
          "data": {
            "text/plain": [
              "<matplotlib.axes._subplots.AxesSubplot at 0x7f08be870c50>"
            ]
          },
          "metadata": {
            "tags": []
          },
          "execution_count": 122
        },
        {
          "output_type": "display_data",
          "data": {
            "image/png": "[encoded data removed]",
            "text/plain": [
              "<Figure size 936x648 with 1 Axes>"
            ]
          },
          "metadata": {
            "tags": []
          }
        }
      ]
    },
    {
      "cell_type": "code",
      "metadata": {
        "id": "sSjL5Buo31tA"
      },
      "source": [
        "# round probabilities to get 0 and 1 labels\n",
        "y_pred_int = y_pred.round().astype('int')"
      ],
      "execution_count": null,
      "outputs": []
    },
    {
      "cell_type": "code",
      "metadata": {
        "id": "YL6QNN7M548f",
        "colab": {
          "base_uri": "https://localhost:8080/",
          "height": 34
        },
        "outputId": "3e03af52-f2e4-4ea6-eb02-75ac121546b6"
      },
      "source": [
        "y_pred_int.shape"
      ],
      "execution_count": null,
      "outputs": [
        {
          "output_type": "execute_result",
          "data": {
            "text/plain": [
              "(3263,)"
            ]
          },
          "metadata": {
            "tags": []
          },
          "execution_count": 125
        }
      ]
    },
    {
      "cell_type": "code",
      "metadata": {
        "id": "UYDrnq4933pd",
        "colab": {
          "base_uri": "https://localhost:8080/",
          "height": 68
        },
        "outputId": "5e8948c4-6987-42a9-df4a-58792e512af5"
      },
      "source": [
        "# check predictions\n",
        "predictions=pd.DataFrame(df['id'])\n",
        "predictions['target']=y_pred_int\n",
        "predictions['target'].value_counts()"
      ],
      "execution_count": null,
      "outputs": [
        {
          "output_type": "execute_result",
          "data": {
            "text/plain": [
              "0    1898\n",
              "1    1365\n",
              "Name: target, dtype: int64"
            ]
          },
          "metadata": {
            "tags": []
          },
          "execution_count": 126
        }
      ]
    },
    {
      "cell_type": "code",
      "metadata": {
        "id": "g7oq9UgN5aEa",
        "colab": {
          "base_uri": "https://localhost:8080/",
          "height": 34
        },
        "outputId": "8a741535-390d-421d-bc86-ab286efc90d3"
      },
      "source": [
        "predictions.shape"
      ],
      "execution_count": null,
      "outputs": [
        {
          "output_type": "execute_result",
          "data": {
            "text/plain": [
              "(3263, 2)"
            ]
          },
          "metadata": {
            "tags": []
          },
          "execution_count": 127
        }
      ]
    },
    {
      "cell_type": "code",
      "metadata": {
        "id": "8-MjbOZc5R3A"
      },
      "source": [
        "predictions.to_csv(\"../gdrive/My Drive/colab/twitter_disaster/submissions/predictions_NN_from_scratch.csv\", index=False, header=True)"
      ],
      "execution_count": null,
      "outputs": []
    },
    {
      "cell_type": "code",
      "metadata": {
        "id": "ek0aKfLC741i"
      },
      "source": [
        ""
      ],
      "execution_count": null,
      "outputs": []
    }
  ]
}